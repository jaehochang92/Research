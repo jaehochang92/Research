{
 "cells": [
  {
   "cell_type": "code",
   "execution_count": 162,
   "metadata": {},
   "outputs": [],
   "source": [
    "pcks <- c('haven', 'dplyr', 'stargazer', 'gsubfn', 'igraph', 'tidyr', 'xlsx', 'data.table', 'gmodels')\n",
    "pcks <- sapply(pcks, require, character.only = T)\n",
    "if(any(!pcks)) install.packages(names(pcks)[!pcks])"
   ]
  },
  {
   "cell_type": "code",
   "execution_count": 163,
   "metadata": {},
   "outputs": [
    {
     "data": {
      "text/plain": [
       "\n",
       "\tWelch Two Sample t-test\n",
       "\n",
       "data:  경제1 and 자유1\n",
       "t = -4.271, df = 704.16, p-value = 2.214e-05\n",
       "alternative hypothesis: true difference in means is not equal to 0\n",
       "95 percent confidence interval:\n",
       " -0.9289086 -0.3438358\n",
       "sample estimates:\n",
       "mean of x mean of y \n",
       " 5.617647  6.254019 \n"
      ]
     },
     "metadata": {},
     "output_type": "display_data"
    }
   ],
   "source": [
    "ge.20 = read_spss(\"2020.GE.Transformed update.sav\")\n",
    "ge.20 %>% filter(!is.na(Q24)) %>% {\n",
    "    경제1 <<- filter(., 경제더미new == 1) %>%\n",
    "    select(Q24)\n",
    "    자유1 <<- filter(., 자유더미 == 1) %>%\n",
    "    select(Q24)\n",
    "}\n",
    "t.test(경제1, 자유1)\n",
    "\n",
    "# select(Q24, 경제더미:경제더미new) %>% {\n",
    "#     t.test(Q24 ~ 경제더미new, data = .) %>% print\n",
    "#     t.test(Q24 ~ 자유더미, data = .) %>% print\n",
    "# }"
   ]
  },
  {
   "cell_type": "code",
   "execution_count": 178,
   "metadata": {},
   "outputs": [
    {
     "name": "stdout",
     "output_type": "stream",
     "text": [
      "\n",
      "% Error: Unrecognized object type.\n",
      "\n",
      "% Error: Unrecognized object type.\n"
     ]
    }
   ],
   "source": [
    "ge.20 %>% {\n",
    "    민주당 <<- select(., 민주당4회연속지지:민주당1회지지) %>%\n",
    "    rowSums\n",
    "    통합당 <<- select(., 한나라당4회연속지지:한나라당1회연속지지) %>%\n",
    "    rowSums\n",
    "}\n",
    "data.frame(Q24 = ge.20$Q24, \n",
    "           민주당 = factor(민주당, 0:4, c('skip', '지지변경', '2회동일', '3회동일', '4회연속')), \n",
    "           통합당 = factor(통합당, 0:4, c('skip', '지지변경', '2회동일', '3회동일', '4회연속'))) %>%\n",
    "{\n",
    "    민주당 <<- filter(., 민주당 != 'skip') %>% select(Q24, 민주당)\n",
    "    통합당 <<- filter(., 통합당 != 'skip') %>% select(Q24, 통합당)\n",
    "}\n",
    "\n",
    "\n",
    "{\n",
    "    민주당 %>% aov(Q24 ~ 민주당, data = .) %>% summary(.) %>% print\n",
    "    통합당 %>% aov(Q24 ~ 통합당, data = .) %>% summary(.) %>% print\n",
    "}\n",
    "\n",
    "# select(Q24, 민주당, 통합당)\n",
    "\n",
    "# select(Q24, 민주당 = with(ge.20, case_when(\n",
    "#     as.logical(민주당4회연속지지) ~ '4회연속지지',\n",
    "#     as.logical(민주당3회연속지지) ~ '3회연속지지',\n",
    "#     as.logical(민주당2회연속지지) ~ '2회연속지지',\n",
    "#     T ~ '1회지지'))\n",
    "#                 )"
   ]
  },
  {
   "cell_type": "code",
   "execution_count": 161,
   "metadata": {},
   "outputs": [],
   "source": [
    "ge.20 = read_spss(\"2020년 총선 유권자 인식조사_DATA(200511)-updated.SAV\")"
   ]
  },
  {
   "cell_type": "code",
   "execution_count": null,
   "metadata": {},
   "outputs": [],
   "source": [
    "dt = data.table('first' = ge.20$Q25 %>% as_factor,\n",
    "                'second' = ge.20$Q25_m2 %>% as_factor)\n",
    "ff <- function(s) strsplit(s, '_')[[1]] %>% sort %>% paste(collapse='_')\n",
    "\n",
    "ge.20$Q25_u <- dt %>% \n",
    "arrange(first, second) %>% \n",
    "unite(united) %>% \n",
    "apply(1, ff)\n",
    "# table %>% \n",
    "# {sort(., decreasing = T) / nrow(dt) * 100} %>%\n",
    "# as.data.frame"
   ]
  },
  {
   "cell_type": "code",
   "execution_count": null,
   "metadata": {},
   "outputs": [],
   "source": [
    "table(ge.20$Q25_u) %>% sort(T)\n",
    "named_labels = c(1:10, 0)\n",
    "names(named_labels) <- table(ge.20$Q25_u) %>% sort(T) %>% names\n",
    "ge.20 <- ge.20 %>% \n",
    "mutate(Q25_u = factor(Q25_u, levels = names(named_labels), labels = named_labels)) %>%\n",
    "mutate(Q25_u = labelled(Q25_u, labels = named_labels))\n",
    "\n",
    "ge.20$Q25_u %>% str\n",
    "ge.20$Q25_u %>% table"
   ]
  },
  {
   "cell_type": "code",
   "execution_count": 173,
   "metadata": {},
   "outputs": [],
   "source": [
    "write_sav(ge.20, '2020.GE.Transformed.sav')"
   ]
  },
  {
   "cell_type": "markdown",
   "metadata": {},
   "source": [
    "### 지지성향"
   ]
  },
  {
   "cell_type": "code",
   "execution_count": 3,
   "metadata": {},
   "outputs": [
    {
     "data": {
      "text/html": [
       "2001"
      ],
      "text/latex": [
       "2001"
      ],
      "text/markdown": [
       "2001"
      ],
      "text/plain": [
       "[1] 2001"
      ]
     },
     "metadata": {},
     "output_type": "display_data"
    }
   ],
   "source": [
    "dt = data.table('지지정당' = ge.20$Q36 %>% as_factor,\n",
    "                '반대정당' = ge.20$Q42 %>% as_factor)\n",
    "na.idx <- which(is.na(dt), arr.ind = T)\n",
    "na.idx[, 1] %>% unique"
   ]
  },
  {
   "cell_type": "code",
   "execution_count": 22,
   "metadata": {},
   "outputs": [],
   "source": [
    "ge.20$성향 = with(dt, case_when(\n",
    "    지지정당 == '있다' & 반대정당 == '있다' ~ '복합성향',\n",
    "    지지정당 == '있다' & 반대정당 == '없다' ~ '지지성향',\n",
    "    지지정당 == '없다' & 반대정당 == '있다' ~ '반대성향',\n",
    "    지지정당 == '없다' & 반대정당 == '없다' ~ '무성향',\n",
    "    is.na(지지정당) ~ 'NA'\n",
    "))"
   ]
  },
  {
   "cell_type": "markdown",
   "metadata": {},
   "source": [
    "### 수준 가져오기"
   ]
  },
  {
   "cell_type": "code",
   "execution_count": 23,
   "metadata": {},
   "outputs": [
    {
     "data": {
      "text/html": [
       "<table>\n",
       "<caption>A matrix: 4 × 5 of type dbl</caption>\n",
       "<thead>\n",
       "\t<tr><th></th><th scope=col>y.2016</th><th scope=col>y.2017</th><th scope=col>y.2018</th><th scope=col>y.2020</th><th scope=col></th></tr>\n",
       "</thead>\n",
       "<tbody>\n",
       "\t<tr><th scope=row>1796</th><td>1</td><td>1</td><td>1</td><td>  1</td><td>  0</td></tr>\n",
       "\t<tr><th scope=row>204</th><td>1</td><td>1</td><td>1</td><td>  0</td><td>  1</td></tr>\n",
       "\t<tr><th scope=row>1</th><td>0</td><td>0</td><td>0</td><td>  0</td><td>  4</td></tr>\n",
       "\t<tr><th scope=row></th><td>1</td><td>1</td><td>1</td><td>205</td><td>208</td></tr>\n",
       "</tbody>\n",
       "</table>\n"
      ],
      "text/latex": [
       "A matrix: 4 × 5 of type dbl\n",
       "\\begin{tabular}{r|lllll}\n",
       "  & y.2016 & y.2017 & y.2018 & y.2020 & \\\\\n",
       "\\hline\n",
       "\t1796 & 1 & 1 & 1 &   1 &   0\\\\\n",
       "\t204 & 1 & 1 & 1 &   0 &   1\\\\\n",
       "\t1 & 0 & 0 & 0 &   0 &   4\\\\\n",
       "\t & 1 & 1 & 1 & 205 & 208\\\\\n",
       "\\end{tabular}\n"
      ],
      "text/markdown": [
       "\n",
       "A matrix: 4 × 5 of type dbl\n",
       "\n",
       "| <!--/--> | y.2016 | y.2017 | y.2018 | y.2020 | <!----> |\n",
       "|---|---|---|---|---|---|\n",
       "| 1796 | 1 | 1 | 1 |   1 |   0 |\n",
       "| 204 | 1 | 1 | 1 |   0 |   1 |\n",
       "| 1 | 0 | 0 | 0 |   0 |   4 |\n",
       "| <!----> | 1 | 1 | 1 | 205 | 208 |\n",
       "\n"
      ],
      "text/plain": [
       "     y.2016 y.2017 y.2018 y.2020    \n",
       "1796 1      1      1        1      0\n",
       "204  1      1      1        0      1\n",
       "1    0      0      0        0      4\n",
       "     1      1      1      205    208"
      ]
     },
     "metadata": {},
     "output_type": "display_data"
    },
    {
     "data": {
      "text/html": [
       "<dl>\n",
       "\t<dt>$y.2016</dt>\n",
       "\t\t<dd><style>\n",
       ".list-inline {list-style: none; margin:0; padding: 0}\n",
       ".list-inline>li {display: inline-block}\n",
       ".list-inline>li:not(:last-child)::after {content: \"\\00b7\"; padding: 0 .5ex}\n",
       "</style>\n",
       "<ol class=list-inline><li>국민의당 후보</li><li>투표권이 없었음</li><li>새누리당 후보</li><li>더불어민주당 후보</li><li>투표하지 않았음</li><li>모름/무응답</li><li>무소속 후보</li><li>정의당 후보</li><li>그 외 기타정당 후보</li><li>&lt;NA&gt;</li></ol>\n",
       "\n",
       "<details>\n",
       "\t<summary style=display:list-item;cursor:pointer>\n",
       "\t\t<strong>Levels</strong>:\n",
       "\t</summary>\n",
       "\t<style>\n",
       "\t.list-inline {list-style: none; margin:0; padding: 0}\n",
       "\t.list-inline>li {display: inline-block}\n",
       "\t.list-inline>li:not(:last-child)::after {content: \"\\00b7\"; padding: 0 .5ex}\n",
       "\t</style>\n",
       "\t<ol class=list-inline><li>'새누리당 후보'</li><li>'더불어민주당 후보'</li><li>'국민의당 후보'</li><li>'정의당 후보'</li><li>'그 외 기타정당 후보'</li><li>'무소속 후보'</li><li>'투표하지 않았음'</li><li>'투표권이 없었음'</li><li>'모름/무응답'</li></ol>\n",
       "</details></dd>\n",
       "\t<dt>$y.2017</dt>\n",
       "\t\t<dd><style>\n",
       ".list-inline {list-style: none; margin:0; padding: 0}\n",
       ".list-inline>li {display: inline-block}\n",
       ".list-inline>li:not(:last-child)::after {content: \"\\00b7\"; padding: 0 .5ex}\n",
       "</style>\n",
       "<ol class=list-inline><li>안철수</li><li>투표권이 없었음</li><li>문재인</li><li>투표하지 않았음</li><li>유승민</li><li>모름/무응답</li><li>심상정</li><li>홍준표</li><li>기타 후보</li><li>&lt;NA&gt;</li></ol>\n",
       "\n",
       "<details>\n",
       "\t<summary style=display:list-item;cursor:pointer>\n",
       "\t\t<strong>Levels</strong>:\n",
       "\t</summary>\n",
       "\t<style>\n",
       "\t.list-inline {list-style: none; margin:0; padding: 0}\n",
       "\t.list-inline>li {display: inline-block}\n",
       "\t.list-inline>li:not(:last-child)::after {content: \"\\00b7\"; padding: 0 .5ex}\n",
       "\t</style>\n",
       "\t<ol class=list-inline><li>'문재인'</li><li>'홍준표'</li><li>'안철수'</li><li>'유승민'</li><li>'심상정'</li><li>'기타 후보'</li><li>'투표하지 않았음'</li><li>'투표권이 없었음'</li><li>'모름/무응답'</li></ol>\n",
       "</details></dd>\n",
       "\t<dt>$y.2018</dt>\n",
       "\t\t<dd><style>\n",
       ".list-inline {list-style: none; margin:0; padding: 0}\n",
       ".list-inline>li {display: inline-block}\n",
       ".list-inline>li:not(:last-child)::after {content: \"\\00b7\"; padding: 0 .5ex}\n",
       "</style>\n",
       "<ol class=list-inline><li>더불어민주당 후보</li><li>무소속 후보</li><li>자유한국당 후보</li><li>모름/무응답</li><li>투표하지 않았음</li><li>투표권이 없었음</li><li>바른미래당 후보</li><li>민주평화당 후보</li><li>정의당 후보</li><li>기타정당 후보</li><li>&lt;NA&gt;</li></ol>\n",
       "\n",
       "<details>\n",
       "\t<summary style=display:list-item;cursor:pointer>\n",
       "\t\t<strong>Levels</strong>:\n",
       "\t</summary>\n",
       "\t<style>\n",
       "\t.list-inline {list-style: none; margin:0; padding: 0}\n",
       "\t.list-inline>li {display: inline-block}\n",
       "\t.list-inline>li:not(:last-child)::after {content: \"\\00b7\"; padding: 0 .5ex}\n",
       "\t</style>\n",
       "\t<ol class=list-inline><li>'더불어민주당 후보'</li><li>'자유한국당 후보'</li><li>'바른미래당 후보'</li><li>'민주평화당 후보'</li><li>'정의당 후보'</li><li>'기타정당 후보'</li><li>'무소속 후보'</li><li>'투표하지 않았음'</li><li>'투표권이 없었음'</li><li>'모름/무응답'</li></ol>\n",
       "</details></dd>\n",
       "\t<dt>$y.2020</dt>\n",
       "\t\t<dd><style>\n",
       ".list-inline {list-style: none; margin:0; padding: 0}\n",
       ".list-inline>li {display: inline-block}\n",
       ".list-inline>li:not(:last-child)::after {content: \"\\00b7\"; padding: 0 .5ex}\n",
       "</style>\n",
       "<ol class=list-inline><li>미래통합당 후보</li><li>더불어민주당 후보</li><li>그 외 정당 후보</li><li>&lt;NA&gt;</li><li>무소속 후보</li><li>정의당 후보</li><li>우리공화당 후보</li><li>민중당 후보</li><li>민생당 후보</li><li>친박신당 후보</li></ol>\n",
       "\n",
       "<details>\n",
       "\t<summary style=display:list-item;cursor:pointer>\n",
       "\t\t<strong>Levels</strong>:\n",
       "\t</summary>\n",
       "\t<style>\n",
       "\t.list-inline {list-style: none; margin:0; padding: 0}\n",
       "\t.list-inline>li {display: inline-block}\n",
       "\t.list-inline>li:not(:last-child)::after {content: \"\\00b7\"; padding: 0 .5ex}\n",
       "\t</style>\n",
       "\t<ol class=list-inline><li>'더불어민주당 후보'</li><li>'미래통합당 후보'</li><li>'민생당 후보'</li><li>'정의당 후보'</li><li>'우리공화당 후보'</li><li>'민중당 후보'</li><li>'친박신당 후보'</li><li>'그 외 정당 후보'</li><li>'무소속 후보'</li></ol>\n",
       "</details></dd>\n",
       "</dl>\n"
      ],
      "text/latex": [
       "\\begin{description}\n",
       "\\item[\\$y.2016] \\begin{enumerate*}\n",
       "\\item 국민의당 후보\n",
       "\\item 투표권이 없었음\n",
       "\\item 새누리당 후보\n",
       "\\item 더불어민주당 후보\n",
       "\\item 투표하지 않았음\n",
       "\\item 모름/무응답\n",
       "\\item 무소속 후보\n",
       "\\item 정의당 후보\n",
       "\\item 그 외 기타정당 후보\n",
       "\\item <NA>\n",
       "\\end{enumerate*}\n",
       "\n",
       "\\emph{Levels}: \\begin{enumerate*}\n",
       "\\item '새누리당 후보'\n",
       "\\item '더불어민주당 후보'\n",
       "\\item '국민의당 후보'\n",
       "\\item '정의당 후보'\n",
       "\\item '그 외 기타정당 후보'\n",
       "\\item '무소속 후보'\n",
       "\\item '투표하지 않았음'\n",
       "\\item '투표권이 없었음'\n",
       "\\item '모름/무응답'\n",
       "\\end{enumerate*}\n",
       "\n",
       "\\item[\\$y.2017] \\begin{enumerate*}\n",
       "\\item 안철수\n",
       "\\item 투표권이 없었음\n",
       "\\item 문재인\n",
       "\\item 투표하지 않았음\n",
       "\\item 유승민\n",
       "\\item 모름/무응답\n",
       "\\item 심상정\n",
       "\\item 홍준표\n",
       "\\item 기타 후보\n",
       "\\item <NA>\n",
       "\\end{enumerate*}\n",
       "\n",
       "\\emph{Levels}: \\begin{enumerate*}\n",
       "\\item '문재인'\n",
       "\\item '홍준표'\n",
       "\\item '안철수'\n",
       "\\item '유승민'\n",
       "\\item '심상정'\n",
       "\\item '기타 후보'\n",
       "\\item '투표하지 않았음'\n",
       "\\item '투표권이 없었음'\n",
       "\\item '모름/무응답'\n",
       "\\end{enumerate*}\n",
       "\n",
       "\\item[\\$y.2018] \\begin{enumerate*}\n",
       "\\item 더불어민주당 후보\n",
       "\\item 무소속 후보\n",
       "\\item 자유한국당 후보\n",
       "\\item 모름/무응답\n",
       "\\item 투표하지 않았음\n",
       "\\item 투표권이 없었음\n",
       "\\item 바른미래당 후보\n",
       "\\item 민주평화당 후보\n",
       "\\item 정의당 후보\n",
       "\\item 기타정당 후보\n",
       "\\item <NA>\n",
       "\\end{enumerate*}\n",
       "\n",
       "\\emph{Levels}: \\begin{enumerate*}\n",
       "\\item '더불어민주당 후보'\n",
       "\\item '자유한국당 후보'\n",
       "\\item '바른미래당 후보'\n",
       "\\item '민주평화당 후보'\n",
       "\\item '정의당 후보'\n",
       "\\item '기타정당 후보'\n",
       "\\item '무소속 후보'\n",
       "\\item '투표하지 않았음'\n",
       "\\item '투표권이 없었음'\n",
       "\\item '모름/무응답'\n",
       "\\end{enumerate*}\n",
       "\n",
       "\\item[\\$y.2020] \\begin{enumerate*}\n",
       "\\item 미래통합당 후보\n",
       "\\item 더불어민주당 후보\n",
       "\\item 그 외 정당 후보\n",
       "\\item <NA>\n",
       "\\item 무소속 후보\n",
       "\\item 정의당 후보\n",
       "\\item 우리공화당 후보\n",
       "\\item 민중당 후보\n",
       "\\item 민생당 후보\n",
       "\\item 친박신당 후보\n",
       "\\end{enumerate*}\n",
       "\n",
       "\\emph{Levels}: \\begin{enumerate*}\n",
       "\\item '더불어민주당 후보'\n",
       "\\item '미래통합당 후보'\n",
       "\\item '민생당 후보'\n",
       "\\item '정의당 후보'\n",
       "\\item '우리공화당 후보'\n",
       "\\item '민중당 후보'\n",
       "\\item '친박신당 후보'\n",
       "\\item '그 외 정당 후보'\n",
       "\\item '무소속 후보'\n",
       "\\end{enumerate*}\n",
       "\n",
       "\\end{description}\n"
      ],
      "text/markdown": [
       "$y.2016\n",
       ":   1. 국민의당 후보\n",
       "2. 투표권이 없었음\n",
       "3. 새누리당 후보\n",
       "4. 더불어민주당 후보\n",
       "5. 투표하지 않았음\n",
       "6. 모름/무응답\n",
       "7. 무소속 후보\n",
       "8. 정의당 후보\n",
       "9. 그 외 기타정당 후보\n",
       "10. &lt;NA&gt;\n",
       "\n",
       "\n",
       "\n",
       "**Levels**: 1. '새누리당 후보'\n",
       "2. '더불어민주당 후보'\n",
       "3. '국민의당 후보'\n",
       "4. '정의당 후보'\n",
       "5. '그 외 기타정당 후보'\n",
       "6. '무소속 후보'\n",
       "7. '투표하지 않았음'\n",
       "8. '투표권이 없었음'\n",
       "9. '모름/무응답'\n",
       "\n",
       "\n",
       "\n",
       "$y.2017\n",
       ":   1. 안철수\n",
       "2. 투표권이 없었음\n",
       "3. 문재인\n",
       "4. 투표하지 않았음\n",
       "5. 유승민\n",
       "6. 모름/무응답\n",
       "7. 심상정\n",
       "8. 홍준표\n",
       "9. 기타 후보\n",
       "10. &lt;NA&gt;\n",
       "\n",
       "\n",
       "\n",
       "**Levels**: 1. '문재인'\n",
       "2. '홍준표'\n",
       "3. '안철수'\n",
       "4. '유승민'\n",
       "5. '심상정'\n",
       "6. '기타 후보'\n",
       "7. '투표하지 않았음'\n",
       "8. '투표권이 없었음'\n",
       "9. '모름/무응답'\n",
       "\n",
       "\n",
       "\n",
       "$y.2018\n",
       ":   1. 더불어민주당 후보\n",
       "2. 무소속 후보\n",
       "3. 자유한국당 후보\n",
       "4. 모름/무응답\n",
       "5. 투표하지 않았음\n",
       "6. 투표권이 없었음\n",
       "7. 바른미래당 후보\n",
       "8. 민주평화당 후보\n",
       "9. 정의당 후보\n",
       "10. 기타정당 후보\n",
       "11. &lt;NA&gt;\n",
       "\n",
       "\n",
       "\n",
       "**Levels**: 1. '더불어민주당 후보'\n",
       "2. '자유한국당 후보'\n",
       "3. '바른미래당 후보'\n",
       "4. '민주평화당 후보'\n",
       "5. '정의당 후보'\n",
       "6. '기타정당 후보'\n",
       "7. '무소속 후보'\n",
       "8. '투표하지 않았음'\n",
       "9. '투표권이 없었음'\n",
       "10. '모름/무응답'\n",
       "\n",
       "\n",
       "\n",
       "$y.2020\n",
       ":   1. 미래통합당 후보\n",
       "2. 더불어민주당 후보\n",
       "3. 그 외 정당 후보\n",
       "4. &lt;NA&gt;\n",
       "5. 무소속 후보\n",
       "6. 정의당 후보\n",
       "7. 우리공화당 후보\n",
       "8. 민중당 후보\n",
       "9. 민생당 후보\n",
       "10. 친박신당 후보\n",
       "\n",
       "\n",
       "\n",
       "**Levels**: 1. '더불어민주당 후보'\n",
       "2. '미래통합당 후보'\n",
       "3. '민생당 후보'\n",
       "4. '정의당 후보'\n",
       "5. '우리공화당 후보'\n",
       "6. '민중당 후보'\n",
       "7. '친박신당 후보'\n",
       "8. '그 외 정당 후보'\n",
       "9. '무소속 후보'\n",
       "\n",
       "\n",
       "\n",
       "\n",
       "\n"
      ],
      "text/plain": [
       "$y.2016\n",
       " [1] 국민의당 후보       투표권이 없었음     새누리당 후보      \n",
       " [4] 더불어민주당 후보   투표하지 않았음     모름/무응답        \n",
       " [7] 무소속 후보         정의당 후보         그 외 기타정당 후보\n",
       "[10] <NA>               \n",
       "9 Levels: 새누리당 후보 더불어민주당 후보 국민의당 후보 ... 모름/무응답\n",
       "\n",
       "$y.2017\n",
       " [1] 안철수          투표권이 없었음 문재인          투표하지 않았음\n",
       " [5] 유승민          모름/무응답     심상정          홍준표         \n",
       " [9] 기타 후보       <NA>           \n",
       "9 Levels: 문재인 홍준표 안철수 유승민 심상정 기타 후보 ... 모름/무응답\n",
       "\n",
       "$y.2018\n",
       " [1] 더불어민주당 후보 무소속 후보       자유한국당 후보   모름/무응답      \n",
       " [5] 투표하지 않았음   투표권이 없었음   바른미래당 후보   민주평화당 후보  \n",
       " [9] 정의당 후보       기타정당 후보     <NA>             \n",
       "10 Levels: 더불어민주당 후보 자유한국당 후보 ... 모름/무응답\n",
       "\n",
       "$y.2020\n",
       " [1] 미래통합당 후보   더불어민주당 후보 그 외 정당 후보   <NA>             \n",
       " [5] 무소속 후보       정의당 후보       우리공화당 후보   민중당 후보      \n",
       " [9] 민생당 후보       친박신당 후보    \n",
       "9 Levels: 더불어민주당 후보 미래통합당 후보 민생당 후보 ... 무소속 후보\n"
      ]
     },
     "metadata": {},
     "output_type": "display_data"
    }
   ],
   "source": [
    "dt = data.table('y.2016' = ge.20$Q10 %>% as_factor,\n",
    "                'y.2017' = ge.20$Q12 %>% as_factor,\n",
    "                'y.2018' = ge.20$Q13 %>% as_factor,\n",
    "                'y.2020' = ge.20$Q6 %>% as_factor)\n",
    "dt %>% mice::md.pattern(plot = F)\n",
    "dt %>% sapply(unique)"
   ]
  },
  {
   "cell_type": "code",
   "execution_count": 24,
   "metadata": {},
   "outputs": [],
   "source": [
    "ge.20$민주당4회연속지지 = with(dt, case_when(\n",
    "    y.2016 == '더불어민주당 후보' & y.2017 == '문재인' & y.2018 == '더불어민주당 후보' & y.2020 == '더불어민주당 후보' ~ 1,\n",
    "    T ~ 0\n",
    "))\n",
    "ge.20$민주당3회연속지지 = with(dt, case_when(\n",
    "    y.2016 == '더불어민주당 후보' & y.2017 == '문재인' & y.2018 == '더불어민주당 후보' ~ 1,\n",
    "    y.2017 == '문재인' & y.2018 == '더불어민주당 후보' & y.2020 == '더불어민주당 후보' ~ 1,\n",
    "    T ~ 0\n",
    "))\n",
    "ge.20$민주당2회연속지지 = with(dt, case_when(\n",
    "    y.2016 == '더불어민주당 후보' & y.2017 == '문재인' ~ 1,\n",
    "    y.2017 == '문재인' & y.2018 == '더불어민주당 후보' ~ 1,\n",
    "    y.2018 == '더불어민주당 후보' & y.2020 == '더불어민주당 후보' ~ 1,\n",
    "    T ~ 0\n",
    "))\n",
    "ge.20$민주당1회지지 = with(dt, case_when(\n",
    "    y.2016 == '더불어민주당 후보' ~ 1,\n",
    "    y.2017 == '문재인' ~ 1,\n",
    "    y.2018 == '더불어민주당 후보' ~ 1,\n",
    "    y.2020 == '더불어민주당 후보' ~ 1,\n",
    "    T ~ 0\n",
    "))"
   ]
  },
  {
   "cell_type": "code",
   "execution_count": 27,
   "metadata": {},
   "outputs": [],
   "source": [
    "ge.20$한나라당4회연속지지 = with(dt, case_when(\n",
    "    y.2016 == '새누리당 후보' & y.2017 == '홍준표' & y.2018 == '자유한국당 후보' & y.2020 == '미래통합당 후보' ~ 1,\n",
    "    T ~ 0\n",
    "))\n",
    "ge.20$한나라당3회연속지지 = with(dt, case_when(\n",
    "    y.2016 == '새누리당 후보' & y.2017 == '홍준표' & y.2018 == '자유한국당 후보' ~ 1,\n",
    "    y.2017 == '홍준표' & y.2018 == '자유한국당 후보' & y.2020 == '미래통합당 후보' ~ 1,\n",
    "    T ~ 0\n",
    "))\n",
    "ge.20$한나라당2회연속지지 = with(dt, case_when(\n",
    "    y.2016 == '새누리당 후보' & y.2017 == '홍준표' ~ 1,\n",
    "    y.2017 == '홍준표' & y.2018 == '자유한국당 후보' ~ 1,\n",
    "    y.2018 == '자유한국당 후보' & y.2020 == '미래통합당 후보' ~ 1,\n",
    "    T ~ 0\n",
    "))\n",
    "ge.20$한나라당1회연속지지 = with(dt, case_when(\n",
    "    y.2016 == '새누리당 후보' ~ 1,\n",
    "    y.2017 == '홍준표' ~ 1,\n",
    "    y.2018 == '자유한국당 후보' ~ 1,\n",
    "    y.2020 == '미래통합당 후보' ~ 1,\n",
    "    T ~ 0\n",
    "))"
   ]
  },
  {
   "cell_type": "code",
   "execution_count": 36,
   "metadata": {},
   "outputs": [
    {
     "data": {
      "text/html": [
       "<table>\n",
       "<caption>A tibble: 2 × 8</caption>\n",
       "<thead>\n",
       "\t<tr><th scope=col>민주당4회연속지지</th><th scope=col>민주당3회연속지지</th><th scope=col>민주당2회연속지지</th><th scope=col>민주당1회지지</th><th scope=col>한나라당4회연속지지</th><th scope=col>한나라당3회연속지지</th><th scope=col>한나라당2회연속지지</th><th scope=col>한나라당1회연속지지</th></tr>\n",
       "\t<tr><th scope=col>&lt;table&gt;</th><th scope=col>&lt;table&gt;</th><th scope=col>&lt;table&gt;</th><th scope=col>&lt;table&gt;</th><th scope=col>&lt;table&gt;</th><th scope=col>&lt;table&gt;</th><th scope=col>&lt;table&gt;</th><th scope=col>&lt;table&gt;</th></tr>\n",
       "</thead>\n",
       "<tbody>\n",
       "\t<tr><td>1399</td><td>1191</td><td> 907</td><td> 553</td><td>1849</td><td>1819</td><td>1643</td><td>1276</td></tr>\n",
       "\t<tr><td> 602</td><td> 810</td><td>1094</td><td>1448</td><td> 152</td><td> 182</td><td> 358</td><td> 725</td></tr>\n",
       "</tbody>\n",
       "</table>\n"
      ],
      "text/latex": [
       "A tibble: 2 × 8\n",
       "\\begin{tabular}{llllllll}\n",
       " 민주당4회연속지지 & 민주당3회연속지지 & 민주당2회연속지지 & 민주당1회지지 & 한나라당4회연속지지 & 한나라당3회연속지지 & 한나라당2회연속지지 & 한나라당1회연속지지\\\\\n",
       " <table> & <table> & <table> & <table> & <table> & <table> & <table> & <table>\\\\\n",
       "\\hline\n",
       "\t 1399 & 1191 &  907 &  553 & 1849 & 1819 & 1643 & 1276\\\\\n",
       "\t  602 &  810 & 1094 & 1448 &  152 &  182 &  358 &  725\\\\\n",
       "\\end{tabular}\n"
      ],
      "text/markdown": [
       "\n",
       "A tibble: 2 × 8\n",
       "\n",
       "| 민주당4회연속지지 &lt;table&gt; | 민주당3회연속지지 &lt;table&gt; | 민주당2회연속지지 &lt;table&gt; | 민주당1회지지 &lt;table&gt; | 한나라당4회연속지지 &lt;table&gt; | 한나라당3회연속지지 &lt;table&gt; | 한나라당2회연속지지 &lt;table&gt; | 한나라당1회연속지지 &lt;table&gt; |\n",
       "|---|---|---|---|---|---|---|---|\n",
       "| 1399 | 1191 |  907 |  553 | 1849 | 1819 | 1643 | 1276 |\n",
       "|  602 |  810 | 1094 | 1448 |  152 |  182 |  358 |  725 |\n",
       "\n"
      ],
      "text/plain": [
       "  민주당4회연속지지 민주당3회연속지지 민주당2회연속지지 민주당1회지지\n",
       "1 1399              1191               907               553         \n",
       "2  602               810              1094              1448         \n",
       "  한나라당4회연속지지 한나라당3회연속지지 한나라당2회연속지지\n",
       "1 1849                1819                1643               \n",
       "2  152                 182                 358               \n",
       "  한나라당1회연속지지\n",
       "1 1276               \n",
       "2  725               "
      ]
     },
     "metadata": {},
     "output_type": "display_data"
    }
   ],
   "source": [
    "ge.20 %>% summarise_at(vars(민주당4회연속지지:한나라당1회연속지지), table)"
   ]
  },
  {
   "cell_type": "code",
   "execution_count": 37,
   "metadata": {},
   "outputs": [],
   "source": [
    "write_sav(ge.20, '2020.GE.Transformed.sav')"
   ]
  },
  {
   "cell_type": "code",
   "execution_count": 14,
   "metadata": {},
   "outputs": [
    {
     "data": {
      "text/plain": [
       ".\n",
       "더불어민주당 후보   미래통합당 후보       민생당 후보       정의당 후보 \n",
       "              801               100                17                33 \n",
       "  우리공화당 후보       민중당 후보     친박신당 후보   그 외 정당 후보 \n",
       "                1                 2                 0                 6 \n",
       "      무소속 후보 \n",
       "               23 "
      ]
     },
     "metadata": {},
     "output_type": "display_data"
    }
   ],
   "source": [
    "dt %>% filter(y.2018 == '더불어민주당 후보') %>% select(y.2020) %>% table"
   ]
  },
  {
   "cell_type": "markdown",
   "metadata": {},
   "source": [
    "dt = data.table('y.2016' = case_when(ge.20$Q10 == 1 ~ '보수', ge.20$Q10 == 2 ~ '진보', T ~ '기타') %>% factor,\n",
    "                'y.2017' = case_when(ge.20$Q12 == 1 ~ '진보', ge.20$Q12 == 2 ~ '보수', T ~ '기타') %>% factor,\n",
    "                'y.2018' = case_when(ge.20$Q13 == 1 ~ '진보', ge.20$Q13 == 2 ~ '보수', T ~ '기타') %>% factor,\n",
    "                'y.2020' =  case_when(ge.20$Q6 == 1 ~ '진보', ge.20$Q6 == 2 ~ '보수', T ~ '기타') %>% factor)"
   ]
  },
  {
   "cell_type": "code",
   "execution_count": 8,
   "metadata": {},
   "outputs": [],
   "source": [
    "ct.16.17 = dt %>% select(y.2016, y.2017) %>% table %>% as.data.frame\n",
    "ct.17.18 = dt %>% select(y.2017, y.2018) %>% table %>% as.data.frame\n",
    "ct.18.20 = dt %>% select(y.2018, y.2020) %>% table %>% as.data.frame"
   ]
  },
  {
   "cell_type": "code",
   "execution_count": 9,
   "metadata": {},
   "outputs": [],
   "source": [
    "links <- NULL\n",
    "for (dti in list(ct.16.17, ct.17.18, ct.18.20)) {\n",
    "    for (j in 1:2) dti[,j] <- gsub(' ', '.', dti[,j]) %>% paste(colnames(dti)[j], ., sep = '.')\n",
    "    colnames(dti) <- c('Source', 'Target', 'Value')\n",
    "    links <- rbind(links, dti)\n",
    "}\n",
    "\n",
    "nodes <- c(links$Source, links$Target) %>% unique %>% sort\n",
    "nodes <- factor(nodes) %>% data.frame(name = .)\n",
    "nodes$id <- nodes$name %>% labels\n",
    "# nodes <- data.frame(id = nodes$name %>% labels, name = nodes)\n",
    "links %>% arrange(Source, Target) %>% rename(From = Source, To = Target, Freq = Value) %>% write.xlsx('result.xlsx')"
   ]
  },
  {
   "cell_type": "code",
   "execution_count": 10,
   "metadata": {},
   "outputs": [],
   "source": [
    "substr.l <- function(x, n){\n",
    "  substr(x, n, nchar(x))\n",
    "}"
   ]
  },
  {
   "cell_type": "code",
   "execution_count": 11,
   "metadata": {},
   "outputs": [
    {
     "data": {
      "text/html": [
       "<style>\n",
       ".dl-inline {width: auto; margin:0; padding: 0}\n",
       ".dl-inline>dt, .dl-inline>dd {float: none; width: auto; display: inline-block}\n",
       ".dl-inline>dt::after {content: \":\\0020\"; padding-right: .5ex}\n",
       ".dl-inline>dt:not(:first-of-type) {padding-left: .5ex}\n",
       "</style><dl class=dl-inline><dt>1</dt><dd>'y.2016.새누리당.후보'</dd><dt>2</dt><dd>'y.2016.더불어민주당.후보'</dd><dt>3</dt><dd>'y.2016.국민의당.후보'</dd><dt>4</dt><dd>'y.2016.정의당.후보'</dd><dt>5</dt><dd>'y.2016.그.외.기타정당.후보'</dd><dt>6</dt><dd>'y.2016.무소속.후보'</dd><dt>7</dt><dd>'y.2016.투표하지.않았음'</dd><dt>8</dt><dd>'y.2016.투표권이.없었음'</dd><dt>9</dt><dd>'y.2016.모름/무응답'</dd><dt>10</dt><dd>'y.2017.문재인'</dd><dt>11</dt><dd>'y.2017.홍준표'</dd><dt>12</dt><dd>'y.2017.안철수'</dd><dt>13</dt><dd>'y.2017.유승민'</dd><dt>14</dt><dd>'y.2017.심상정'</dd><dt>15</dt><dd>'y.2017.기타.후보'</dd><dt>16</dt><dd>'y.2017.투표하지.않았음'</dd><dt>17</dt><dd>'y.2017.투표권이.없었음'</dd><dt>18</dt><dd>'y.2017.모름/무응답'</dd><dt>19</dt><dd>'y.2018.더불어민주당.후보'</dd><dt>20</dt><dd>'y.2018.자유한국당.후보'</dd><dt>21</dt><dd>'y.2018.바른미래당.후보'</dd><dt>22</dt><dd>'y.2018.민주평화당.후보'</dd><dt>23</dt><dd>'y.2018.정의당.후보'</dd><dt>24</dt><dd>'y.2018.기타정당.후보'</dd><dt>25</dt><dd>'y.2018.무소속.후보'</dd><dt>26</dt><dd>'y.2018.투표하지.않았음'</dd><dt>27</dt><dd>'y.2018.투표권이.없었음'</dd><dt>28</dt><dd>'y.2018.모름/무응답'</dd><dt>29</dt><dd>'y.2020.더불어민주당.후보'</dd><dt>30</dt><dd>'y.2020.미래통합당.후보'</dd><dt>31</dt><dd>'y.2020.민생당.후보'</dd><dt>32</dt><dd>'y.2020.정의당.후보'</dd><dt>33</dt><dd>'y.2020.우리공화당.후보'</dd><dt>34</dt><dd>'y.2020.민중당.후보'</dd><dt>35</dt><dd>'y.2020.친박신당.후보'</dd><dt>36</dt><dd>'y.2020.그.외.정당.후보'</dd><dt>37</dt><dd>'y.2020.무소속.후보'</dd></dl>\n"
      ],
      "text/latex": [
       "\\begin{description*}\n",
       "\\item[1] 'y.2016.새누리당.후보'\n",
       "\\item[2] 'y.2016.더불어민주당.후보'\n",
       "\\item[3] 'y.2016.국민의당.후보'\n",
       "\\item[4] 'y.2016.정의당.후보'\n",
       "\\item[5] 'y.2016.그.외.기타정당.후보'\n",
       "\\item[6] 'y.2016.무소속.후보'\n",
       "\\item[7] 'y.2016.투표하지.않았음'\n",
       "\\item[8] 'y.2016.투표권이.없었음'\n",
       "\\item[9] 'y.2016.모름/무응답'\n",
       "\\item[10] 'y.2017.문재인'\n",
       "\\item[11] 'y.2017.홍준표'\n",
       "\\item[12] 'y.2017.안철수'\n",
       "\\item[13] 'y.2017.유승민'\n",
       "\\item[14] 'y.2017.심상정'\n",
       "\\item[15] 'y.2017.기타.후보'\n",
       "\\item[16] 'y.2017.투표하지.않았음'\n",
       "\\item[17] 'y.2017.투표권이.없었음'\n",
       "\\item[18] 'y.2017.모름/무응답'\n",
       "\\item[19] 'y.2018.더불어민주당.후보'\n",
       "\\item[20] 'y.2018.자유한국당.후보'\n",
       "\\item[21] 'y.2018.바른미래당.후보'\n",
       "\\item[22] 'y.2018.민주평화당.후보'\n",
       "\\item[23] 'y.2018.정의당.후보'\n",
       "\\item[24] 'y.2018.기타정당.후보'\n",
       "\\item[25] 'y.2018.무소속.후보'\n",
       "\\item[26] 'y.2018.투표하지.않았음'\n",
       "\\item[27] 'y.2018.투표권이.없었음'\n",
       "\\item[28] 'y.2018.모름/무응답'\n",
       "\\item[29] 'y.2020.더불어민주당.후보'\n",
       "\\item[30] 'y.2020.미래통합당.후보'\n",
       "\\item[31] 'y.2020.민생당.후보'\n",
       "\\item[32] 'y.2020.정의당.후보'\n",
       "\\item[33] 'y.2020.우리공화당.후보'\n",
       "\\item[34] 'y.2020.민중당.후보'\n",
       "\\item[35] 'y.2020.친박신당.후보'\n",
       "\\item[36] 'y.2020.그.외.정당.후보'\n",
       "\\item[37] 'y.2020.무소속.후보'\n",
       "\\end{description*}\n"
      ],
      "text/markdown": [
       "1\n",
       ":   'y.2016.새누리당.후보'2\n",
       ":   'y.2016.더불어민주당.후보'3\n",
       ":   'y.2016.국민의당.후보'4\n",
       ":   'y.2016.정의당.후보'5\n",
       ":   'y.2016.그.외.기타정당.후보'6\n",
       ":   'y.2016.무소속.후보'7\n",
       ":   'y.2016.투표하지.않았음'8\n",
       ":   'y.2016.투표권이.없었음'9\n",
       ":   'y.2016.모름/무응답'10\n",
       ":   'y.2017.문재인'11\n",
       ":   'y.2017.홍준표'12\n",
       ":   'y.2017.안철수'13\n",
       ":   'y.2017.유승민'14\n",
       ":   'y.2017.심상정'15\n",
       ":   'y.2017.기타.후보'16\n",
       ":   'y.2017.투표하지.않았음'17\n",
       ":   'y.2017.투표권이.없었음'18\n",
       ":   'y.2017.모름/무응답'19\n",
       ":   'y.2018.더불어민주당.후보'20\n",
       ":   'y.2018.자유한국당.후보'21\n",
       ":   'y.2018.바른미래당.후보'22\n",
       ":   'y.2018.민주평화당.후보'23\n",
       ":   'y.2018.정의당.후보'24\n",
       ":   'y.2018.기타정당.후보'25\n",
       ":   'y.2018.무소속.후보'26\n",
       ":   'y.2018.투표하지.않았음'27\n",
       ":   'y.2018.투표권이.없었음'28\n",
       ":   'y.2018.모름/무응답'29\n",
       ":   'y.2020.더불어민주당.후보'30\n",
       ":   'y.2020.미래통합당.후보'31\n",
       ":   'y.2020.민생당.후보'32\n",
       ":   'y.2020.정의당.후보'33\n",
       ":   'y.2020.우리공화당.후보'34\n",
       ":   'y.2020.민중당.후보'35\n",
       ":   'y.2020.친박신당.후보'36\n",
       ":   'y.2020.그.외.정당.후보'37\n",
       ":   'y.2020.무소속.후보'\n",
       "\n"
      ],
      "text/plain": [
       "                           1                            2 \n",
       "      \"y.2016.새누리당.후보\"   \"y.2016.더불어민주당.후보\" \n",
       "                           3                            4 \n",
       "      \"y.2016.국민의당.후보\"         \"y.2016.정의당.후보\" \n",
       "                           5                            6 \n",
       "\"y.2016.그.외.기타정당.후보\"         \"y.2016.무소속.후보\" \n",
       "                           7                            8 \n",
       "    \"y.2016.투표하지.않았음\"     \"y.2016.투표권이.없었음\" \n",
       "                           9                           10 \n",
       "        \"y.2016.모름/무응답\"              \"y.2017.문재인\" \n",
       "                          11                           12 \n",
       "             \"y.2017.홍준표\"              \"y.2017.안철수\" \n",
       "                          13                           14 \n",
       "             \"y.2017.유승민\"              \"y.2017.심상정\" \n",
       "                          15                           16 \n",
       "          \"y.2017.기타.후보\"     \"y.2017.투표하지.않았음\" \n",
       "                          17                           18 \n",
       "    \"y.2017.투표권이.없었음\"         \"y.2017.모름/무응답\" \n",
       "                          19                           20 \n",
       "  \"y.2018.더불어민주당.후보\"     \"y.2018.자유한국당.후보\" \n",
       "                          21                           22 \n",
       "    \"y.2018.바른미래당.후보\"     \"y.2018.민주평화당.후보\" \n",
       "                          23                           24 \n",
       "        \"y.2018.정의당.후보\"       \"y.2018.기타정당.후보\" \n",
       "                          25                           26 \n",
       "        \"y.2018.무소속.후보\"     \"y.2018.투표하지.않았음\" \n",
       "                          27                           28 \n",
       "    \"y.2018.투표권이.없었음\"         \"y.2018.모름/무응답\" \n",
       "                          29                           30 \n",
       "  \"y.2020.더불어민주당.후보\"     \"y.2020.미래통합당.후보\" \n",
       "                          31                           32 \n",
       "        \"y.2020.민생당.후보\"         \"y.2020.정의당.후보\" \n",
       "                          33                           34 \n",
       "    \"y.2020.우리공화당.후보\"         \"y.2020.민중당.후보\" \n",
       "                          35                           36 \n",
       "      \"y.2020.친박신당.후보\"     \"y.2020.그.외.정당.후보\" \n",
       "                          37 \n",
       "        \"y.2020.무소속.후보\" "
      ]
     },
     "metadata": {},
     "output_type": "display_data"
    }
   ],
   "source": [
    "lvls <- c(links$Source, links$Target) %>% unique\n",
    "names(lvls) <- 1:length(lvls)\n",
    "lvls"
   ]
  },
  {
   "cell_type": "code",
   "execution_count": 13,
   "metadata": {},
   "outputs": [
    {
     "data": {
      "text/html": [
       "<table>\n",
       "<caption>A data.table: 0 × 4</caption>\n",
       "<thead>\n",
       "\t<tr><th scope=col>y.2016</th><th scope=col>y.2017</th><th scope=col>y.2018</th><th scope=col>y.2020</th></tr>\n",
       "\t<tr><th scope=col>&lt;fct&gt;</th><th scope=col>&lt;fct&gt;</th><th scope=col>&lt;fct&gt;</th><th scope=col>&lt;fct&gt;</th></tr>\n",
       "</thead>\n",
       "<tbody>\n",
       "</tbody>\n",
       "</table>\n"
      ],
      "text/latex": [
       "A data.table: 0 × 4\n",
       "\\begin{tabular}{llll}\n",
       " y.2016 & y.2017 & y.2018 & y.2020\\\\\n",
       " <fct> & <fct> & <fct> & <fct>\\\\\n",
       "\\hline\n",
       "\\end{tabular}\n"
      ],
      "text/markdown": [
       "\n",
       "A data.table: 0 × 4\n",
       "\n",
       "| y.2016 &lt;fct&gt; | y.2017 &lt;fct&gt; | y.2018 &lt;fct&gt; | y.2020 &lt;fct&gt; |\n",
       "|---|---|---|---|\n",
       "\n"
      ],
      "text/plain": [
       "     y.2016 y.2017 y.2018 y.2020"
      ]
     },
     "metadata": {},
     "output_type": "display_data"
    }
   ],
   "source": [
    "frqt <- dt %>% lapply(function(x) table(x) %>% as.list) %>% as.data.frame\n",
    "dt %>% filter(y.2018 == lvls[19])"
   ]
  },
  {
   "cell_type": "code",
   "execution_count": 27,
   "metadata": {},
   "outputs": [
    {
     "data": {
      "text/html": [
       "<table>\n",
       "<caption>A data.frame: 9 × 3</caption>\n",
       "<thead>\n",
       "\t<tr><th scope=col>Source</th><th scope=col>Target</th><th scope=col>Value</th></tr>\n",
       "\t<tr><th scope=col>&lt;chr&gt;</th><th scope=col>&lt;chr&gt;</th><th scope=col>&lt;int&gt;</th></tr>\n",
       "</thead>\n",
       "<tbody>\n",
       "\t<tr><td>y.2018.더불어민주당.후보</td><td>y.2020.더불어민주당.후보</td><td>801</td></tr>\n",
       "\t<tr><td>y.2018.더불어민주당.후보</td><td>y.2020.미래통합당.후보  </td><td>100</td></tr>\n",
       "\t<tr><td>y.2018.더불어민주당.후보</td><td>y.2020.민생당.후보      </td><td> 17</td></tr>\n",
       "\t<tr><td>y.2018.더불어민주당.후보</td><td>y.2020.정의당.후보      </td><td> 33</td></tr>\n",
       "\t<tr><td>y.2018.더불어민주당.후보</td><td>y.2020.우리공화당.후보  </td><td>  1</td></tr>\n",
       "\t<tr><td>y.2018.더불어민주당.후보</td><td>y.2020.민중당.후보      </td><td>  2</td></tr>\n",
       "\t<tr><td>y.2018.더불어민주당.후보</td><td>y.2020.친박신당.후보    </td><td>  0</td></tr>\n",
       "\t<tr><td>y.2018.더불어민주당.후보</td><td>y.2020.그.외.정당.후보  </td><td>  6</td></tr>\n",
       "\t<tr><td>y.2018.더불어민주당.후보</td><td>y.2020.무소속.후보      </td><td> 23</td></tr>\n",
       "</tbody>\n",
       "</table>\n"
      ],
      "text/latex": [
       "A data.frame: 9 × 3\n",
       "\\begin{tabular}{lll}\n",
       " Source & Target & Value\\\\\n",
       " <chr> & <chr> & <int>\\\\\n",
       "\\hline\n",
       "\t y.2018.더불어민주당.후보 & y.2020.더불어민주당.후보 & 801\\\\\n",
       "\t y.2018.더불어민주당.후보 & y.2020.미래통합당.후보   & 100\\\\\n",
       "\t y.2018.더불어민주당.후보 & y.2020.민생당.후보       &  17\\\\\n",
       "\t y.2018.더불어민주당.후보 & y.2020.정의당.후보       &  33\\\\\n",
       "\t y.2018.더불어민주당.후보 & y.2020.우리공화당.후보   &   1\\\\\n",
       "\t y.2018.더불어민주당.후보 & y.2020.민중당.후보       &   2\\\\\n",
       "\t y.2018.더불어민주당.후보 & y.2020.친박신당.후보     &   0\\\\\n",
       "\t y.2018.더불어민주당.후보 & y.2020.그.외.정당.후보   &   6\\\\\n",
       "\t y.2018.더불어민주당.후보 & y.2020.무소속.후보       &  23\\\\\n",
       "\\end{tabular}\n"
      ],
      "text/markdown": [
       "\n",
       "A data.frame: 9 × 3\n",
       "\n",
       "| Source &lt;chr&gt; | Target &lt;chr&gt; | Value &lt;int&gt; |\n",
       "|---|---|---|\n",
       "| y.2018.더불어민주당.후보 | y.2020.더불어민주당.후보 | 801 |\n",
       "| y.2018.더불어민주당.후보 | y.2020.미래통합당.후보   | 100 |\n",
       "| y.2018.더불어민주당.후보 | y.2020.민생당.후보       |  17 |\n",
       "| y.2018.더불어민주당.후보 | y.2020.정의당.후보       |  33 |\n",
       "| y.2018.더불어민주당.후보 | y.2020.우리공화당.후보   |   1 |\n",
       "| y.2018.더불어민주당.후보 | y.2020.민중당.후보       |   2 |\n",
       "| y.2018.더불어민주당.후보 | y.2020.친박신당.후보     |   0 |\n",
       "| y.2018.더불어민주당.후보 | y.2020.그.외.정당.후보   |   6 |\n",
       "| y.2018.더불어민주당.후보 | y.2020.무소속.후보       |  23 |\n",
       "\n"
      ],
      "text/plain": [
       "  Source                   Target                   Value\n",
       "1 y.2018.더불어민주당.후보 y.2020.더불어민주당.후보 801  \n",
       "2 y.2018.더불어민주당.후보 y.2020.미래통합당.후보   100  \n",
       "3 y.2018.더불어민주당.후보 y.2020.민생당.후보        17  \n",
       "4 y.2018.더불어민주당.후보 y.2020.정의당.후보        33  \n",
       "5 y.2018.더불어민주당.후보 y.2020.우리공화당.후보     1  \n",
       "6 y.2018.더불어민주당.후보 y.2020.민중당.후보         2  \n",
       "7 y.2018.더불어민주당.후보 y.2020.친박신당.후보       0  \n",
       "8 y.2018.더불어민주당.후보 y.2020.그.외.정당.후보     6  \n",
       "9 y.2018.더불어민주당.후보 y.2020.무소속.후보        23  "
      ]
     },
     "metadata": {},
     "output_type": "display_data"
    },
    {
     "data": {
      "text/html": [
       "983"
      ],
      "text/latex": [
       "983"
      ],
      "text/markdown": [
       "983"
      ],
      "text/plain": [
       "[1] 983"
      ]
     },
     "metadata": {},
     "output_type": "display_data"
    }
   ],
   "source": [
    "i = 19\n",
    "links %>% filter(Source == lvls[i])\n",
    "links %>% filter(Source == lvls[i]) %>% .$Value %>% sum"
   ]
  },
  {
   "cell_type": "code",
   "execution_count": 28,
   "metadata": {},
   "outputs": [
    {
     "data": {
      "text/html": [
       "<table>\n",
       "<caption>A data.frame: 1 × 1</caption>\n",
       "<thead>\n",
       "\t<tr><th scope=col>y.2018.더불어민주당.후보</th></tr>\n",
       "\t<tr><th scope=col>&lt;int&gt;</th></tr>\n",
       "</thead>\n",
       "<tbody>\n",
       "\t<tr><td>1055</td></tr>\n",
       "</tbody>\n",
       "</table>\n"
      ],
      "text/latex": [
       "A data.frame: 1 × 1\n",
       "\\begin{tabular}{l}\n",
       " y.2018.더불어민주당.후보\\\\\n",
       " <int>\\\\\n",
       "\\hline\n",
       "\t 1055\\\\\n",
       "\\end{tabular}\n"
      ],
      "text/markdown": [
       "\n",
       "A data.frame: 1 × 1\n",
       "\n",
       "| y.2018.더불어민주당.후보 &lt;int&gt; |\n",
       "|---|\n",
       "| 1055 |\n",
       "\n"
      ],
      "text/plain": [
       "  y.2018.더불어민주당.후보\n",
       "1 1055                    "
      ]
     },
     "metadata": {},
     "output_type": "display_data"
    },
    {
     "name": "stderr",
     "output_type": "stream",
     "text": [
      "from y.2018.더불어민주당.후보 to ?\n",
      "\n"
     ]
    },
    {
     "data": {
      "text/html": [
       "983"
      ],
      "text/latex": [
       "983"
      ],
      "text/markdown": [
       "983"
      ],
      "text/plain": [
       "[1] 983"
      ]
     },
     "metadata": {},
     "output_type": "display_data"
    },
    {
     "name": "stderr",
     "output_type": "stream",
     "text": [
      "from ? to y.2018.더불어민주당.후보\n",
      "\n"
     ]
    },
    {
     "data": {
      "text/html": [
       "1055"
      ],
      "text/latex": [
       "1055"
      ],
      "text/markdown": [
       "1055"
      ],
      "text/plain": [
       "[1] 1055"
      ]
     },
     "metadata": {},
     "output_type": "display_data"
    }
   ],
   "source": [
    "i = 19\n",
    "\n",
    "frqt[lvls[i]]\n",
    "t <- links %>% filter(Source == lvls[i]) %>% .[, -1]\n",
    "message(\"from \", lvls[i], ' to ?')\n",
    "t$Value %>% sum\n",
    "ans = paste(t$Target %>% substr.l(8), t$Value, sep = ' ')\n",
    "writeLines(ans %>% gsub('\\\\.', ' ', .), '0to.txt')\n",
    "t <- links %>% filter(Target == lvls[i]) %>% .[, -2]\n",
    "message(\"from ? to \", lvls[i])\n",
    "t$Value %>% sum\n",
    "ans = paste(t$Source %>% substr.l(8), t$Value, sep = ' ')\n",
    "writeLines(ans %>% gsub('\\\\.', ' ', .), '1from.txt')"
   ]
  },
  {
   "cell_type": "code",
   "execution_count": 13,
   "metadata": {},
   "outputs": [],
   "source": [
    "for (i in 1:nrow(links)) for (j in 1:2) {\n",
    "    links[i, j] <- nodes$id[nodes$name == links[i, j]] %>% as.numeric - 1\n",
    "}\n",
    "links <- links %>% mutate_at(vars(Source:Target), as.integer)\n",
    "nodes <- data.frame(nodes$name)"
   ]
  },
  {
   "cell_type": "code",
   "execution_count": 14,
   "metadata": {},
   "outputs": [
    {
     "data": {
      "text/html": [
       "<table>\n",
       "<caption>A data.frame: 2 × 3</caption>\n",
       "<thead>\n",
       "\t<tr><th></th><th scope=col>Source</th><th scope=col>Target</th><th scope=col>Value</th></tr>\n",
       "\t<tr><th></th><th scope=col>&lt;int&gt;</th><th scope=col>&lt;int&gt;</th><th scope=col>&lt;int&gt;</th></tr>\n",
       "</thead>\n",
       "<tbody>\n",
       "\t<tr><th scope=row>1</th><td>5</td><td>11</td><td> 91</td></tr>\n",
       "\t<tr><th scope=row>2</th><td>2</td><td>11</td><td>832</td></tr>\n",
       "</tbody>\n",
       "</table>\n"
      ],
      "text/latex": [
       "A data.frame: 2 × 3\n",
       "\\begin{tabular}{r|lll}\n",
       "  & Source & Target & Value\\\\\n",
       "  & <int> & <int> & <int>\\\\\n",
       "\\hline\n",
       "\t1 & 5 & 11 &  91\\\\\n",
       "\t2 & 2 & 11 & 832\\\\\n",
       "\\end{tabular}\n"
      ],
      "text/markdown": [
       "\n",
       "A data.frame: 2 × 3\n",
       "\n",
       "| <!--/--> | Source &lt;int&gt; | Target &lt;int&gt; | Value &lt;int&gt; |\n",
       "|---|---|---|---|\n",
       "| 1 | 5 | 11 |  91 |\n",
       "| 2 | 2 | 11 | 832 |\n",
       "\n"
      ],
      "text/plain": [
       "  Source Target Value\n",
       "1 5      11      91  \n",
       "2 2      11     832  "
      ]
     },
     "metadata": {},
     "output_type": "display_data"
    },
    {
     "data": {
      "text/html": [
       "<table>\n",
       "<caption>A data.frame: 2 × 1</caption>\n",
       "<thead>\n",
       "\t<tr><th></th><th scope=col>nodes.name</th></tr>\n",
       "\t<tr><th></th><th scope=col>&lt;fct&gt;</th></tr>\n",
       "</thead>\n",
       "<tbody>\n",
       "\t<tr><th scope=row>1</th><td>y.2016.국민의당.후보      </td></tr>\n",
       "\t<tr><th scope=row>2</th><td>y.2016.그.외.기타정당.후보</td></tr>\n",
       "</tbody>\n",
       "</table>\n"
      ],
      "text/latex": [
       "A data.frame: 2 × 1\n",
       "\\begin{tabular}{r|l}\n",
       "  & nodes.name\\\\\n",
       "  & <fct>\\\\\n",
       "\\hline\n",
       "\t1 & y.2016.국민의당.후보      \\\\\n",
       "\t2 & y.2016.그.외.기타정당.후보\\\\\n",
       "\\end{tabular}\n"
      ],
      "text/markdown": [
       "\n",
       "A data.frame: 2 × 1\n",
       "\n",
       "| <!--/--> | nodes.name &lt;fct&gt; |\n",
       "|---|---|\n",
       "| 1 | y.2016.국민의당.후보       |\n",
       "| 2 | y.2016.그.외.기타정당.후보 |\n",
       "\n"
      ],
      "text/plain": [
       "  nodes.name                \n",
       "1 y.2016.국민의당.후보      \n",
       "2 y.2016.그.외.기타정당.후보"
      ]
     },
     "metadata": {},
     "output_type": "display_data"
    }
   ],
   "source": [
    "links %>% head(2)\n",
    "nodes %>% head(2)"
   ]
  },
  {
   "cell_type": "code",
   "execution_count": 15,
   "metadata": {},
   "outputs": [
    {
     "name": "stderr",
     "output_type": "stream",
     "text": [
      "\n",
      "Attaching package: ‘htmlwidgets’\n",
      "\n",
      "\n",
      "The following object is masked from ‘package:networkD3’:\n",
      "\n",
      "    JS\n",
      "\n",
      "\n"
     ]
    }
   ],
   "source": [
    "library(networkD3)\n",
    "library(htmlwidgets) \n",
    "# Thus we can plot it\n",
    "p <- sankeyNetwork(Links = links, Nodes = nodes, Source = \"Source\",\n",
    "              Target = \"Target\", Value = \"Value\", NodeID = \"nodes.name\",\n",
    "              fontSize = 12, nodeWidth = 30, fontFamily = 'AppleMyungjo')\n",
    "saveWidget(p, file = \"sankey.ge.20.html\")"
   ]
  }
 ],
 "metadata": {
  "kernelspec": {
   "display_name": "R",
   "language": "R",
   "name": "ir"
  },
  "language_info": {
   "codemirror_mode": "r",
   "file_extension": ".r",
   "mimetype": "text/x-r-source",
   "name": "R",
   "pygments_lexer": "r",
   "version": "4.0.3"
  }
 },
 "nbformat": 4,
 "nbformat_minor": 4
}
