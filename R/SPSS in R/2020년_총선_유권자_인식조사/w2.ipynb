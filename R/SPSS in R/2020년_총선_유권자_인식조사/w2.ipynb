{
 "cells": [
  {
   "cell_type": "code",
   "execution_count": 28,
   "metadata": {},
   "outputs": [],
   "source": [
    "pcks <- c('haven', 'dplyr', 'stargazer', 'gsubfn', 'igraph', 'tidyr', 'xlsx', 'data.table', 'gmodels')\n",
    "pcks <- sapply(pcks, require, character.only = T)\n",
    "if(any(!pcks)) install.packages(names(pcks)[!pcks])\n",
    "ge.20 = read_spss(\"2020정당지지안정성 변수추가.sav\")"
   ]
  },
  {
   "cell_type": "markdown",
   "metadata": {},
   "source": [
    "### 지지성향"
   ]
  },
  {
   "cell_type": "code",
   "execution_count": 29,
   "metadata": {},
   "outputs": [],
   "source": [
    "dt = data.table('지지정당유무' = ge.20$Q36 %>% as_factor,\n",
    "                '지지정당' = ge.20$Q37 %>% as_factor,\n",
    "                '민주당강도' = ge.20$Q44 %>% as.numeric,\n",
    "                '통합당강도' = ge.20$Q44_n2 %>% as.numeric)\n",
    "na.idx <- which(is.na(dt), arr.ind = T)"
   ]
  },
  {
   "cell_type": "code",
   "execution_count": 30,
   "metadata": {},
   "outputs": [
    {
     "data": {
      "text/html": [
       "<table>\n",
       "<caption>A data.table: 6 × 4</caption>\n",
       "<thead>\n",
       "\t<tr><th scope=col>지지정당유무</th><th scope=col>지지정당</th><th scope=col>민주당강도</th><th scope=col>통합당강도</th></tr>\n",
       "\t<tr><th scope=col>&lt;fct&gt;</th><th scope=col>&lt;fct&gt;</th><th scope=col>&lt;dbl&gt;</th><th scope=col>&lt;dbl&gt;</th></tr>\n",
       "</thead>\n",
       "<tbody>\n",
       "\t<tr><td>있다</td><td>국민의당    </td><td>5</td><td>5</td></tr>\n",
       "\t<tr><td>있다</td><td>미래통합당  </td><td>0</td><td>7</td></tr>\n",
       "\t<tr><td>있다</td><td>더불어민주당</td><td>8</td><td>0</td></tr>\n",
       "\t<tr><td>없다</td><td>NA          </td><td>8</td><td>1</td></tr>\n",
       "\t<tr><td>있다</td><td>더불어민주당</td><td>9</td><td>0</td></tr>\n",
       "\t<tr><td>있다</td><td>더불어민주당</td><td>9</td><td>3</td></tr>\n",
       "</tbody>\n",
       "</table>\n"
      ],
      "text/latex": [
       "A data.table: 6 × 4\n",
       "\\begin{tabular}{llll}\n",
       " 지지정당유무 & 지지정당 & 민주당강도 & 통합당강도\\\\\n",
       " <fct> & <fct> & <dbl> & <dbl>\\\\\n",
       "\\hline\n",
       "\t 있다 & 국민의당     & 5 & 5\\\\\n",
       "\t 있다 & 미래통합당   & 0 & 7\\\\\n",
       "\t 있다 & 더불어민주당 & 8 & 0\\\\\n",
       "\t 없다 & NA           & 8 & 1\\\\\n",
       "\t 있다 & 더불어민주당 & 9 & 0\\\\\n",
       "\t 있다 & 더불어민주당 & 9 & 3\\\\\n",
       "\\end{tabular}\n"
      ],
      "text/markdown": [
       "\n",
       "A data.table: 6 × 4\n",
       "\n",
       "| 지지정당유무 &lt;fct&gt; | 지지정당 &lt;fct&gt; | 민주당강도 &lt;dbl&gt; | 통합당강도 &lt;dbl&gt; |\n",
       "|---|---|---|---|\n",
       "| 있다 | 국민의당     | 5 | 5 |\n",
       "| 있다 | 미래통합당   | 0 | 7 |\n",
       "| 있다 | 더불어민주당 | 8 | 0 |\n",
       "| 없다 | NA           | 8 | 1 |\n",
       "| 있다 | 더불어민주당 | 9 | 0 |\n",
       "| 있다 | 더불어민주당 | 9 | 3 |\n",
       "\n"
      ],
      "text/plain": [
       "  지지정당유무 지지정당     민주당강도 통합당강도\n",
       "1 있다         국민의당     5          5         \n",
       "2 있다         미래통합당   0          7         \n",
       "3 있다         더불어민주당 8          0         \n",
       "4 없다         NA           8          1         \n",
       "5 있다         더불어민주당 9          0         \n",
       "6 있다         더불어민주당 9          3         "
      ]
     },
     "metadata": {},
     "output_type": "display_data"
    }
   ],
   "source": [
    "dt %>% head"
   ]
  },
  {
   "cell_type": "code",
   "execution_count": 31,
   "metadata": {},
   "outputs": [],
   "source": [
    "ge.20$지지양상 = with(dt, case_when(\n",
    "    지지정당유무 == '없다' ~ '무당파',\n",
    "    지지정당 == '더불어민주당' & 민주당강도 <= 5 ~ '약한 민주당',\n",
    "    지지정당 == '더불어민주당' & 민주당강도 > 5 ~ '강한 민주당',\n",
    "    지지정당 == '미래통합당' & 통합당강도 <= 5 ~ '약한 통합당',\n",
    "    지지정당 == '미래통합당' & 통합당강도 > 5 ~ '강한 통합당',\n",
    "    T ~ 'NA'\n",
    "))"
   ]
  },
  {
   "cell_type": "code",
   "execution_count": 32,
   "metadata": {},
   "outputs": [],
   "source": [
    "ge.20 %>% write_sav('2020정당지지안정성 변수추가2.sav')"
   ]
  }
 ],
 "metadata": {
  "kernelspec": {
   "display_name": "R",
   "language": "R",
   "name": "ir"
  },
  "language_info": {
   "codemirror_mode": "r",
   "file_extension": ".r",
   "mimetype": "text/x-r-source",
   "name": "R",
   "pygments_lexer": "r",
   "version": "4.0.2"
  }
 },
 "nbformat": 4,
 "nbformat_minor": 4
}
