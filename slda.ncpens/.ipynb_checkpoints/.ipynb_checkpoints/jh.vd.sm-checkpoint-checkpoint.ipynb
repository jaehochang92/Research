{
 "cells": [
  {
   "cell_type": "code",
   "execution_count": null,
   "metadata": {},
   "outputs": [],
   "source": [
    "rm(list = ls())\n",
    "source(\"./init.R\")\n",
    "\n",
    "set.seed(20200710)\n",
    "dms = c(50, 200, 800, 1600)[]\n",
    "qs = c(5, 10)\n",
    "\n",
    "n.sim = 2e2\n",
    "n.vec = 50 * 2 ^ (0:5)[]\n",
    "\n",
    "p.vec1 = c(1, 1) / 2 # balanced\n",
    "p.vec2 = c(2, 1) / 3 # unbalanced\n",
    "\n",
    "p.list = list(p.vec1, p.vec2)\n",
    "\n",
    "crs = detectCores()\n",
    "cl <- makeCluster(crs - 0)\n",
    "registerDoParallel(cl)\n",
    "log <- file(\"log.txt\", open = \"wt\")\n",
    "options(repr.plot.width = 30, repr.plot.height = 15)\n",
    "for (q in qs[2]) {\n",
    "    for (dm in dms[]) {\n",
    "        b.vec = c((-1)^(1:q), rep(0, dm - q))\n",
    "        s.mat1 = diag(1, dm, dm)\n",
    "        s.mat2 = 0.5^abs(outer(1:dm, 1:dm, \"-\"))\n",
    "        s.list = list(s.mat1, s.mat2)\n",
    "        for (s.mat in s.list[]) {\n",
    "            cs.mat = t(chol(s.mat))\n",
    "#             foreach(p.vec = p.list[[1]], .combine = list) %dopar%\n",
    "#                 b.vec = con.bayes.fun(p.vec, b.vec, s.mat)\n",
    "#                 file.name <- fn$identity(\"tmp/s.`s.mat[1, 3]`.p1.`round(p.vec[1],digits=2)`.dm.`dm`.q.`q`\")\n",
    "#                 sink(log, type = \"output\", append = T)\n",
    "#                 cat(fn$identity(\"`timestamp(prefix = '', suffix = '', quiet = T)`: Busy doing ... `file.name`\\n\"))\n",
    "#                 sink(type = \"output\")\n",
    "#                 sim.result <- do.sim(0)\n",
    "#                 save.image(fn$identity(\"`file.name`_sm.vd.Rdata\"))\n",
    "            for (p.vec in p.list[]) {\n",
    "              b.vec = con.bayes.fun(p.vec, b.vec, s.mat)\n",
    "              file.name <- fn$identity(\"q.`q`.dm.`dm`.s.`s.mat[1, 3]`.p1.`round(p.vec[1],digits=2)`\")\n",
    "              sink(log, type = \"output\", append = T)\n",
    "              cat(fn$identity(\"`timestamp(prefix = '', suffix = '', quiet = T)`: Busy doing ... `file.name`\\n\"))\n",
    "              sink(type = \"output\")\n",
    "              sim.result <- do.sim(0)\n",
    "              save.image(fn$identity(\"tmp/`file.name`_sm.vd.Rdata\"))\n",
    "            }\n",
    "        }\n",
    "    }\n",
    "}\n",
    "stopImplicitCluster()"
   ]
  },
  {
   "cell_type": "code",
   "execution_count": null,
   "metadata": {},
   "outputs": [],
   "source": [
    "colnames(sim.result$res)"
   ]
  }
 ],
 "metadata": {
  "kernelspec": {
   "display_name": "R",
   "language": "R",
   "name": "ir"
  },
  "language_info": {
   "codemirror_mode": "r",
   "file_extension": ".r",
   "mimetype": "text/x-r-source",
   "name": "R",
   "pygments_lexer": "r",
   "version": "3.6.1"
  }
 },
 "nbformat": 4,
 "nbformat_minor": 4
}
