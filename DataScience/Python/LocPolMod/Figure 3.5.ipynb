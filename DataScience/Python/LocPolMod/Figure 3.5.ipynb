{
 "cells": [
  {
   "cell_type": "markdown",
   "metadata": {},
   "source": [
    "# Figure 3.5 - Variable Order Approximation\n",
    "\n",
    "### Design"
   ]
  },
  {
   "cell_type": "code",
   "execution_count": 1,
   "metadata": {},
   "outputs": [],
   "source": [
    "import time as tm\n",
    "import numpy as np"
   ]
  },
  {
   "cell_type": "code",
   "execution_count": 2,
   "metadata": {},
   "outputs": [
    {
     "data": {
      "text/plain": [
       "([1, 2, 3, 4, 5, 6, 7, 8, 9, 10], 0.00017189979553222656)"
      ]
     },
     "execution_count": 2,
     "metadata": {},
     "output_type": "execute_result"
    }
   ],
   "source": [
    "t0 = tm.time()\n",
    "a = [i for i in np.arange(1,10+1)]\n",
    "t1 = tm.time()\n",
    "a, t1-t0"
   ]
  },
  {
   "cell_type": "code",
   "execution_count": 3,
   "metadata": {
    "scrolled": true
   },
   "outputs": [
    {
     "data": {
      "text/plain": [
       "((200, 1), (200, 1))"
      ]
     },
     "execution_count": 3,
     "metadata": {},
     "output_type": "execute_result"
    }
   ],
   "source": [
    "sample_n = 200\n",
    "X = sorted(np.random.uniform(-2,2,sample_n))\n",
    "X = np.reshape(X,(sample_n,1))\n",
    "m = lambda x : x + 2*np.exp(-16*x**2)\n",
    "Y = m(X) + np.reshape(np.random.normal(0,.5,sample_n),(sample_n,1))\n",
    "X.shape, Y.shape"
   ]
  },
  {
   "cell_type": "markdown",
   "metadata": {},
   "source": [
    "### functions"
   ]
  },
  {
   "cell_type": "code",
   "execution_count": 6,
   "metadata": {},
   "outputs": [],
   "source": [
    "Kh = lambda u,h : 3*(1-(u/h)**2)/4 * (1>=(u/h)**2)\n",
    "\n",
    "mm2 = lambda A,B : np.matmul(A,B)\n",
    "mm3 = lambda A,B,C : mm2(mm2(A,B),C)\n",
    "mt = lambda A : np.transpose(A)\n",
    "miv = lambda A : np.linalg.inv(A)\n",
    "\n",
    "def mxgen(nr,nc,FUN) :\n",
    "    r, c = np.arange(1,nr+1)[:,None], np.arange(1,nc+1)\n",
    "    return(FUN(r,c))"
   ]
  },
  {
   "cell_type": "code",
   "execution_count": 7,
   "metadata": {
    "scrolled": true
   },
   "outputs": [
    {
     "data": {
      "text/plain": [
       "(101, 4)"
      ]
     },
     "execution_count": 7,
     "metadata": {},
     "output_type": "execute_result"
    }
   ],
   "source": [
    "def estm(h,p,estm_Y,estm_X,estm_x0) :\n",
    "    FUN = lambda i,j : ((estm_X[i-1,:1] - estm_x0)**(j - 1)).squeeze()\n",
    "    bf_X = mxgen(sample_n, p + 1, FUN)\n",
    "    W = np.diag(Kh(estm_X - estm_x0,h).squeeze())\n",
    "    Sn = mm3(mt(bf_X),W,bf_X)\n",
    "    hatbeta = mm2(miv(Sn), mm3(mt(bf_X),W,estm_Y))\n",
    "    return(hatbeta)\n",
    "estm(.2,3,Y,X,0)\n",
    "def estm_v(h,p,estm_Y,estm_X,estm_x0v) :\n",
    "    return(np.asarray([estm(h,p,estm_Y,estm_X,xj).squeeze() for xj in estm_x0v]))\n",
    "\n",
    "estm_v(.2,3,Y,X,np.linspace(-1.5,1.5,101)).shape"
   ]
  },
  {
   "cell_type": "markdown",
   "metadata": {},
   "source": [
    "$\\left(\\begin{array}{cccc} \\hat{\\beta}_0(x_1) & \\hat{\\beta}_1(x_1) & \\cdots & \\hat{\\beta}_p(x_1) \\\\\n",
    "\\vdots & \\vdots & \\vdots & \\vdots \\\\\n",
    "\\hat{\\beta}_0(x_J) & \\hat{\\beta}_1(x_J) & \\cdots & \\hat{\\beta}_p(x_J)\n",
    "\\end{array} \\right)_{J\\,\\times\\,(p+1)}$"
   ]
  },
  {
   "cell_type": "code",
   "execution_count": 9,
   "metadata": {},
   "outputs": [
    {
     "ename": "ValueError",
     "evalue": "operands could not be broadcast together with shapes (200,1) (4,2) ",
     "output_type": "error",
     "traceback": [
      "\u001b[0;31m---------------------------------------------------------------------------\u001b[0m",
      "\u001b[0;31mValueError\u001b[0m                                Traceback (most recent call last)",
      "\u001b[0;32m<ipython-input-9-f1c73e7f27fa>\u001b[0m in \u001b[0;36m<module>\u001b[0;34m\u001b[0m\n\u001b[1;32m     31\u001b[0m \u001b[0;31m#     return(bnu^2 + Vnu)\u001b[0m\u001b[0;34m\u001b[0m\u001b[0;34m\u001b[0m\u001b[0;34m\u001b[0m\u001b[0m\n\u001b[1;32m     32\u001b[0m \u001b[0;34m\u001b[0m\u001b[0m\n\u001b[0;32m---> 33\u001b[0;31m \u001b[0mMSE\u001b[0m\u001b[0;34m(\u001b[0m\u001b[0;36m0\u001b[0m\u001b[0;34m,\u001b[0m \u001b[0;36m.3\u001b[0m\u001b[0;34m,\u001b[0m \u001b[0;36m0\u001b[0m\u001b[0;34m,\u001b[0m \u001b[0;36m3\u001b[0m\u001b[0;34m,\u001b[0m \u001b[0mX\u001b[0m\u001b[0;34m,\u001b[0m \u001b[0mY\u001b[0m\u001b[0;34m)\u001b[0m\u001b[0;34m\u001b[0m\u001b[0;34m\u001b[0m\u001b[0m\n\u001b[0m\u001b[1;32m     34\u001b[0m \u001b[0;31m# MSE = Vectorize(MSE,'MSE_x0')\u001b[0m\u001b[0;34m\u001b[0m\u001b[0;34m\u001b[0m\u001b[0;34m\u001b[0m\u001b[0m\n\u001b[1;32m     35\u001b[0m \u001b[0;31m# MSE = Vectorize(MSE,'MSE_p')\u001b[0m\u001b[0;34m\u001b[0m\u001b[0;34m\u001b[0m\u001b[0;34m\u001b[0m\u001b[0m\n",
      "\u001b[0;32m<ipython-input-9-f1c73e7f27fa>\u001b[0m in \u001b[0;36mMSE\u001b[0;34m(MSE_x0, MSE_h, MSE_nu, MSE_p, MSE_X, MSE_Y, a)\u001b[0m\n\u001b[1;32m     17\u001b[0m     \u001b[0mbeta_a\u001b[0m \u001b[0;34m=\u001b[0m \u001b[0mestm\u001b[0m\u001b[0;34m(\u001b[0m\u001b[0mMSE_h\u001b[0m\u001b[0;34m,\u001b[0m\u001b[0mMSE_p\u001b[0m\u001b[0;34m+\u001b[0m\u001b[0ma\u001b[0m\u001b[0;34m,\u001b[0m\u001b[0mMSE_Y\u001b[0m\u001b[0;34m,\u001b[0m\u001b[0mMSE_X\u001b[0m\u001b[0;34m,\u001b[0m\u001b[0mMSE_x0\u001b[0m\u001b[0;34m)\u001b[0m\u001b[0;34m\u001b[0m\u001b[0;34m\u001b[0m\u001b[0m\n\u001b[1;32m     18\u001b[0m     tmp1 = mxgen(MSE_p+1,a,\n\u001b[0;32m---> 19\u001b[0;31m                  lambda i,j : Snj(MSE_p+i+j-1)*(not(MSE_p+i+j-1 in np.linspace(MSE_p+a+1,MSE_p+a+MSE_p,MSE_p))))\n\u001b[0m\u001b[1;32m     20\u001b[0m \u001b[0;31m#     tmp2 = beta_a[(MSE_p+2-1):(MSE_p+a+1)]\u001b[0m\u001b[0;34m\u001b[0m\u001b[0;34m\u001b[0m\u001b[0;34m\u001b[0m\u001b[0m\n\u001b[1;32m     21\u001b[0m \u001b[0;31m#     bias = mm(mm(miv(Sn),tmp1),tmp2)\u001b[0m\u001b[0;34m\u001b[0m\u001b[0;34m\u001b[0m\u001b[0;34m\u001b[0m\u001b[0m\n",
      "\u001b[0;32m<ipython-input-6-7c71dd3e7759>\u001b[0m in \u001b[0;36mmxgen\u001b[0;34m(nr, nc, FUN)\u001b[0m\n\u001b[1;32m      8\u001b[0m \u001b[0;32mdef\u001b[0m \u001b[0mmxgen\u001b[0m\u001b[0;34m(\u001b[0m\u001b[0mnr\u001b[0m\u001b[0;34m,\u001b[0m\u001b[0mnc\u001b[0m\u001b[0;34m,\u001b[0m\u001b[0mFUN\u001b[0m\u001b[0;34m)\u001b[0m \u001b[0;34m:\u001b[0m\u001b[0;34m\u001b[0m\u001b[0;34m\u001b[0m\u001b[0m\n\u001b[1;32m      9\u001b[0m     \u001b[0mr\u001b[0m\u001b[0;34m,\u001b[0m \u001b[0mc\u001b[0m \u001b[0;34m=\u001b[0m \u001b[0mnp\u001b[0m\u001b[0;34m.\u001b[0m\u001b[0marange\u001b[0m\u001b[0;34m(\u001b[0m\u001b[0;36m1\u001b[0m\u001b[0;34m,\u001b[0m\u001b[0mnr\u001b[0m\u001b[0;34m+\u001b[0m\u001b[0;36m1\u001b[0m\u001b[0;34m)\u001b[0m\u001b[0;34m[\u001b[0m\u001b[0;34m:\u001b[0m\u001b[0;34m,\u001b[0m\u001b[0;32mNone\u001b[0m\u001b[0;34m]\u001b[0m\u001b[0;34m,\u001b[0m \u001b[0mnp\u001b[0m\u001b[0;34m.\u001b[0m\u001b[0marange\u001b[0m\u001b[0;34m(\u001b[0m\u001b[0;36m1\u001b[0m\u001b[0;34m,\u001b[0m\u001b[0mnc\u001b[0m\u001b[0;34m+\u001b[0m\u001b[0;36m1\u001b[0m\u001b[0;34m)\u001b[0m\u001b[0;34m\u001b[0m\u001b[0;34m\u001b[0m\u001b[0m\n\u001b[0;32m---> 10\u001b[0;31m     \u001b[0;32mreturn\u001b[0m\u001b[0;34m(\u001b[0m\u001b[0mFUN\u001b[0m\u001b[0;34m(\u001b[0m\u001b[0mr\u001b[0m\u001b[0;34m,\u001b[0m\u001b[0mc\u001b[0m\u001b[0;34m)\u001b[0m\u001b[0;34m)\u001b[0m\u001b[0;34m\u001b[0m\u001b[0;34m\u001b[0m\u001b[0m\n\u001b[0m",
      "\u001b[0;32m<ipython-input-9-f1c73e7f27fa>\u001b[0m in \u001b[0;36m<lambda>\u001b[0;34m(i, j)\u001b[0m\n\u001b[1;32m     17\u001b[0m     \u001b[0mbeta_a\u001b[0m \u001b[0;34m=\u001b[0m \u001b[0mestm\u001b[0m\u001b[0;34m(\u001b[0m\u001b[0mMSE_h\u001b[0m\u001b[0;34m,\u001b[0m\u001b[0mMSE_p\u001b[0m\u001b[0;34m+\u001b[0m\u001b[0ma\u001b[0m\u001b[0;34m,\u001b[0m\u001b[0mMSE_Y\u001b[0m\u001b[0;34m,\u001b[0m\u001b[0mMSE_X\u001b[0m\u001b[0;34m,\u001b[0m\u001b[0mMSE_x0\u001b[0m\u001b[0;34m)\u001b[0m\u001b[0;34m\u001b[0m\u001b[0;34m\u001b[0m\u001b[0m\n\u001b[1;32m     18\u001b[0m     tmp1 = mxgen(MSE_p+1,a,\n\u001b[0;32m---> 19\u001b[0;31m                  lambda i,j : Snj(MSE_p+i+j-1)*(not(MSE_p+i+j-1 in np.linspace(MSE_p+a+1,MSE_p+a+MSE_p,MSE_p))))\n\u001b[0m\u001b[1;32m     20\u001b[0m \u001b[0;31m#     tmp2 = beta_a[(MSE_p+2-1):(MSE_p+a+1)]\u001b[0m\u001b[0;34m\u001b[0m\u001b[0;34m\u001b[0m\u001b[0;34m\u001b[0m\u001b[0m\n\u001b[1;32m     21\u001b[0m \u001b[0;31m#     bias = mm(mm(miv(Sn),tmp1),tmp2)\u001b[0m\u001b[0;34m\u001b[0m\u001b[0;34m\u001b[0m\u001b[0;34m\u001b[0m\u001b[0m\n",
      "\u001b[0;32m<ipython-input-9-f1c73e7f27fa>\u001b[0m in \u001b[0;36m<lambda>\u001b[0;34m(j)\u001b[0m\n\u001b[1;32m      7\u001b[0m     \u001b[0mMSE_Kh\u001b[0m \u001b[0;34m=\u001b[0m \u001b[0;32mlambda\u001b[0m \u001b[0mu\u001b[0m \u001b[0;34m:\u001b[0m \u001b[0mKh\u001b[0m\u001b[0;34m(\u001b[0m\u001b[0mu\u001b[0m\u001b[0;34m,\u001b[0m\u001b[0mh\u001b[0m \u001b[0;34m=\u001b[0m \u001b[0mMSE_h\u001b[0m\u001b[0;34m)\u001b[0m\u001b[0;34m\u001b[0m\u001b[0;34m\u001b[0m\u001b[0m\n\u001b[1;32m      8\u001b[0m \u001b[0;34m\u001b[0m\u001b[0m\n\u001b[0;32m----> 9\u001b[0;31m     \u001b[0mSnj\u001b[0m \u001b[0;34m=\u001b[0m \u001b[0;32mlambda\u001b[0m \u001b[0mj\u001b[0m \u001b[0;34m:\u001b[0m \u001b[0msum\u001b[0m\u001b[0;34m(\u001b[0m\u001b[0mMSE_Kh\u001b[0m\u001b[0;34m(\u001b[0m\u001b[0mMSE_X\u001b[0m \u001b[0;34m-\u001b[0m \u001b[0mMSE_x0\u001b[0m\u001b[0;34m)\u001b[0m\u001b[0;34m*\u001b[0m\u001b[0;34m(\u001b[0m\u001b[0mMSE_X\u001b[0m \u001b[0;34m-\u001b[0m \u001b[0mMSE_x0\u001b[0m\u001b[0;34m)\u001b[0m\u001b[0;34m**\u001b[0m\u001b[0mj\u001b[0m\u001b[0;34m)\u001b[0m\u001b[0;34m\u001b[0m\u001b[0;34m\u001b[0m\u001b[0m\n\u001b[0m\u001b[1;32m     10\u001b[0m \u001b[0;31m#     Snj = np.vectorize(Snj)\u001b[0m\u001b[0;34m\u001b[0m\u001b[0;34m\u001b[0m\u001b[0;34m\u001b[0m\u001b[0m\n\u001b[1;32m     11\u001b[0m \u001b[0;31m# #     ---------\u001b[0m\u001b[0;34m\u001b[0m\u001b[0;34m\u001b[0m\u001b[0;34m\u001b[0m\u001b[0m\n",
      "\u001b[0;31mValueError\u001b[0m: operands could not be broadcast together with shapes (200,1) (4,2) "
     ]
    }
   ],
   "source": [
    "# MSE ---------------------------------------------------------------------\n",
    "\n",
    "def MSE(MSE_x0,MSE_h,MSE_nu,MSE_p,MSE_X,MSE_Y,a=2) :\n",
    "#     MSE_x0 = 0 ; MSE_h = .3 ; MSE_nu = 0 ; MSE_p = 3 ; MSE_X = X ; MSE_Y = Y\n",
    "\n",
    "#     functions\n",
    "    MSE_Kh = lambda u : Kh(u,h = MSE_h)\n",
    "\n",
    "    Snj = lambda j : sum(MSE_Kh(MSE_X - MSE_x0)*(MSE_X - MSE_x0)**j)\n",
    "#     Snj = np.vectorize(Snj)\n",
    "# #     ---------\n",
    "    FUN = lambda i,j : ((MSE_X[i-1]-MSE_x0)**(j-1)).squeeze()\n",
    "    bf_X = mxgen(sample_n, MSE_p+1, FUN)\n",
    "    W = np.diag(MSE_Kh(MSE_X - MSE_x0).squeeze())\n",
    "    Sn = mm3(mt(bf_X),W,bf_X)\n",
    "    bf_X_a = mxgen(sample_n, MSE_p+a+1, FUN)\n",
    "    beta_a = estm(MSE_h,MSE_p+a,MSE_Y,MSE_X,MSE_x0)\n",
    "    tmp1 = mxgen(MSE_p+1,a,\n",
    "                 lambda i,j : Snj(MSE_p+i+j-1)*(not(MSE_p+i+j-1 in np.linspace(MSE_p+a+1,MSE_p+a+MSE_p,MSE_p))))\n",
    "#     tmp2 = beta_a[(MSE_p+2-1):(MSE_p+a+1)]\n",
    "#     bias = mm(mm(miv(Sn),tmp1),tmp2)\n",
    "#     bnu = bias[MSE_nu]\n",
    "#     hY = estm_v(MSE_h,MSE_p,MSE_Y,MSE_X,MSE_X)[:,0:1]\n",
    "\n",
    "#     sgsqn = np.sum((MSE_Y - hY)**2*MSE_Kh(MSE_X - MSE_x0))\n",
    "#     sgsqdn = np.sum(np.diag(W - mm(\n",
    "#         mm(mm(W,bf_X_a),miv(mm(mm(mt(bf_X_a),W),bf_X_a))),mm(mt(bf_X_a),W)\n",
    "#     )))\n",
    "    return()\n",
    "#     Vnu = (chol2inv(chol(Sn)) %*% (t(bf_X) %*% W^2 %*% bf_X) %*% chol2inv(chol(Sn)))[MSE_nu+1,MSE_nu+1] * sgsq\n",
    "#     return(bnu^2 + Vnu)\n",
    "  \n",
    "MSE(0, .3, 0, 3, X, Y)\n",
    "# MSE = Vectorize(MSE,'MSE_x0')\n",
    "# MSE = Vectorize(MSE,'MSE_p')"
   ]
  },
  {
   "cell_type": "code",
   "execution_count": null,
   "metadata": {},
   "outputs": [],
   "source": [
    "ra=MSE_Y\n",
    "rb=estm_v(MSE_h,MSE_p,MSE_Y,MSE_X,MSE_X)[:,0:1]\n",
    "rb"
   ]
  },
  {
   "cell_type": "code",
   "execution_count": null,
   "metadata": {},
   "outputs": [],
   "source": [
    "not (MSE_p+2-1 in np.linspace(MSE_p+2+1,MSE_p+2+MSE_p,MSE_p))"
   ]
  },
  {
   "cell_type": "code",
   "execution_count": null,
   "metadata": {},
   "outputs": [],
   "source": [
    "# MSE ---------------------------------------------------------------------\n",
    "\n",
    "def MSE(MSE_x0,MSE_h,MSE_nu,MSE_p,\n",
    "        MSE_X,MSE_Y,a=2) :\n",
    "#     MSE_x0 = 0 ; MSE_h = .3 ; MSE_nu = 0 ; MSE_p = 3 ; MSE_X = X ; MSE_Y = Y\n",
    "\n",
    "#     functions\n",
    "    MSE_Kh = lambda u : Kh(u,h = MSE_h)\n",
    "\n",
    "    Snj = lambda j : sum(MSE_Kh(MSE_X - MSE_x0)*(MSE_X - MSE_x0)^j)\n",
    "    Snj = np.vectorize(Snj)\n",
    "#     ---------\n",
    "    bf_X = mxgen(sample_n, MSE_p+1, function(i, j, X_tmp = MSE_X, x0_tmp = MSE_x0){(X_tmp[i]-x0_tmp)^(j-1)})\n",
    "    W = diag(c(MSE_Kh(MSE_X-MSE_x0)))\n",
    "    Sn = t(bf_X) %*% W %*% bf_X\n",
    "    bf_X_a = mxgen(sample_n, MSE_p+a+1, function(i,j,X_tmp=MSE_X,x0_tmp=MSE_x0){(X_tmp[i]-x0_tmp)^(j-1)})\n",
    "    beta_a = estm(MSE_h,MSE_p+a,MSE_Y,MSE_X,MSE_x0)\n",
    "    bias = chol2inv(chol(Sn)) %*% \n",
    "    mxgen(MSE_p+1,a,function(i,j){Snj(MSE_p+i+j-1) * !((MSE_p+i+j-1) %in% (MSE_p+a+1):(MSE_p+a+MSE_p))}) %*% \n",
    "    beta_a[(MSE_p+2):(MSE_p+a+1),1]\n",
    "    bnu = bias[MSE_nu + 1]\n",
    "    hY = estm_v(MSE_h,MSE_p,MSE_Y,MSE_X,MSE_X)[1,]\n",
    "\n",
    "    sgsq = sum((MSE_Y - hY)^2*MSE_Kh(MSE_X - MSE_x0)) /\n",
    "    sum(diag(W - W %*% bf_X_a %*% chol2inv(chol(t(bf_X_a) %*% W %*% bf_X_a)) %*% t(bf_X_a) %*% W))\n",
    "    Vnu = (chol2inv(chol(Sn)) %*% (t(bf_X) %*% W^2 %*% bf_X) %*% chol2inv(chol(Sn)))[MSE_nu+1,MSE_nu+1] * sgsq\n",
    "    return(bnu^2 + Vnu)\n",
    "  \n",
    "MSE = Vectorize(MSE,'MSE_x0')\n",
    "MSE = Vectorize(MSE,'MSE_p')"
   ]
  },
  {
   "cell_type": "code",
   "execution_count": null,
   "metadata": {},
   "outputs": [],
   "source": [
    "# order selection ---------------------------------------------------------\n",
    "\n",
    "hv <- c(.2,.3,.4,.6)\n",
    "\n",
    "nu0 <- 0\n",
    "x.grd <- -1.8 + .036*(0:100)\n",
    "\n",
    "order_selector <- function(xj,R,h,os.X,os.Y,nu=nu0){\n",
    "  tmp <- MSE(xj,h,nu,(nu + 1):R,os.X,os.Y)\n",
    "  return(apply(tmp, 1, which.min))\n",
    "}\n",
    "\n",
    "setEPS()\n",
    "postscript('Fig-3-5(400).eps',height = 10)\n",
    "layout(matrix(c(1,1,2:5), 3, 2, byrow = TRUE))\n",
    "\n",
    "plot(X,Y, pch = 16, cex = .4)\n",
    "plot(function(u)m(u),-2,2,add = T)\n",
    "for(j in 1:4){\n",
    "  orders <- order_selector(xj = x.grd,nu = nu0,h = hv[j],R = 3,X,Y)\n",
    "  hY <- x.grd\n",
    "  for(i in 1:length(x.grd)){\n",
    "    hY[i] <- estm(hv[j],orders[i],Y,X,x.grd[i])[1]\n",
    "  };lines(x.grd,hY,lty=j+1)\n",
    "} ; legend('topleft',legend = c('true',paste('h=',hv,sep = '')),lty = 1:5)"
   ]
  },
  {
   "cell_type": "code",
   "execution_count": null,
   "metadata": {},
   "outputs": [],
   "source": [
    "# MADEr --------------------------------------------------------------------\n",
    "\n",
    "sim.size <- 400\n",
    "MADE <- function(a,b){abs(a-b)/sim.size}\n",
    "\n",
    "for (h0 in hv) {\n",
    "  MADE_adp <- MADE_f_lcs <- MADE_f_lln <- MADE_f_lqd <- MADE_f_lcb <- rep(0,length(x.grd))\n",
    "  simi <- 1\n",
    "  layout(matrix(c(1,2), ncol = 2))\n",
    "\n",
    "  while(simi < sim.size){\n",
    "    tic()\n",
    "    X <- runif(sample.n,-2,2)\n",
    "    Y <- m(X) + rnorm(sample.n,0,.5)\n",
    "    X <- as.matrix(X) ; Y <- as.matrix(Y)\n",
    "\n",
    "    possibleError <- tryCatch({\n",
    "      MADE_f_lcs <- MADE_f_lcs + MADE(estm.v(h = h0,p = 0,Y,X,x.grd),m(x.grd))\n",
    "      MADE_f_lln <- MADE_f_lln + MADE(estm.v(h = h0,p = 1,Y,X,x.grd)[1,],m(x.grd))\n",
    "      MADE_f_lqd <- MADE_f_lqd + MADE(estm.v(h = h0,p = 2,Y,X,x.grd)[1,],m(x.grd))\n",
    "      MADE_f_lcb <- MADE_f_lcb + MADE(estm.v(h = h0,p = 3,Y,X,x.grd)[1,],m(x.grd))\n",
    "\n",
    "      orders <- order_selector(xj = x.grd,h = h0,R = 3,X,Y)\n",
    "      hY <- x.grd\n",
    "      for(i in 1:length(x.grd)){hY[i] <- estm(h0,orders[i],Y,X,x.grd[i])[1]}\n",
    "      MADE_adp <- MADE_adp + MADE(hY,m(x.grd))\n",
    "      \n",
    "      plot(x.grd,MADE_f_lcs/MADE_adp,type = 'l',lty = 1,\n",
    "           main = paste('Ratio of MADE for h=.',h0,sep = ''),ylim = c(0,3))\n",
    "      lines(x.grd,MADE_f_lln/MADE_adp,lty = 2)\n",
    "      lines(x.grd,MADE_f_lqd/MADE_adp,lty = 3)\n",
    "      lines(x.grd,MADE_f_lcb/MADE_adp,lty = 4)\n",
    "      abline(h=1)\n",
    "      \n",
    "      simi <- simi + 1\n",
    "      print(simi/sim.size*100);toc()\n",
    "    }, error = function(e) {print(e)}\n",
    "    )\n",
    "    if(inherits(possibleError, \"error\")) {next}\n",
    "  }\n",
    "  l <- list(MADE_adp=MADE_adp,MADE_f_lcs=MADE_f_lcs,MADE_f_lln=MADE_f_lln,\n",
    "            MADE_f_lqd=MADE_f_lqd,MADE_f_lcb=MADE_f_lcb)\n",
    "  write.csv(l,paste('MADEr_h0',h0*10,'times',sim.size,'.csv',sep = ''))\n",
    "}\n",
    "\n",
    "for (hi in c(2,3,4,6)) {\n",
    "  l <- read.csv(paste('MADEr_h0',hi,'times400.csv',sep = ''))\n",
    "  plot(x.grd,l$MADE_f_lcs/l$MADE_adp,type = 'l',lty = 1,\n",
    "       main = paste('Ratio of MADE for h=.',hi,sep = ''),ylim = c(0,3))\n",
    "  lines(x.grd,l$MADE_f_lln/l$MADE_adp,lty = 2)\n",
    "  lines(x.grd,l$MADE_f_lqd/l$MADE_adp,lty = 3)\n",
    "  lines(x.grd,l$MADE_f_lcb/l$MADE_adp,lty = 4)\n",
    "  abline(h=1)\n",
    "}\n",
    "\n",
    "dev.off()"
   ]
  }
 ],
 "metadata": {
  "kernelspec": {
   "display_name": "Python 3",
   "language": "python",
   "name": "python3"
  },
  "language_info": {
   "codemirror_mode": {
    "name": "ipython",
    "version": 3
   },
   "file_extension": ".py",
   "mimetype": "text/x-python",
   "name": "python",
   "nbconvert_exporter": "python",
   "pygments_lexer": "ipython3",
   "version": "3.6.7"
  }
 },
 "nbformat": 4,
 "nbformat_minor": 2
}
