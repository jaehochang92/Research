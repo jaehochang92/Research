{
 "cells": [
  {
   "cell_type": "markdown",
   "metadata": {},
   "source": [
    "https://www.kaggle.com/charel/learn-by-example-expectation-maximization/notebook\n",
    "## Basic example of Expectation Maximization\n",
    "\n",
    "Let's try this on a simple basic example.\n",
    "\n",
    "Objective: Let's etimate the probability distribution in a 1-dimensional dataset\n",
    "\n",
    "* that we generated ourselves using 2 gaussian normal probability distributions.\n",
    "* Using a Gaussian mixture model with 2 normal gaussian distributions\n",
    "\n",
    "Or in other words, we should be able to find our own mean and standard deviation parameters we used to generate the testset."
   ]
  },
  {
   "cell_type": "markdown",
   "metadata": {},
   "source": [
    "## Gaussian Mixture Model of Gaussians\n",
    "J Normal distributions  $N(\\mu_1,\\sigma_1^2),\\cdots,N(\\mu_J,\\sigma_J^2)$\n",
    "\n",
    "Paramaters to estimate : $\\Theta=(w_1,\\cdots,w_{J-1},\\mu_1,\\cdots,\\mu_J,\\sigma_1^2,\\cdots,\\sigma_J^2)$\n",
    "\n",
    "The probability density function (PDF) of the mixture model is:\n",
    "\n",
    "$$f(x|\\Theta)=\\sum_{j=1}^Jw_jf(x|\\mu_j,\\sigma_j^2),~~\\sum_jw_j=1$$\n",
    " \n",
    "Objective is to best fit a given probability density by finding $\\hat{\\Theta}$ through EM iterations.\n",
    "\n",
    "Let's try the case $J=3$."
   ]
  },
  {
   "cell_type": "code",
   "execution_count": 17,
   "metadata": {},
   "outputs": [
    {
     "name": "stdout",
     "output_type": "stream",
     "text": [
      "import done\n"
     ]
    }
   ],
   "source": [
    "# import libraries\n",
    "\n",
    "# For plotting\n",
    "import matplotlib.pyplot as plt\n",
    "import seaborn as sns\n",
    "sns.set_style(\"white\")\n",
    "%matplotlib inline\n",
    "\n",
    "#for matrix math\n",
    "import numpy as np\n",
    "\n",
    "#for normalization + probability density function computation\n",
    "from scipy import stats\n",
    "\n",
    "#for data preprocessing\n",
    "import pandas as pd\n",
    "from math import sqrt, log, exp, pi\n",
    "from random import uniform\n",
    "print(\"import done\")"
   ]
  },
  {
   "cell_type": "markdown",
   "metadata": {},
   "source": [
    "## Generate the dataset"
   ]
  },
  {
   "cell_type": "code",
   "execution_count": 18,
   "metadata": {},
   "outputs": [
    {
     "data": {
      "text/plain": [
       "<matplotlib.axes._subplots.AxesSubplot at 0x116402470>"
      ]
     },
     "execution_count": 18,
     "metadata": {},
     "output_type": "execute_result"
    },
    {
     "data": {
      "image/png": "[encoded data removed]",
      "text/plain": [
       "<Figure size 432x288 with 1 Axes>"
      ]
     },
     "metadata": {
      "needs_background": "light"
     },
     "output_type": "display_data"
    }
   ],
   "source": [
    "mean1 = 1 ; sd1 = 4\n",
    "mean2 = 9 ; sd2 = 2\n",
    "mean3 = 16 ; sd3 = 1\n",
    "\n",
    "# generate data\n",
    "y1 = np.random.normal(mean1, sd1, 300)\n",
    "y2 = np.random.normal(mean2, sd2, 300)\n",
    "y3 = np.random.normal(mean3, sd3, 300)\n",
    "data=np.append(y1,y2)\n",
    "data=np.append(data,y3)\n",
    "\n",
    "# For data visiualisation calculate left and right of the graph\n",
    "Min_graph = min(data)\n",
    "Max_graph = max(data)\n",
    "x = np.linspace(Min_graph, Max_graph, 2000) # for later use to plot the data\n",
    "\n",
    "sns.distplot(data, bins=20, kde=False)"
   ]
  },
  {
   "cell_type": "code",
   "execution_count": 19,
   "metadata": {},
   "outputs": [],
   "source": [
    "class Gaussian:\n",
    "    \"Model univariate Gaussian\"\n",
    "    def __init__(self, mu, sigma):\n",
    "        self.mu = mu\n",
    "        self.sigma = sigma\n",
    "\n",
    "    #probability density function\n",
    "    def pdf(self, datum):\n",
    "        \"Probability of a data point given the current parameters\"\n",
    "        u = (datum - self.mu) / abs(self.sigma)\n",
    "        y = (1 / (sqrt(2 * pi) * abs(self.sigma))) * exp(-u * u / 2)\n",
    "        return y\n",
    "    \n",
    "    def __repr__(self):\n",
    "        return 'Gaussian({0:4.6}, {1:4.6})'.format(self.mu, self.sigma)"
   ]
  },
  {
   "cell_type": "markdown",
   "metadata": {},
   "source": [
    "## A single Gaussian model may fail"
   ]
  },
  {
   "cell_type": "code",
   "execution_count": 20,
   "metadata": {},
   "outputs": [
    {
     "name": "stdout",
     "output_type": "stream",
     "text": [
      "Best single Gaussian: μ = 8.7, σ = 6.6\n"
     ]
    },
    {
     "data": {
      "image/png": "[encoded data removed]",
      "text/plain": [
       "<Figure size 432x288 with 1 Axes>"
      ]
     },
     "metadata": {
      "needs_background": "light"
     },
     "output_type": "display_data"
    }
   ],
   "source": [
    "#gaussian of best fit\n",
    "best_single = Gaussian(np.mean(data), np.std(data))\n",
    "print('Best single Gaussian: μ = {:.2}, σ = {:.2}'.format(best_single.mu, best_single.sigma))\n",
    "\n",
    "#fit a single gaussian curve to the data\n",
    "g_single = stats.norm(best_single.mu, best_single.sigma).pdf(x)\n",
    "sns.distplot(data, bins=20, kde=False, norm_hist=True)\n",
    "plt.plot(x, g_single, label='single gaussian')\n",
    "plt.legend();"
   ]
  },
  {
   "cell_type": "markdown",
   "metadata": {},
   "source": [
    "## Gaussian Mixture for EM"
   ]
  },
  {
   "cell_type": "code",
   "execution_count": 26,
   "metadata": {},
   "outputs": [
    {
     "name": "stdout",
     "output_type": "stream",
     "text": [
      "done\n"
     ]
    }
   ],
   "source": [
    "class GaussianMixture_self:\n",
    "    \"Model mixture of J univariate Gaussians and their EM estimation\"\n",
    "\n",
    "    def __init__(self, data, J, mu_min=min(data), mu_max=max(data), sigma_min=1, sigma_max=1) :\n",
    "        self.data = data\n",
    "#         todo the Algorithm would be numerical enhanced by normalizing the data first, next do all \n",
    "#         the EM steps and do the de-normalising at the end\n",
    "        \n",
    "        #init with multiple gaussians\n",
    "        self.one = Gaussian(uniform(mu_min, mu_max), \n",
    "                            uniform(sigma_min, sigma_max))\n",
    "        self.two = Gaussian(uniform(mu_min, mu_max), \n",
    "                            uniform(sigma_min, sigma_max))\n",
    "        \n",
    "        #as well as how much to mix them\n",
    "        self.mix = 1/J\n",
    "\n",
    "    def Estep(self):\n",
    "        \"Perform an E(stimation)-step, assign each point to gaussians with a percentage\" # -----------------------\n",
    "        # compute weights\n",
    "        self.loglike = 0. # = log(p = 1)\n",
    "        for datum in self.data:  \n",
    "            # unnormalized weights\n",
    "            wp1 = self.one.pdf(datum) * self.mix\n",
    "            wp2 = self.two.pdf(datum) * (1. - self.mix)\n",
    "            # compute denominator\n",
    "            den = wp1 + wp2\n",
    "            # normalize\n",
    "            wp1 /= den   \n",
    "            wp2 /= den     # wp1+wp2= 1, it either belongs to gaussian 1 or gaussion 2\n",
    "            # add into loglike\n",
    "            self.loglike += log(wp1 + wp2) #freshening up self.loglike in the process\n",
    "            # yield weight tuple\n",
    "            yield (wp1, wp2)\n",
    "\n",
    "    def Mstep(self, weights):\n",
    "        \"Perform an M(aximization)-step\"\n",
    "        # compute denominators\n",
    "        (left, rigt) = zip(*weights) \n",
    "        one_den = sum(left)\n",
    "        two_den = sum(rigt)\n",
    "\n",
    "        # compute new means\n",
    "        self.one.mu = sum(w * d  for (w, d) in zip(left, data)) / one_den\n",
    "        self.two.mu = sum(w * d  for (w, d) in zip(rigt, data)) / two_den\n",
    "        \n",
    "        # compute new sigmas\n",
    "        self.one.sigma = sqrt(sum(w * ((d - self.one.mu) ** 2)\n",
    "                                  for (w, d) in zip(left, data)) / one_den)\n",
    "        self.two.sigma = sqrt(sum(w * ((d - self.two.mu) ** 2)\n",
    "                                  for (w, d) in zip(rigt, data)) / two_den)\n",
    "        # compute new mix\n",
    "        self.mix = one_den / len(data)\n",
    "\n",
    "        \n",
    "    def iterate(self, N=1, verbose=False):\n",
    "        \"Perform N iterations, then compute log-likelihood\"\n",
    "        for i in range(1, N+1):\n",
    "            self.Mstep(self.Estep()) #The heart of the algorith, perform E-stepand next M-step\n",
    "            if verbose:\n",
    "                print('{0:2} {1}'.format(i, self))\n",
    "        self.Estep() # to freshen up self.loglike\n",
    "\n",
    "    def pdf(self, x):\n",
    "        return (self.mix)*self.one.pdf(x) + (1-self.mix)*self.two.pdf(x)\n",
    "        \n",
    "    def __repr__(self):\n",
    "        return 'GaussianMixture({0}, {1}, mix={2.03})'.format(self.one, \n",
    "                                                              self.two, \n",
    "                                                              self.mix)\n",
    "\n",
    "    def __str__(self):\n",
    "        return 'Mixture: {0}, {1}, mix={2:.03})'.format(self.one, \n",
    "                                                        self.two, \n",
    "                                                        self.mix)\n",
    "print(\"done\")"
   ]
  }
 ],
 "metadata": {
  "kernelspec": {
   "display_name": "Python 3",
   "language": "python",
   "name": "python3"
  },
  "language_info": {
   "codemirror_mode": {
    "name": "ipython",
    "version": 3
   },
   "file_extension": ".py",
   "mimetype": "text/x-python",
   "name": "python",
   "nbconvert_exporter": "python",
   "pygments_lexer": "ipython3",
   "version": "3.6.7"
  }
 },
 "nbformat": 4,
 "nbformat_minor": 4
}
