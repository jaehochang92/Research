{
 "cells": [
  {
   "cell_type": "code",
   "execution_count": 19,
   "metadata": {},
   "outputs": [],
   "source": [
    "import numpy as np\n",
    "import matplotlib.pyplot as plt\n",
    "\n",
    "n = 100\n",
    "q = 7\n",
    "bvec = np.append([1, -1, 1], np.repeat(0, q))\n",
    "xmat = np.random.multivariate_normal(np.repeat(0, len(bvec)), np.diag(np.repeat(1, len(bvec))), n)\n",
    "exbvec = np.exp(np.matmul(xmat, bvec))\n",
    "yvec = np.random.poisson(exbvec, n)"
   ]
  },
  {
   "cell_type": "code",
   "execution_count": 20,
   "metadata": {},
   "outputs": [],
   "source": [
    "posfun = lambda x : x*(x >= 0)\n",
    "\n",
    "class pois :\n",
    "    def __init__(self, xmat, yvec, bvec) :\n",
    "        self.xmat = xmat\n",
    "        self.yvec = yvec\n",
    "        self.bvec = bvec\n",
    "        self.n = len(yvec)\n",
    "        self.p = len(bvec)\n",
    "        self.xbvec = np.matmul(xmat, bvec)\n",
    "        self.exbvec = np.exp(self.xbvec)\n",
    "        \n",
    "    def loss(self) :\n",
    "        return((-np.sum(self.yvec*self.xbvec) + np.sum(self.exbvec))/self.n)\n",
    "    \n",
    "    def grad(self) :\n",
    "        ret = np.matmul(np.transpose(self.xmat), -self.yvec + self.exbvec)\n",
    "        return(ret/self.n)\n",
    "    \n",
    "    def hess(self) :\n",
    "        ret = np.matmul(np.matmul(np.transpose(self.xmat), np.diag(self.exbvec)), self.xmat)\n",
    "        return(ret/self.n)"
   ]
  }
 ],
 "metadata": {
  "kernelspec": {
   "display_name": "Python 3",
   "language": "python",
   "name": "python3"
  },
  "language_info": {
   "codemirror_mode": {
    "name": "ipython",
    "version": 3
   },
   "file_extension": ".py",
   "mimetype": "text/x-python",
   "name": "python",
   "nbconvert_exporter": "python",
   "pygments_lexer": "ipython3",
   "version": "3.7.4"
  }
 },
 "nbformat": 4,
 "nbformat_minor": 4
}
