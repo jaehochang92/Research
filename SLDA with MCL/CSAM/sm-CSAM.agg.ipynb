{
 "cells": [
  {
   "cell_type": "code",
   "execution_count": 25,
   "metadata": {},
   "outputs": [],
   "source": [
    "pcks <- c('gsubfn', 'dplyr', 'tidyr', 'ggplot2', 'extrafont', 'stringr', 'ggpubr')\n",
    "pcks <- sapply(pcks, require, character.only = 1)\n",
    "if (any(! pcks)) install.packages(names(pcks)[! pcks])\n",
    "\n",
    "p.vec1 = c(1, 1) / 2 # balanced\n",
    "p.vec2 = c(2, 1) / 3 # unbalanced\n",
    "\n",
    "p.list = list(p.vec1, p.vec2)"
   ]
  },
  {
   "cell_type": "code",
   "execution_count": 3,
   "metadata": {},
   "outputs": [
    {
     "name": "stderr",
     "output_type": "stream",
     "text": [
      "s.mat0_prob0.5\n",
      "\n",
      "s.mat0_prob0.67\n",
      "\n",
      "s.mat0.25_prob0.5\n",
      "\n",
      "s.mat0.25_prob0.67\n",
      "\n",
      "s.mat0_prob0.5\n",
      "\n",
      "s.mat0_prob0.67\n",
      "\n",
      "s.mat0.25_prob0.5\n",
      "\n",
      "s.mat0.25_prob0.67\n",
      "\n"
     ]
    }
   ],
   "source": [
    "res <- NULL\n",
    "for (i in 1:2) {\n",
    "    for (q in c(5, 10)[i]) {\n",
    "        for (dm in c(1e3, 2e3)[i]) {\n",
    "            s.mat1 = diag(1, dm, dm)\n",
    "            s.mat2 = 0.5^abs(outer(1:dm, 1:dm, \"-\"))\n",
    "            s.list = list(s.mat1, s.mat2)\n",
    "            for (s.mat in s.list[]) {\n",
    "                cs.mat = t(chol(s.mat))\n",
    "                for (p.vec in p.list[]) {\n",
    "                  file.name <- fn$identity(\"p.`dm`.q.`q`/s.mat`s.mat[1, 3]`_prob`round(p.vec[1],digits=2)`_sim.valid.Rdata\")\n",
    "                  load(file.name)\n",
    "                  message(file.name)\n",
    "                  sim.result <- as.data.frame(sim.result)\n",
    "                  sim.result$m <- c(rep('ERR', 3), rep('TPS', 3), rep('FPS', 3), rep('CMI', 3)) %>% \n",
    "                    factor(., levels = c('ERR', 'TPS', 'FPS', 'CMI'))\n",
    "                  tmp <- cbind(s.mat=s.mat[1, 3], prob=round(p.vec[1],digits=2), sim.result)\n",
    "                  res <- rbind(res, tmp)\n",
    "                }\n",
    "            }\n",
    "        }\n",
    "    }\n",
    "}"
   ]
  },
  {
   "cell_type": "code",
   "execution_count": 4,
   "metadata": {},
   "outputs": [],
   "source": [
    "colnames(res) <- c(\"s.mat\", \"prob\", \"p\", \"q\", \"n\", \n",
    "                   \"c.Bayes\", \"c.Lasso\", \"c.cLasso1\", \"c.cLasso2\", \"c.cLasso3\", \"c.cLasso4\", \"c.cLasso5\", \"c.Mcp1\", \"c.Mcp2\", \"c.Mcp3\",\n",
    "                   \"Bayes\", \"LASSO\", \"MCL4\", \"MCL5\", \"MCL1\", \"MCL2\", \"MCL3\", \"MCP1\", \"MCP2\", \"MCP3\",\n",
    "                   \"Measure\")"
   ]
  },
  {
   "cell_type": "code",
   "execution_count": 71,
   "metadata": {},
   "outputs": [],
   "source": [
    "plot.results <- function(s.mat0) {\n",
    "    res_long <- res %>% mutate_at(vars(s.mat:MCP3), function(x) as.numeric(as.character(x))) %>% \n",
    "        filter(s.mat %in% s.mat0) %>% gather(methods, values, \n",
    "        c(LASSO, MCL1:MCL3, MCP1:MCP3), factor_key = TRUE) %>% \n",
    "        mutate(methods.g = case_when(str_detect(.$methods, \"MCL\") ~ \n",
    "            \"MCL\", str_detect(.$methods, \"MCP\") ~ \"MCP\", T ~ \n",
    "            \"LASSSO\"))\n",
    "    n.vec <- res_long$n %>% unique\n",
    "    q0 <- res_long$q[1]\n",
    "    g.list <- list()\n",
    "    options(repr.plot.width = 18, repr.plot.height = 13)\n",
    "    for (m in res_long$Measure) {\n",
    "        g.list[[m]] <- res_long %>% filter(Measure == m) %>% \n",
    "        ggplot(aes(x = n, y = values, group = methods))+\n",
    "        facet_wrap( ~ p + prob, scales = \"free\", nrow = 1, labeller = label_both)+\n",
    "        ylab(m) + geom_line(aes(linetype = methods, col = methods), lwd = 0.5)+\n",
    "        scale_linetype_manual(values = c(1, 3, 3, 3, 5, 5, 5))+\n",
    "        geom_point(aes(shape = methods, color = methods), size = 1.5)+\n",
    "        scale_shape_manual(values = 1:7)+\n",
    "        scale_color_manual(values = c(\"black\", rep(\"blue\", 3), rep(\"gold2\", 3)))+\n",
    "        scale_x_continuous(breaks = n.vec)+\n",
    "        theme_bw(base_family = \"Times New Roman\", base_size = 10)\n",
    "#         + theme(legend.position = ifelse(m == 'ERR', 'right', \"none\"))\n",
    "    }\n",
    "    g.list\n",
    "}"
   ]
  },
  {
   "cell_type": "code",
   "execution_count": 72,
   "metadata": {},
   "outputs": [],
   "source": [
    "g.list <- plot.results(0)"
   ]
  },
  {
   "cell_type": "code",
   "execution_count": 73,
   "metadata": {},
   "outputs": [
    {
     "data": {
      "text/html": [
       "<strong>pdf:</strong> 2"
      ],
      "text/latex": [
       "\\textbf{pdf:} 2"
      ],
      "text/markdown": [
       "**pdf:** 2"
      ],
      "text/plain": [
       "pdf \n",
       "  2 "
      ]
     },
     "metadata": {},
     "output_type": "display_data"
    },
    {
     "data": {
      "text/html": [
       "<strong>pdf:</strong> 2"
      ],
      "text/latex": [
       "\\textbf{pdf:} 2"
      ],
      "text/markdown": [
       "**pdf:** 2"
      ],
      "text/plain": [
       "pdf \n",
       "  2 "
      ]
     },
     "metadata": {},
     "output_type": "display_data"
    }
   ],
   "source": [
    "png('./s.0.png', res = 200, width = 22, height = 25, units = 'cm')\n",
    "plot.results(.0) %>% ggarrange(plotlist = ., nrow = 4)\n",
    "dev.off()\n",
    "png('./s.0.25.png', res = 200, width = 22, height = 25, units = 'cm')\n",
    "plot.results(.25) %>% ggarrange(plotlist = ., nrow = 4)\n",
    "dev.off()"
   ]
  }
 ],
 "metadata": {
  "kernelspec": {
   "display_name": "R",
   "language": "R",
   "name": "ir"
  },
  "language_info": {
   "codemirror_mode": "r",
   "file_extension": ".r",
   "mimetype": "text/x-r-source",
   "name": "R",
   "pygments_lexer": "r",
   "version": "4.0.2"
  }
 },
 "nbformat": 4,
 "nbformat_minor": 4
}
