{
 "cells": [
  {
   "cell_type": "markdown",
   "metadata": {},
   "source": [
    "## 19대 국회 회의록 데이터"
   ]
  },
  {
   "cell_type": "code",
   "execution_count": 1,
   "metadata": {},
   "outputs": [],
   "source": [
    "%load_ext autoreload\n",
    "%autoreload 2"
   ]
  },
  {
   "cell_type": "code",
   "execution_count": 2,
   "metadata": {},
   "outputs": [
    {
     "name": "stdout",
     "output_type": "stream",
     "text": [
      "Start loading Mylib...\n",
      "==============\n",
      "Mylib imported!\n",
      "==============\n"
     ]
    }
   ],
   "source": [
    "import random, unicodedata\n",
    "from Mylib import *\n",
    "import os"
   ]
  },
  {
   "cell_type": "code",
   "execution_count": 98,
   "metadata": {},
   "outputs": [],
   "source": [
    "files = [file_name for file_name in os.listdir('./data') if '.csv' in file_name]\n",
    "국회_19대 = pd.read_csv(f'./data/{files[0]}', encoding = 'utf-8')\n",
    "for file in files[1:]:\n",
    "    new = pd.read_csv(f'./data/{file}', encoding = 'utf-8')\n",
    "    국회_19대 = 국회_19대.append(new, ignore_index = True)"
   ]
  },
  {
   "cell_type": "code",
   "execution_count": 102,
   "metadata": {},
   "outputs": [
    {
     "data": {
      "text/plain": [
       "위원회\n",
       "교육과학기술위원회        16480\n",
       "교육문화체육관광위원회      52770\n",
       "국방위원회            60860\n",
       "국토교통위원회          32119\n",
       "국토해양위원회          11715\n",
       "국회운영위원회          28691\n",
       "기획재정위원회          39169\n",
       "농림수산식품위원회         7976\n",
       "농림축산식품해양수산위원회    41617\n",
       "문화체육관광방송통신위원회    17129\n",
       "미래창조과학방송통신위원회    42680\n",
       "법제사법위원회          89074\n",
       "보건복지위원회          42985\n",
       "산업통상자원위원회        35459\n",
       "안전행정위원회          43773\n",
       "여성가족위원회          12873\n",
       "외교통상통일위원회        14791\n",
       "외교통일위원회          26734\n",
       "정무위원회            45740\n",
       "정보위원회             3522\n",
       "지식경제위원회          12613\n",
       "행정안전위원회          16303\n",
       "환경노동위원회          42881\n",
       "dtype: int64"
      ]
     },
     "execution_count": 102,
     "metadata": {},
     "output_type": "execute_result"
    }
   ],
   "source": [
    "국회_19대.발언내용 = [str(e) for e in 국회_19대.발언내용]\n",
    "국회_19대.groupby(['위원회']).size()"
   ]
  },
  {
   "cell_type": "code",
   "execution_count": 111,
   "metadata": {},
   "outputs": [],
   "source": [
    "국회_19대 = 국회_19대.loc[[i for i, j in 국회_19대.발언내용.items() if j != 'nan']]"
   ]
  },
  {
   "cell_type": "markdown",
   "metadata": {},
   "source": [
    "#### Get NNP + NNGs for LDA and Network"
   ]
  },
  {
   "cell_type": "code",
   "execution_count": 123,
   "metadata": {},
   "outputs": [
    {
     "name": "stderr",
     "output_type": "stream",
     "text": [
      "100%|██████████| 737951/737951 [51:31<00:00, 238.68it/s]  \n"
     ]
    }
   ],
   "source": [
    "data_for_noun = 국회_19대.assign(token = [get_noun(doc)\n",
    "                                       for doc in tqdm(국회_19대.발언내용.values)])\n",
    "data_for_noun = data_for_noun.loc[[i for i, tkn in data_for_noun.token.items() \n",
    "                                   if len(tkn) > 0]]\n",
    "data_for_noun.to_pickle(\"./result/국회_19대_토큰.pkl\") # for LDA\n",
    "\n",
    "# data_for_noun = data_for_noun.drop('token', 1)\n",
    "# data_for_noun = data_for_noun.assign(token = [[get_noun(doc) for doc in re.split('[?.!]', corp)] \n",
    "#                                               for corp in tqdm(data_for_noun.CONTENT.values)])\n",
    "# data_for_noun.to_pickle('./result/국회_19대_토큰_NW.pkl') # for Network"
   ]
  },
  {
   "cell_type": "markdown",
   "metadata": {},
   "source": [
    "#### 1차 불용어 필터링\n",
    "* 형태소를 추출한 뒤 빈도 기준 상위 1,000개의 토큰에서 정보량이 적은 토큰을 제거"
   ]
  },
  {
   "cell_type": "code",
   "execution_count": 3,
   "metadata": {},
   "outputs": [],
   "source": [
    "data_for_noun = pd.read_pickle(\"./result/국회_19대_토큰.pkl\")"
   ]
  },
  {
   "cell_type": "code",
   "execution_count": 4,
   "metadata": {},
   "outputs": [],
   "source": [
    "cnt = Counter(my_list([doc for doc in data_for_noun.token]).sum())\n",
    "frqtab = sorted(cnt.items(), key = lambda x: x[1], reverse = True)[:1000]"
   ]
  },
  {
   "cell_type": "code",
   "execution_count": 5,
   "metadata": {},
   "outputs": [
    {
     "name": "stderr",
     "output_type": "stream",
     "text": [
      "100%|██████████| 605284/605284 [00:17<00:00, 33659.37it/s]\n"
     ]
    }
   ],
   "source": [
    "exclude = '말씀 생각 부분 다음 때 얘기 내용 경우 정도 이상 말 감사 항 수고 의견 앞 부 안 노력 이번 전 점 사항 이야기 존경 지금 예 위 그때 날 발 조 도 후 장 끝 원 오늘 방 간 뜻 뒤 실 시 곳 미 면 배 급 속 인 수 처 반 밖 직 관 답 사 청'.split() \n",
    "frqtab = [k for k, f in frqtab if re.search('|'.join(exclude), k)]\n",
    "data_for_noun.token = [[tkn for tkn in doc if tkn not in exclude]\n",
    "                       for doc in tqdm(data_for_noun.token)]\n",
    "data_for_noun = data_for_noun.loc[[i for i, tkn in data_for_noun.token.items() \n",
    "                                   if len(tkn) > 0]]"
   ]
  },
  {
   "cell_type": "code",
   "execution_count": 6,
   "metadata": {},
   "outputs": [
    {
     "data": {
      "text/html": [
       "<div>\n",
       "<style scoped>\n",
       "    .dataframe tbody tr th:only-of-type {\n",
       "        vertical-align: middle;\n",
       "    }\n",
       "\n",
       "    .dataframe tbody tr th {\n",
       "        vertical-align: top;\n",
       "    }\n",
       "\n",
       "    .dataframe thead th {\n",
       "        text-align: right;\n",
       "    }\n",
       "</style>\n",
       "<table border=\"1\" class=\"dataframe\">\n",
       "  <thead>\n",
       "    <tr style=\"text-align: right;\">\n",
       "      <th></th>\n",
       "      <th>회의록ID</th>\n",
       "      <th>대수</th>\n",
       "      <th>위원회구분</th>\n",
       "      <th>위원회</th>\n",
       "      <th>회차</th>\n",
       "      <th>회의일자</th>\n",
       "      <th>회의장소</th>\n",
       "      <th>발언ID</th>\n",
       "      <th>발언순서</th>\n",
       "      <th>안건</th>\n",
       "      <th>발언자</th>\n",
       "      <th>발언내용</th>\n",
       "      <th>token</th>\n",
       "    </tr>\n",
       "  </thead>\n",
       "  <tbody>\n",
       "    <tr>\n",
       "      <th>0</th>\n",
       "      <td>41725.0</td>\n",
       "      <td>19.0</td>\n",
       "      <td>상임위원회</td>\n",
       "      <td>국회운영위원회</td>\n",
       "      <td>제309회(2012.07.05-2012.08.03) - 제1차</td>\n",
       "      <td>2012년7월10일(화)</td>\n",
       "      <td>문화체육관광방송통신위원회회의실</td>\n",
       "      <td>814715.0</td>\n",
       "      <td>1.0</td>\n",
       "      <td>FRONT</td>\n",
       "      <td>위원장 이한구</td>\n",
       "      <td>의석을 정돈해 주시기 바랍니다.   성원이 되었으므로 제309회 국회(임시회) 제1...</td>\n",
       "      <td>[의석, 정돈, 성원, 국회, 임시회, 국회, 운영, 위원회, 개의, 입, 법조, ...</td>\n",
       "    </tr>\n",
       "    <tr>\n",
       "      <th>1</th>\n",
       "      <td>41725.0</td>\n",
       "      <td>19.0</td>\n",
       "      <td>상임위원회</td>\n",
       "      <td>국회운영위원회</td>\n",
       "      <td>제309회(2012.07.05-2012.08.03) - 제1차</td>\n",
       "      <td>2012년7월10일(화)</td>\n",
       "      <td>문화체육관광방송통신위원회회의실</td>\n",
       "      <td>814716.0</td>\n",
       "      <td>2.0</td>\n",
       "      <td>FRONT</td>\n",
       "      <td>김기현 위원</td>\n",
       "      <td>반갑습니다. 앉아서 인사드리겠습니다.   새누리당 김기현 위원입니다.  앞으로 우리...</td>\n",
       "      <td>[인사, 누리, 당, 김기현, 위원, 위원, 위원회, 국회, 모범, 위원회, 운영,...</td>\n",
       "    </tr>\n",
       "    <tr>\n",
       "      <th>2</th>\n",
       "      <td>41725.0</td>\n",
       "      <td>19.0</td>\n",
       "      <td>상임위원회</td>\n",
       "      <td>국회운영위원회</td>\n",
       "      <td>제309회(2012.07.05-2012.08.03) - 제1차</td>\n",
       "      <td>2012년7월10일(화)</td>\n",
       "      <td>문화체육관광방송통신위원회회의실</td>\n",
       "      <td>814717.0</td>\n",
       "      <td>3.0</td>\n",
       "      <td>FRONT</td>\n",
       "      <td>위원장 이한구</td>\n",
       "      <td>인사를 하면 박수부터 치고 합시다.    (일동 박수)</td>\n",
       "      <td>[인사, 박수, 일동, 박수]</td>\n",
       "    </tr>\n",
       "    <tr>\n",
       "      <th>3</th>\n",
       "      <td>41725.0</td>\n",
       "      <td>19.0</td>\n",
       "      <td>상임위원회</td>\n",
       "      <td>국회운영위원회</td>\n",
       "      <td>제309회(2012.07.05-2012.08.03) - 제1차</td>\n",
       "      <td>2012년7월10일(화)</td>\n",
       "      <td>문화체육관광방송통신위원회회의실</td>\n",
       "      <td>814718.0</td>\n",
       "      <td>4.0</td>\n",
       "      <td>FRONT</td>\n",
       "      <td>김기선 위원</td>\n",
       "      <td>새누리당의 원주 출신 김기선 위원입니다. 앉아서 인사드리겠습니다.   특히 선배 위...</td>\n",
       "      <td>[누리, 당, 원주, 출신, 김기선, 위원, 인사, 선배, 위원, 국회, 국민, 기...</td>\n",
       "    </tr>\n",
       "    <tr>\n",
       "      <th>4</th>\n",
       "      <td>41725.0</td>\n",
       "      <td>19.0</td>\n",
       "      <td>상임위원회</td>\n",
       "      <td>국회운영위원회</td>\n",
       "      <td>제309회(2012.07.05-2012.08.03) - 제1차</td>\n",
       "      <td>2012년7월10일(화)</td>\n",
       "      <td>문화체육관광방송통신위원회회의실</td>\n",
       "      <td>814719.0</td>\n",
       "      <td>5.0</td>\n",
       "      <td>FRONT</td>\n",
       "      <td>김도읍 위원</td>\n",
       "      <td>반갑습니다.  부산 북구․강서구을 출신 새누리당 김도읍 위원입니다.  여러 선배 위...</td>\n",
       "      <td>[부산, 북구, 강서구, 출신, 새, 김도읍, 위원, 선배, 위원, 동료, 위원, ...</td>\n",
       "    </tr>\n",
       "    <tr>\n",
       "      <th>...</th>\n",
       "      <td>...</td>\n",
       "      <td>...</td>\n",
       "      <td>...</td>\n",
       "      <td>...</td>\n",
       "      <td>...</td>\n",
       "      <td>...</td>\n",
       "      <td>...</td>\n",
       "      <td>...</td>\n",
       "      <td>...</td>\n",
       "      <td>...</td>\n",
       "      <td>...</td>\n",
       "      <td>...</td>\n",
       "      <td>...</td>\n",
       "    </tr>\n",
       "    <tr>\n",
       "      <th>976105</th>\n",
       "      <td>42575.0</td>\n",
       "      <td>19.0</td>\n",
       "      <td>상임위원회</td>\n",
       "      <td>교육과학기술위원회</td>\n",
       "      <td>제314회(2013.03.08-2013.03.22) - 제1차</td>\n",
       "      <td>2013년3월19일(화)</td>\n",
       "      <td>교육과학기술위원회회의실</td>\n",
       "      <td>996236.0</td>\n",
       "      <td>16.0</td>\n",
       "      <td>1. 국가교육과학기술자문회의법 일부개정법률안(이한구 의원 대표발의)(이한구ㆍ황우여ㆍ...</td>\n",
       "      <td>金世淵 委員</td>\n",
       "      <td>제가 한 가지 당부 말씀……</td>\n",
       "      <td>[당부]</td>\n",
       "    </tr>\n",
       "    <tr>\n",
       "      <th>976107</th>\n",
       "      <td>42575.0</td>\n",
       "      <td>19.0</td>\n",
       "      <td>상임위원회</td>\n",
       "      <td>교육과학기술위원회</td>\n",
       "      <td>제314회(2013.03.08-2013.03.22) - 제1차</td>\n",
       "      <td>2013년3월19일(화)</td>\n",
       "      <td>교육과학기술위원회회의실</td>\n",
       "      <td>996238.0</td>\n",
       "      <td>18.0</td>\n",
       "      <td>1. 국가교육과학기술자문회의법 일부개정법률안(이한구 의원 대표발의)(이한구ㆍ황우여ㆍ...</td>\n",
       "      <td>金世淵 委員</td>\n",
       "      <td>우리 교과위에서 그동안 정부조직법 개편 관련해서, 특히 다른 상임위보다는 많은 법률...</td>\n",
       "      <td>[교과, 그동안, 정부, 조직법, 개편, 관련, 상임위, 법률, 상당, 진통, 기간...</td>\n",
       "    </tr>\n",
       "    <tr>\n",
       "      <th>976109</th>\n",
       "      <td>42575.0</td>\n",
       "      <td>19.0</td>\n",
       "      <td>상임위원회</td>\n",
       "      <td>교육과학기술위원회</td>\n",
       "      <td>제314회(2013.03.08-2013.03.22) - 제1차</td>\n",
       "      <td>2013년3월19일(화)</td>\n",
       "      <td>교육과학기술위원회회의실</td>\n",
       "      <td>996240.0</td>\n",
       "      <td>20.0</td>\n",
       "      <td>1. 국가교육과학기술자문회의법 일부개정법률안(이한구 의원 대표발의)(이한구ㆍ황우여ㆍ...</td>\n",
       "      <td>위원장직무대리 유기홍</td>\n",
       "      <td>예, 강은희 위원님.</td>\n",
       "      <td>[강은희, 위원]</td>\n",
       "    </tr>\n",
       "    <tr>\n",
       "      <th>976110</th>\n",
       "      <td>42575.0</td>\n",
       "      <td>19.0</td>\n",
       "      <td>상임위원회</td>\n",
       "      <td>교육과학기술위원회</td>\n",
       "      <td>제314회(2013.03.08-2013.03.22) - 제1차</td>\n",
       "      <td>2013년3월19일(화)</td>\n",
       "      <td>교육과학기술위원회회의실</td>\n",
       "      <td>996241.0</td>\n",
       "      <td>21.0</td>\n",
       "      <td>1. 국가교육과학기술자문회의법 일부개정법률안(이한구 의원 대표발의)(이한구ㆍ황우여ㆍ...</td>\n",
       "      <td>강은희 위원</td>\n",
       "      <td>교육부장관님께 부탁 말씀을 드리겠습니다.  오늘 이 자리에 말씀드릴 일은 전혀 아니...</td>\n",
       "      <td>[교육부, 장관, 부탁, 자리, 일, 대학, 평가, 교육, 역량, 강화, 사업, 링...</td>\n",
       "    </tr>\n",
       "    <tr>\n",
       "      <th>976111</th>\n",
       "      <td>42575.0</td>\n",
       "      <td>19.0</td>\n",
       "      <td>상임위원회</td>\n",
       "      <td>교육과학기술위원회</td>\n",
       "      <td>제314회(2013.03.08-2013.03.22) - 제1차</td>\n",
       "      <td>2013년3월19일(화)</td>\n",
       "      <td>교육과학기술위원회회의실</td>\n",
       "      <td>996242.0</td>\n",
       "      <td>22.0</td>\n",
       "      <td>1. 국가교육과학기술자문회의법 일부개정법률안(이한구 의원 대표발의)(이한구ㆍ황우여ㆍ...</td>\n",
       "      <td>위원장직무대리 유기홍</td>\n",
       "      <td>위원장님이 지금 출장 관계로 안 계셔서 제가 오늘 사회를 맡게 됐습니다마는 이제 아...</td>\n",
       "      <td>[위원장, 출장, 관계, 사회, 국회법, 통과, 위원회, 구성, 변화, 위원회, 위...</td>\n",
       "    </tr>\n",
       "  </tbody>\n",
       "</table>\n",
       "<p>580730 rows × 13 columns</p>\n",
       "</div>"
      ],
      "text/plain": [
       "          회의록ID    대수  위원회구분        위원회                                  회차  \\\n",
       "0       41725.0  19.0  상임위원회    국회운영위원회  제309회(2012.07.05-2012.08.03) - 제1차   \n",
       "1       41725.0  19.0  상임위원회    국회운영위원회  제309회(2012.07.05-2012.08.03) - 제1차   \n",
       "2       41725.0  19.0  상임위원회    국회운영위원회  제309회(2012.07.05-2012.08.03) - 제1차   \n",
       "3       41725.0  19.0  상임위원회    국회운영위원회  제309회(2012.07.05-2012.08.03) - 제1차   \n",
       "4       41725.0  19.0  상임위원회    국회운영위원회  제309회(2012.07.05-2012.08.03) - 제1차   \n",
       "...         ...   ...    ...        ...                                 ...   \n",
       "976105  42575.0  19.0  상임위원회  교육과학기술위원회  제314회(2013.03.08-2013.03.22) - 제1차   \n",
       "976107  42575.0  19.0  상임위원회  교육과학기술위원회  제314회(2013.03.08-2013.03.22) - 제1차   \n",
       "976109  42575.0  19.0  상임위원회  교육과학기술위원회  제314회(2013.03.08-2013.03.22) - 제1차   \n",
       "976110  42575.0  19.0  상임위원회  교육과학기술위원회  제314회(2013.03.08-2013.03.22) - 제1차   \n",
       "976111  42575.0  19.0  상임위원회  교육과학기술위원회  제314회(2013.03.08-2013.03.22) - 제1차   \n",
       "\n",
       "                 회의일자              회의장소      발언ID  발언순서  \\\n",
       "0       2012년7월10일(화)  문화체육관광방송통신위원회회의실  814715.0   1.0   \n",
       "1       2012년7월10일(화)  문화체육관광방송통신위원회회의실  814716.0   2.0   \n",
       "2       2012년7월10일(화)  문화체육관광방송통신위원회회의실  814717.0   3.0   \n",
       "3       2012년7월10일(화)  문화체육관광방송통신위원회회의실  814718.0   4.0   \n",
       "4       2012년7월10일(화)  문화체육관광방송통신위원회회의실  814719.0   5.0   \n",
       "...               ...               ...       ...   ...   \n",
       "976105  2013년3월19일(화)      교육과학기술위원회회의실  996236.0  16.0   \n",
       "976107  2013년3월19일(화)      교육과학기술위원회회의실  996238.0  18.0   \n",
       "976109  2013년3월19일(화)      교육과학기술위원회회의실  996240.0  20.0   \n",
       "976110  2013년3월19일(화)      교육과학기술위원회회의실  996241.0  21.0   \n",
       "976111  2013년3월19일(화)      교육과학기술위원회회의실  996242.0  22.0   \n",
       "\n",
       "                                                       안건            발언자  \\\n",
       "0                                                   FRONT        위원장 이한구   \n",
       "1                                                   FRONT         김기현 위원   \n",
       "2                                                   FRONT        위원장 이한구   \n",
       "3                                                   FRONT         김기선 위원   \n",
       "4                                                   FRONT         김도읍 위원   \n",
       "...                                                   ...            ...   \n",
       "976105  1. 국가교육과학기술자문회의법 일부개정법률안(이한구 의원 대표발의)(이한구ㆍ황우여ㆍ...      金世淵 委員      \n",
       "976107  1. 국가교육과학기술자문회의법 일부개정법률안(이한구 의원 대표발의)(이한구ㆍ황우여ㆍ...         金世淵 委員   \n",
       "976109  1. 국가교육과학기술자문회의법 일부개정법률안(이한구 의원 대표발의)(이한구ㆍ황우여ㆍ...  위원장직무대리 유기홍     \n",
       "976110  1. 국가교육과학기술자문회의법 일부개정법률안(이한구 의원 대표발의)(이한구ㆍ황우여ㆍ...         강은희 위원   \n",
       "976111  1. 국가교육과학기술자문회의법 일부개정법률안(이한구 의원 대표발의)(이한구ㆍ황우여ㆍ...    위원장직무대리 유기홍   \n",
       "\n",
       "                                                     발언내용  \\\n",
       "0       의석을 정돈해 주시기 바랍니다.   성원이 되었으므로 제309회 국회(임시회) 제1...   \n",
       "1       반갑습니다. 앉아서 인사드리겠습니다.   새누리당 김기현 위원입니다.  앞으로 우리...   \n",
       "2                          인사를 하면 박수부터 치고 합시다.    (일동 박수)   \n",
       "3       새누리당의 원주 출신 김기선 위원입니다. 앉아서 인사드리겠습니다.   특히 선배 위...   \n",
       "4       반갑습니다.  부산 북구․강서구을 출신 새누리당 김도읍 위원입니다.  여러 선배 위...   \n",
       "...                                                   ...   \n",
       "976105                                    제가 한 가지 당부 말씀……   \n",
       "976107  우리 교과위에서 그동안 정부조직법 개편 관련해서, 특히 다른 상임위보다는 많은 법률...   \n",
       "976109                                        예, 강은희 위원님.   \n",
       "976110  교육부장관님께 부탁 말씀을 드리겠습니다.  오늘 이 자리에 말씀드릴 일은 전혀 아니...   \n",
       "976111  위원장님이 지금 출장 관계로 안 계셔서 제가 오늘 사회를 맡게 됐습니다마는 이제 아...   \n",
       "\n",
       "                                                    token  \n",
       "0       [의석, 정돈, 성원, 국회, 임시회, 국회, 운영, 위원회, 개의, 입, 법조, ...  \n",
       "1       [인사, 누리, 당, 김기현, 위원, 위원, 위원회, 국회, 모범, 위원회, 운영,...  \n",
       "2                                        [인사, 박수, 일동, 박수]  \n",
       "3       [누리, 당, 원주, 출신, 김기선, 위원, 인사, 선배, 위원, 국회, 국민, 기...  \n",
       "4       [부산, 북구, 강서구, 출신, 새, 김도읍, 위원, 선배, 위원, 동료, 위원, ...  \n",
       "...                                                   ...  \n",
       "976105                                               [당부]  \n",
       "976107  [교과, 그동안, 정부, 조직법, 개편, 관련, 상임위, 법률, 상당, 진통, 기간...  \n",
       "976109                                          [강은희, 위원]  \n",
       "976110  [교육부, 장관, 부탁, 자리, 일, 대학, 평가, 교육, 역량, 강화, 사업, 링...  \n",
       "976111  [위원장, 출장, 관계, 사회, 국회법, 통과, 위원회, 구성, 변화, 위원회, 위...  \n",
       "\n",
       "[580730 rows x 13 columns]"
      ]
     },
     "execution_count": 6,
     "metadata": {},
     "output_type": "execute_result"
    }
   ],
   "source": [
    "data_for_noun"
   ]
  },
  {
   "cell_type": "markdown",
   "metadata": {},
   "source": [
    "#### BOW 모형을 이용해 문서와 어휘집을 pickle로 저장"
   ]
  },
  {
   "cell_type": "code",
   "execution_count": 39,
   "metadata": {},
   "outputs": [],
   "source": [
    "국회_19대_bow = BowModel(data_for_noun.token)\n",
    "국회_19대_bow.get_bow(.0, 1.0)\n",
    "\n",
    "pd.to_pickle(data_for_noun, './result/국회_19대_meta.pickle')\n",
    "pd.to_pickle(국회_19대_bow.bow_corpus, './result/국회_19대_BOW.pickle')\n",
    "pd.to_pickle([v for v in 국회_19대_bow.dictionary.values()], './result/국회_19대_dict.pickle')"
   ]
  },
  {
   "cell_type": "markdown",
   "metadata": {},
   "source": [
    "#### 문서의 길이\n",
    "말뭉치 결합 $\\rightarrow$ 명사 토큰 N = 100 기준으로 재결합 $\\rightarrow$ D > 2000? $\\rightarrow$ Fit!\\\n",
    "\"... it is theoretically $impossible$ to guarantee identification of topics from a small number of documents, no matter how long.\"\\\n",
    "\"... poor performance of the LDA is expected when documents are too short, ...\"\n",
    "* 참고문헌: Jian Tang et al. (2014) Understanding the limiting factors of topic modeling via posterior contraction analysis. $\\textit{In Proceedings of the 31st International Conference on International Conference on Machine Learning}$ - Volume 32 (ICML’14). JMLR.org, I–190–I–198."
   ]
  },
  {
   "cell_type": "code",
   "execution_count": 131,
   "metadata": {},
   "outputs": [],
   "source": [
    "def nrmlzcorp(corpus, thrsh = 100):\n",
    "    merged_tokens = my_list(corpus).sum()\n",
    "    nrmcorp, i, stop = [[]], 0, False\n",
    "    while not stop:\n",
    "        while len(nrmcorp[-1]) < thrsh and i < len(merged_tokens):\n",
    "            nrmcorp[-1].append(merged_tokens[i])\n",
    "            i += 1\n",
    "            if i == len(merged_tokens):\n",
    "                stop = True\n",
    "        nrmcorp.append([])\n",
    "    return(nrmcorp[:-1])"
   ]
  },
  {
   "cell_type": "code",
   "execution_count": null,
   "metadata": {},
   "outputs": [],
   "source": [
    "nrmcorp = nrmlzcorp(국회_19대.token)"
   ]
  }
 ],
 "metadata": {
  "kernelspec": {
   "display_name": "Python 3",
   "language": "python",
   "name": "python3"
  },
  "language_info": {
   "codemirror_mode": {
    "name": "ipython",
    "version": 3
   },
   "file_extension": ".py",
   "mimetype": "text/x-python",
   "name": "python",
   "nbconvert_exporter": "python",
   "pygments_lexer": "ipython3",
   "version": "3.6.7"
  }
 },
 "nbformat": 4,
 "nbformat_minor": 4
}
