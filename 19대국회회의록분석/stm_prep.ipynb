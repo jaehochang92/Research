{
 "cells": [
  {
   "cell_type": "code",
   "execution_count": 1,
   "metadata": {
    "collapsed": true,
    "jupyter": {
     "outputs_hidden": true
    }
   },
   "outputs": [
    {
     "name": "stderr",
     "output_type": "stream",
     "text": [
      "stm v1.3.5 successfully loaded. See ?stm for help. \n",
      " Papers, resources, and other materials at structuraltopicmodel.com\n",
      "\n",
      "\n",
      "Attaching package: ‘dplyr’\n",
      "\n",
      "\n",
      "The following objects are masked from ‘package:stats’:\n",
      "\n",
      "    filter, lag\n",
      "\n",
      "\n",
      "The following objects are masked from ‘package:base’:\n",
      "\n",
      "    intersect, setdiff, setequal, union\n",
      "\n",
      "\n",
      "Package version: 2.0.1\n",
      "\n",
      "Parallel computing: 2 of 8 threads used.\n",
      "\n",
      "See https://quanteda.io for tutorials and examples.\n",
      "\n",
      "\n",
      "Attaching package: ‘quanteda’\n",
      "\n",
      "\n",
      "The following object is masked from ‘jupyter:irkernel’:\n",
      "\n",
      "    View\n",
      "\n",
      "\n",
      "The following object is masked from ‘package:utils’:\n",
      "\n",
      "    View\n",
      "\n",
      "\n",
      "\n",
      "Attaching package: ‘data.table’\n",
      "\n",
      "\n",
      "The following objects are masked from ‘package:dplyr’:\n",
      "\n",
      "    between, first, last\n",
      "\n",
      "\n",
      "\n",
      "Attaching package: ‘lattice’\n",
      "\n",
      "\n",
      "The following object is masked from ‘package:stm’:\n",
      "\n",
      "    cloud\n",
      "\n",
      "\n",
      "\n",
      "Attaching package: ‘Hmisc’\n",
      "\n",
      "\n",
      "The following objects are masked from ‘package:dplyr’:\n",
      "\n",
      "    src, summarize\n",
      "\n",
      "\n",
      "The following objects are masked from ‘package:base’:\n",
      "\n",
      "    format.pval, units\n",
      "\n",
      "\n",
      "\n",
      "Attaching package: ‘purrr’\n",
      "\n",
      "\n",
      "The following object is masked from ‘package:data.table’:\n",
      "\n",
      "    transpose\n",
      "\n",
      "\n",
      "\n",
      "Attaching package: ‘svMisc’\n",
      "\n",
      "\n",
      "The following object is masked from ‘package:utils’:\n",
      "\n",
      "    ?\n",
      "\n",
      "\n",
      "\n",
      "Attaching package: ‘lubridate’\n",
      "\n",
      "\n",
      "The following objects are masked from ‘package:data.table’:\n",
      "\n",
      "    hour, isoweek, mday, minute, month, quarter, second, wday, week,\n",
      "    yday, year\n",
      "\n",
      "\n",
      "The following objects are masked from ‘package:dplyr’:\n",
      "\n",
      "    intersect, setdiff, union\n",
      "\n",
      "\n",
      "The following objects are masked from ‘package:base’:\n",
      "\n",
      "    date, intersect, setdiff, union\n",
      "\n",
      "\n"
     ]
    },
    {
     "data": {
      "text/html": [
       "<style>\n",
       ".dl-inline {width: auto; margin:0; padding: 0}\n",
       ".dl-inline>dt, .dl-inline>dd {float: none; width: auto; display: inline-block}\n",
       ".dl-inline>dt::after {content: \":\\0020\"; padding-right: .5ex}\n",
       ".dl-inline>dt:not(:first-of-type) {padding-left: .5ex}\n",
       "</style><dl class=dl-inline><dt>stm</dt><dd>TRUE</dd><dt>dplyr</dt><dd>TRUE</dd><dt>quanteda</dt><dd>TRUE</dd><dt>data.table</dt><dd>TRUE</dd><dt>Hmisc</dt><dd>TRUE</dd><dt>reticulate</dt><dd>TRUE</dd><dt>purrr</dt><dd>TRUE</dd><dt>svMisc</dt><dd>TRUE</dd><dt>data.table</dt><dd>TRUE</dd><dt>lubridate</dt><dd>TRUE</dd><dt>tidyr</dt><dd>TRUE</dd><dt>tictoc</dt><dd>TRUE</dd></dl>\n"
      ],
      "text/latex": [
       "\\begin{description*}\n",
       "\\item[stm] TRUE\n",
       "\\item[dplyr] TRUE\n",
       "\\item[quanteda] TRUE\n",
       "\\item[data.table] TRUE\n",
       "\\item[Hmisc] TRUE\n",
       "\\item[reticulate] TRUE\n",
       "\\item[purrr] TRUE\n",
       "\\item[svMisc] TRUE\n",
       "\\item[data.table] TRUE\n",
       "\\item[lubridate] TRUE\n",
       "\\item[tidyr] TRUE\n",
       "\\item[tictoc] TRUE\n",
       "\\end{description*}\n"
      ],
      "text/markdown": [
       "stm\n",
       ":   TRUEdplyr\n",
       ":   TRUEquanteda\n",
       ":   TRUEdata.table\n",
       ":   TRUEHmisc\n",
       ":   TRUEreticulate\n",
       ":   TRUEpurrr\n",
       ":   TRUEsvMisc\n",
       ":   TRUEdata.table\n",
       ":   TRUElubridate\n",
       ":   TRUEtidyr\n",
       ":   TRUEtictoc\n",
       ":   TRUE\n",
       "\n"
      ],
      "text/plain": [
       "       stm      dplyr   quanteda data.table      Hmisc reticulate      purrr \n",
       "      TRUE       TRUE       TRUE       TRUE       TRUE       TRUE       TRUE \n",
       "    svMisc data.table  lubridate      tidyr     tictoc \n",
       "      TRUE       TRUE       TRUE       TRUE       TRUE "
      ]
     },
     "metadata": {},
     "output_type": "display_data"
    }
   ],
   "source": [
    "rm(list = ls())\n",
    "pcks <- c('stm', 'dplyr', 'quanteda', 'data.table', 'Hmisc', 'reticulate', \n",
    "          'purrr', 'svMisc', 'data.table', 'lubridate', 'tidyr', 'tictoc')\n",
    "sapply(pcks, require, character.only = T, quietly = T)\n",
    "require()"
   ]
  },
  {
   "cell_type": "markdown",
   "metadata": {},
   "source": [
    "## 1. Read data"
   ]
  },
  {
   "cell_type": "markdown",
   "metadata": {},
   "source": [
    "### 1.1. `Utilities.py`로부터 `read_pickle_file` method를 이용해 필요한 pickle 파일을 로드"
   ]
  },
  {
   "cell_type": "code",
   "execution_count": 2,
   "metadata": {},
   "outputs": [
    {
     "data": {
      "text/html": [
       "<table>\n",
       "<caption>A data.frame: 1 × 13</caption>\n",
       "<thead>\n",
       "\t<tr><th></th><th scope=col>회의록ID</th><th scope=col>대수</th><th scope=col>위원회구분</th><th scope=col>위원회</th><th scope=col>회차</th><th scope=col>회의일자</th><th scope=col>회의장소</th><th scope=col>발언ID</th><th scope=col>발언순서</th><th scope=col>안건</th><th scope=col>발언자</th><th scope=col>발언내용</th><th scope=col>token</th></tr>\n",
       "\t<tr><th></th><th scope=col>&lt;dbl&gt;</th><th scope=col>&lt;dbl&gt;</th><th scope=col>&lt;chr&gt;</th><th scope=col>&lt;chr&gt;</th><th scope=col>&lt;chr&gt;</th><th scope=col>&lt;chr&gt;</th><th scope=col>&lt;chr&gt;</th><th scope=col>&lt;dbl&gt;</th><th scope=col>&lt;dbl&gt;</th><th scope=col>&lt;list&gt;</th><th scope=col>&lt;chr&gt;</th><th scope=col>&lt;chr&gt;</th><th scope=col>&lt;list&gt;</th></tr>\n",
       "</thead>\n",
       "<tbody>\n",
       "\t<tr><th scope=row>1</th><td>41725</td><td>19</td><td>상임위원회</td><td>국회운영위원회</td><td>제309회(2012.07.05-2012.08.03) - 제1차</td><td>2012년7월10일(화)</td><td>문화체육관광방송통신위원회회의실</td><td>814716</td><td>2</td><td>FRONT</td><td>김기현 위원</td><td>반갑습니다. 앉아서 인사드리겠습니다.   새누리당 김기현 위원입니다.  앞으로 우리 위원님들 잘 모시고 우리 위원회가 국회 내에서 가장 모범적인 위원회로 운영될 수 있도록 잘 뒷바라지하도록 하겠습니다. 만나 뵙게 되서 대단히 반갑습니다.</td><td>인사    , 누리    , 당      , 김기현  , 위원    , 앞      , 위원    , 위원회  , 국회    , 모범    , 위원회  , 운영    , 뒷바라지</td></tr>\n",
       "</tbody>\n",
       "</table>\n"
      ],
      "text/latex": [
       "A data.frame: 1 × 13\n",
       "\\begin{tabular}{r|lllllllllllll}\n",
       "  & 회의록ID & 대수 & 위원회구분 & 위원회 & 회차 & 회의일자 & 회의장소 & 발언ID & 발언순서 & 안건 & 발언자 & 발언내용 & token\\\\\n",
       "  & <dbl> & <dbl> & <chr> & <chr> & <chr> & <chr> & <chr> & <dbl> & <dbl> & <list> & <chr> & <chr> & <list>\\\\\n",
       "\\hline\n",
       "\t1 & 41725 & 19 & 상임위원회 & 국회운영위원회 & 제309회(2012.07.05-2012.08.03) - 제1차 & 2012년7월10일(화) & 문화체육관광방송통신위원회회의실 & 814716 & 2 & FRONT & 김기현 위원 & 반갑습니다. 앉아서 인사드리겠습니다.   새누리당 김기현 위원입니다.  앞으로 우리 위원님들 잘 모시고 우리 위원회가 국회 내에서 가장 모범적인 위원회로 운영될 수 있도록 잘 뒷바라지하도록 하겠습니다. 만나 뵙게 되서 대단히 반갑습니다. & 인사    , 누리    , 당      , 김기현  , 위원    , 앞      , 위원    , 위원회  , 국회    , 모범    , 위원회  , 운영    , 뒷바라지\\\\\n",
       "\\end{tabular}\n"
      ],
      "text/markdown": [
       "\n",
       "A data.frame: 1 × 13\n",
       "\n",
       "| <!--/--> | 회의록ID &lt;dbl&gt; | 대수 &lt;dbl&gt; | 위원회구분 &lt;chr&gt; | 위원회 &lt;chr&gt; | 회차 &lt;chr&gt; | 회의일자 &lt;chr&gt; | 회의장소 &lt;chr&gt; | 발언ID &lt;dbl&gt; | 발언순서 &lt;dbl&gt; | 안건 &lt;list&gt; | 발언자 &lt;chr&gt; | 발언내용 &lt;chr&gt; | token &lt;list&gt; |\n",
       "|---|---|---|---|---|---|---|---|---|---|---|---|---|---|\n",
       "| 1 | 41725 | 19 | 상임위원회 | 국회운영위원회 | 제309회(2012.07.05-2012.08.03) - 제1차 | 2012년7월10일(화) | 문화체육관광방송통신위원회회의실 | 814716 | 2 | FRONT | 김기현 위원 | 반갑습니다. 앉아서 인사드리겠습니다.   새누리당 김기현 위원입니다.  앞으로 우리 위원님들 잘 모시고 우리 위원회가 국회 내에서 가장 모범적인 위원회로 운영될 수 있도록 잘 뒷바라지하도록 하겠습니다. 만나 뵙게 되서 대단히 반갑습니다. | 인사    , 누리    , 당      , 김기현  , 위원    , 앞      , 위원    , 위원회  , 국회    , 모범    , 위원회  , 운영    , 뒷바라지 |\n",
       "\n"
      ],
      "text/plain": [
       "  회의록ID 대수 위원회구분 위원회        \n",
       "1 41725    19   상임위원회 국회운영위원회\n",
       "  회차                                   회의일자         \n",
       "1 제309회(2012.07.05-2012.08.03) - 제1차 2012년7월10일(화)\n",
       "  회의장소                         발언ID 발언순서 안건  발언자     \n",
       "1 문화체육관광방송통신위원회회의실 814716 2        FRONT 김기현 위원\n",
       "  발언내용                                                                                                                                                                                                                            \n",
       "1 반갑습니다. 앉아서 인사드리겠습니다.   새누리당 김기현 위원입니다.  앞으로 우리 위원님들 잘 모시고 우리 위원회가 국회 내에서 가장 모범적인 위원회로 운영될 수 있도록 잘 뒷바라지하도록 하겠습니다. 만나 뵙게 되서 대단히 반갑습니다.\n",
       "  token                                                                                                                           \n",
       "1 인사    , 누리    , 당      , 김기현  , 위원    , 앞      , 위원    , 위원회  , 국회    , 모범    , 위원회  , 운영    , 뒷바라지"
      ]
     },
     "metadata": {},
     "output_type": "display_data"
    }
   ],
   "source": [
    "source_python(\"Utilities.py\")\n",
    "국회.19대.doc <- read_pickle_file(\"./result/국회_19대_BOW.pickle\")\n",
    "국회.19대.vocab <- read_pickle_file(\"./result/국회_19대_dict.pickle\")\n",
    "국회.19대.meta <- read_pickle_file(\"./result/국회_19대_토큰.pkl\")\n",
    "\n",
    "국회.19대.meta[2, ]"
   ]
  },
  {
   "cell_type": "code",
   "execution_count": 9,
   "metadata": {},
   "outputs": [],
   "source": [
    "국회.19대.doc <- 국회.19대.doc.o"
   ]
  },
  {
   "cell_type": "markdown",
   "metadata": {},
   "source": [
    "### 1.2. token 열을 `stm`에 맞게 list of matrices로 parse"
   ]
  },
  {
   "cell_type": "code",
   "execution_count": 10,
   "metadata": {},
   "outputs": [],
   "source": [
    "parse_to_m = function(l){\n",
    "    rbind(l[[1]]+1, l[[2]]) # Python과 R의 indexing 차이\n",
    "}\n",
    "\n",
    "# for (i in 1:length(국회.19대.doc)){\n",
    "for (i in 1){\n",
    "    progress(i, length(국회.19대.doc), progress.bar = T)\n",
    "    doci = 국회.19대.doc[[i]]\n",
    "    doci = lapply(doci, parse_to_m)\n",
    "    mat = data.frame(doci) %>% as.matrix\n",
    "    colnames(mat) = NULL\n",
    "    국회.19대.doc[[i]] = mat\n",
    "}\n",
    "\n",
    "# 국회.19대.meta %>% select(위원회, 회차, 회의일자, 발언자) %>% describe()\n",
    "국회.19대.doc"
   ]
  },
  {
   "cell_type": "markdown",
   "metadata": {},
   "source": [
    "#### 1.2.1 Save or load RDS"
   ]
  },
  {
   "cell_type": "code",
   "execution_count": 6,
   "metadata": {},
   "outputs": [],
   "source": [
    "out <- prepDocuments(국회.19대.doc, 국회.19대.vocab, 국회.19대.meta, lower.thresh = 0)\n",
    "saveRDS(out, './result/processed.data.for.stm.rds')"
   ]
  }
 ],
 "metadata": {
  "kernelspec": {
   "display_name": "R",
   "language": "R",
   "name": "ir"
  },
  "language_info": {
   "codemirror_mode": "r",
   "file_extension": ".r",
   "mimetype": "text/x-r-source",
   "name": "R",
   "pygments_lexer": "r",
   "version": "4.0.0"
  }
 },
 "nbformat": 4,
 "nbformat_minor": 4
}
