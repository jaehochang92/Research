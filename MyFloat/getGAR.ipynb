{
 "cells": [
  {
   "cell_type": "code",
   "execution_count": null,
   "metadata": {},
   "outputs": [],
   "source": [
    "%load_ext autoreload\n",
    "%autoreload 2"
   ]
  },
  {
   "cell_type": "code",
   "execution_count": null,
   "metadata": {},
   "outputs": [],
   "source": [
    "from Mylib import *"
   ]
  },
  {
   "cell_type": "code",
   "execution_count": null,
   "metadata": {},
   "outputs": [],
   "source": [
    "def gen_dateRanges(s, e, by = 1):\n",
    "    start = datetime.date(s[0], s[1], s[2])\n",
    "    end = datetime.date(e[0], e[1], e[2])\n",
    "    numdays = end - start\n",
    "    date_list = [(end - datetime.timedelta(days=x)).strftime(\"%Y-%m-%d\")\n",
    "                 for x in range(numdays.days + 1)][::-1]\n",
    "    return [[date_list[i:i + by][idx] for idx in [0, -1]]\n",
    "            for i in range(0, len(date_list), by) if len(date_list[i:i + by]) == by]"
   ]
  },
  {
   "cell_type": "markdown",
   "metadata": {},
   "source": [
    "### References for Request Body\n",
    "https://developers.google.com/analytics/devguides/reporting/core/v4/rest/v4/reports/batchGet#ReportRequest"
   ]
  },
  {
   "cell_type": "code",
   "execution_count": null,
   "metadata": {},
   "outputs": [],
   "source": [
    "my_API = GoogleAPI()\n",
    "ar = my_API.initialize_serivce('./float-222704-70edd21a1124.json', \n",
    "                               ['https://www.googleapis.com/auth/analytics.readonly'], \n",
    "                               'analyticsreporting', 'v4')\n",
    "\n",
    "gs = my_API.initialize_serivce('./gscred.json', \n",
    "                               ['https://www.googleapis.com/auth/spreadsheets'],\n",
    "                               'sheets', 'v4')"
   ]
  },
  {
   "cell_type": "code",
   "execution_count": null,
   "metadata": {},
   "outputs": [],
   "source": [
    "METRICS = [\n",
    "    'sessionDuration', 'bounces', 'sessions'\n",
    "]"
   ]
  },
  {
   "cell_type": "code",
   "execution_count": null,
   "metadata": {},
   "outputs": [],
   "source": [
    "GN = buildDF(gen_dateRanges([2020, 4, 1], [2020, 4, 30], 1), [\n",
    "    'date', 'sessionCount', \n",
    "    'socialNetwork',\n",
    "    'country', 'city' # Geo Network\n",
    "    ], METRICS)"
   ]
  },
  {
   "cell_type": "code",
   "execution_count": null,
   "metadata": {},
   "outputs": [],
   "source": [
    "AD = buildDF(gen_dateRanges([2020, 4, 1], [2020, 4, 30], 30), [\n",
    "    'date', 'sessionCount', \n",
    "    'socialNetwork',\n",
    "    'interestAffinityCategory', 'userAgeBracket', 'userGender', # Audience\n",
    "    ], METRICS, ['United States'])\n",
    "# AD.interestAffinityCategory = AD.interestAffinityCategory.apply(lambda x: re.sub('/.+', '', x))"
   ]
  },
  {
   "cell_type": "code",
   "execution_count": null,
   "metadata": {},
   "outputs": [],
   "source": [
    "GN.describe(include='all')"
   ]
  },
  {
   "cell_type": "code",
   "execution_count": null,
   "metadata": {},
   "outputs": [],
   "source": [
    "AD.describe(include='all')"
   ]
  },
  {
   "cell_type": "code",
   "execution_count": null,
   "metadata": {},
   "outputs": [],
   "source": [
    "GN.to_csv('./Data_GeoNetwork.csv')\n",
    "AD.to_csv('./Data_Audience.csv')"
   ]
  },
  {
   "cell_type": "markdown",
   "metadata": {},
   "source": [
    "## Get Result Tables as Google Sheet"
   ]
  },
  {
   "cell_type": "code",
   "execution_count": null,
   "metadata": {},
   "outputs": [],
   "source": [
    "files = ['session_distribution_by_city', 'session_distribution_by_aff',\n",
    "         'session_distribution_by_age', 'session_distribution_by_sex']\n",
    "\n",
    "tables = [pd.read_csv(f'./Analysis/{file}.csv') for file in files]\n",
    "MakeSheet(gs, {f'{n}': table for n, table in zip(files, tables)}, 'session_distributions')"
   ]
  }
 ],
 "metadata": {
  "kernelspec": {
   "display_name": "Python 3",
   "language": "python",
   "name": "python3"
  },
  "language_info": {
   "codemirror_mode": {
    "name": "ipython",
    "version": 3
   },
   "file_extension": ".py",
   "mimetype": "text/x-python",
   "name": "python",
   "nbconvert_exporter": "python",
   "pygments_lexer": "ipython3",
   "version": "3.6.7"
  }
 },
 "nbformat": 4,
 "nbformat_minor": 4
}
