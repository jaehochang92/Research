{
 "cells": [
  {
   "cell_type": "code",
   "execution_count": 23,
   "metadata": {},
   "outputs": [
    {
     "data": {
      "text/html": [
       "<style>\n",
       ".dl-inline {width: auto; margin:0; padding: 0}\n",
       ".dl-inline>dt, .dl-inline>dd {float: none; width: auto; display: inline-block}\n",
       ".dl-inline>dt::after {content: \":\\0020\"; padding-right: .5ex}\n",
       ".dl-inline>dt:not(:first-of-type) {padding-left: .5ex}\n",
       "</style><dl class=dl-inline><dt>data.table</dt><dd>TRUE</dd><dt>stargazer</dt><dd>TRUE</dd><dt>dplyr</dt><dd>TRUE</dd><dt>Hmisc</dt><dd>TRUE</dd><dt>plotly</dt><dd>TRUE</dd></dl>\n"
      ],
      "text/latex": [
       "\\begin{description*}\n",
       "\\item[data.table] TRUE\n",
       "\\item[stargazer] TRUE\n",
       "\\item[dplyr] TRUE\n",
       "\\item[Hmisc] TRUE\n",
       "\\item[plotly] TRUE\n",
       "\\end{description*}\n"
      ],
      "text/markdown": [
       "data.table\n",
       ":   TRUEstargazer\n",
       ":   TRUEdplyr\n",
       ":   TRUEHmisc\n",
       ":   TRUEplotly\n",
       ":   TRUE\n",
       "\n"
      ],
      "text/plain": [
       "data.table  stargazer      dplyr      Hmisc     plotly \n",
       "      TRUE       TRUE       TRUE       TRUE       TRUE "
      ]
     },
     "metadata": {},
     "output_type": "display_data"
    }
   ],
   "source": [
    "libs <- c('data.table', 'stargazer', 'dplyr', 'Hmisc', 'plotly')\n",
    "sapply(libs, require, character.only = T, quietly = T)\n",
    "\n",
    "options(grType = 'plotly', repr.plot.width = 20, repr.plot.height = 10)"
   ]
  },
  {
   "cell_type": "code",
   "execution_count": 24,
   "metadata": {},
   "outputs": [],
   "source": [
    "Data_collection <- list(Data_GeoNetwork = fread('../Data_GeoNetwork.csv')[, V1 := NULL],\n",
    "                        Data_Audience = fread('../Data_Audience.csv')[, V1 := NULL])"
   ]
  },
  {
   "cell_type": "markdown",
   "metadata": {},
   "source": [
    "Note that `Data_Audience` was collected from the United States sessions only."
   ]
  },
  {
   "cell_type": "code",
   "execution_count": 27,
   "metadata": {},
   "outputs": [
    {
     "data": {
      "text/html": [
       "<style>\n",
       ".list-inline {list-style: none; margin:0; padding: 0}\n",
       ".list-inline>li {display: inline-block}\n",
       ".list-inline>li:not(:last-child)::after {content: \"\\00b7\"; padding: 0 .5ex}\n",
       "</style>\n",
       "<ol class=list-inline><li>'date'</li><li>'sessionCount'</li><li>'socialNetwork'</li><li>'country'</li><li>'city'</li><li>'sessionDuration'</li><li>'bounces'</li><li>'sessions'</li></ol>\n"
      ],
      "text/latex": [
       "\\begin{enumerate*}\n",
       "\\item 'date'\n",
       "\\item 'sessionCount'\n",
       "\\item 'socialNetwork'\n",
       "\\item 'country'\n",
       "\\item 'city'\n",
       "\\item 'sessionDuration'\n",
       "\\item 'bounces'\n",
       "\\item 'sessions'\n",
       "\\end{enumerate*}\n"
      ],
      "text/markdown": [
       "1. 'date'\n",
       "2. 'sessionCount'\n",
       "3. 'socialNetwork'\n",
       "4. 'country'\n",
       "5. 'city'\n",
       "6. 'sessionDuration'\n",
       "7. 'bounces'\n",
       "8. 'sessions'\n",
       "\n",
       "\n"
      ],
      "text/plain": [
       "[1] \"date\"            \"sessionCount\"    \"socialNetwork\"   \"country\"        \n",
       "[5] \"city\"            \"sessionDuration\" \"bounces\"         \"sessions\"       "
      ]
     },
     "metadata": {},
     "output_type": "display_data"
    },
    {
     "data": {
      "text/html": [
       "<style>\n",
       ".list-inline {list-style: none; margin:0; padding: 0}\n",
       ".list-inline>li {display: inline-block}\n",
       ".list-inline>li:not(:last-child)::after {content: \"\\00b7\"; padding: 0 .5ex}\n",
       "</style>\n",
       "<ol class=list-inline><li>'date'</li><li>'sessionCount'</li><li>'socialNetwork'</li><li>'interestAffinityCategory'</li><li>'userAgeBracket'</li><li>'userGender'</li><li>'sessionDuration'</li><li>'bounces'</li><li>'sessions'</li></ol>\n"
      ],
      "text/latex": [
       "\\begin{enumerate*}\n",
       "\\item 'date'\n",
       "\\item 'sessionCount'\n",
       "\\item 'socialNetwork'\n",
       "\\item 'interestAffinityCategory'\n",
       "\\item 'userAgeBracket'\n",
       "\\item 'userGender'\n",
       "\\item 'sessionDuration'\n",
       "\\item 'bounces'\n",
       "\\item 'sessions'\n",
       "\\end{enumerate*}\n"
      ],
      "text/markdown": [
       "1. 'date'\n",
       "2. 'sessionCount'\n",
       "3. 'socialNetwork'\n",
       "4. 'interestAffinityCategory'\n",
       "5. 'userAgeBracket'\n",
       "6. 'userGender'\n",
       "7. 'sessionDuration'\n",
       "8. 'bounces'\n",
       "9. 'sessions'\n",
       "\n",
       "\n"
      ],
      "text/plain": [
       "[1] \"date\"                     \"sessionCount\"            \n",
       "[3] \"socialNetwork\"            \"interestAffinityCategory\"\n",
       "[5] \"userAgeBracket\"           \"userGender\"              \n",
       "[7] \"sessionDuration\"          \"bounces\"                 \n",
       "[9] \"sessions\"                "
      ]
     },
     "metadata": {},
     "output_type": "display_data"
    }
   ],
   "source": [
    "Data_collection$Data_GeoNetwork%>%colnames\n",
    "Data_collection$Data_Audience%>%colnames"
   ]
  },
  {
   "cell_type": "markdown",
   "metadata": {},
   "source": [
    "GNd <- describe(Data_collection$Data_GeoNetwork[\n",
    "    sessionDuration > 0,\n",
    "])\n",
    "\n",
    "p1 <- plot(GNd)\n",
    "p1 <- subplot(p1$Categorical, p1$Continuous, nrows = 2, widths = 1) %>%\n",
    "embed_notebook(width = 850, height = 400)"
   ]
  },
  {
   "cell_type": "code",
   "execution_count": 35,
   "metadata": {},
   "outputs": [
    {
     "data": {
      "text/plain": [
       "sessionDuration + city + country \n",
       "\n",
       " 3  Variables      1791  Observations\n",
       "--------------------------------------------------------------------------------\n",
       "sessionDuration \n",
       "       n  missing distinct     Info     Mean      Gmd      .05      .10 \n",
       "    1791        0      437        1    163.6    248.1      4.0      6.0 \n",
       "     .25      .50      .75      .90      .95 \n",
       "    14.0     37.0    108.5    416.0    923.5 \n",
       "\n",
       "lowest :    1    2    3    4    5, highest: 2617 2805 2841 4462 5004\n",
       "--------------------------------------------------------------------------------\n",
       "city \n",
       "       n  missing distinct \n",
       "    1791        0      955 \n",
       "\n",
       "lowest : (not set)   Abbotsford  Acworth     Addis       Adrian     \n",
       "highest: Wyndham     Yorba Linda Yuba City   Yukon       Zimmerman  \n",
       "--------------------------------------------------------------------------------\n",
       "country \n",
       "       n  missing distinct \n",
       "    1791        0        2 \n",
       "                                      \n",
       "Value             Canada United States\n",
       "Frequency            108          1683\n",
       "Proportion          0.06          0.94\n",
       "--------------------------------------------------------------------------------"
      ]
     },
     "metadata": {},
     "output_type": "display_data"
    }
   ],
   "source": [
    "with(Data_collection$Data_GeoNetwork, describe(~ sessionDuration + city + country))"
   ]
  },
  {
   "cell_type": "code",
   "execution_count": 36,
   "metadata": {},
   "outputs": [
    {
     "data": {
      "text/plain": [
       "sessionDuration + interestAffinityCategory + userAgeBracket + userGender \n",
       "\n",
       " 4  Variables      401  Observations\n",
       "--------------------------------------------------------------------------------\n",
       "sessionDuration \n",
       "       n  missing distinct     Info     Mean      Gmd      .05      .10 \n",
       "     401        0      360        1     2052     2108       60      187 \n",
       "     .25      .50      .75      .90      .95 \n",
       "     502     1464     2934     4531     6140 \n",
       "\n",
       "lowest :     5     6    15    17    22, highest: 10470 10994 12386 12665 12742\n",
       "--------------------------------------------------------------------------------\n",
       "interestAffinityCategory \n",
       "       n  missing distinct \n",
       "     401        0       78 \n",
       "\n",
       "lowest : Banking & Finance/Avid Investors                                                    Beauty & Wellness/Frequently Visits Salons                                          Food & Dining/Coffee Shop Regulars                                                  Food & Dining/Cooking Enthusiasts                                                   Food & Dining/Cooking Enthusiasts/30 Minute Chefs                                  \n",
       "highest: Travel/Travel Buffs/Family Vacationers                                              Vehicles & Transportation/Auto Enthusiasts                                          Vehicles & Transportation/Auto Enthusiasts/Motorcycle Enthusiasts                   Vehicles & Transportation/Auto Enthusiasts/Performance & Luxury Vehicle Enthusiasts Vehicles & Transportation/Auto Enthusiasts/Truck & SUV Enthusiasts                 \n",
       "--------------------------------------------------------------------------------\n",
       "userAgeBracket \n",
       "       n  missing distinct \n",
       "     401        0        4 \n",
       "                                  \n",
       "Value      18-24 25-34 35-44 45-54\n",
       "Frequency    108   219    54    20\n",
       "Proportion 0.269 0.546 0.135 0.050\n",
       "--------------------------------------------------------------------------------\n",
       "userGender \n",
       "       n  missing distinct \n",
       "     401        0        2 \n",
       "                        \n",
       "Value      female   male\n",
       "Frequency       9    392\n",
       "Proportion  0.022  0.978\n",
       "--------------------------------------------------------------------------------"
      ]
     },
     "metadata": {},
     "output_type": "display_data"
    }
   ],
   "source": [
    "with(Data_collection$Data_Audience, describe(~ sessionDuration + interestAffinityCategory + \n",
    "                                             userAgeBracket + userGender))"
   ]
  },
  {
   "cell_type": "markdown",
   "metadata": {},
   "source": [
    "No significant difference of session durations was found between US and Canada."
   ]
  },
  {
   "cell_type": "code",
   "execution_count": null,
   "metadata": {},
   "outputs": [],
   "source": [
    "Data_collection$Data_GeoNetwork[country == 'United States' & sessionDuration > 0,\n",
    "                                .(`total sessionDuration` = sum(sessionDuration), \n",
    "                                  `total sessions` = sum(sessions)), \n",
    "                                by = city] %>%\n",
    ".[, .(`total sessionDuration/total sessions` = round(`total sessionDuration`/`total sessions`, 2), \n",
    "      `total sessionDuration`, `total sessions`), \n",
    "  by = city] %>%\n",
    "arrange(., desc(`total sessions`)) %>% head(50) %>% fwrite('./session_distribution_by_city.csv')"
   ]
  },
  {
   "cell_type": "code",
   "execution_count": null,
   "metadata": {},
   "outputs": [],
   "source": [
    "Data_collection$Data_Audience[,.(`total sessionDuration` = sum(sessionDuration),\n",
    "                                 `total sessions` = sum(sessions)), \n",
    "                                by = interestAffinityCategory] %>%\n",
    ".[, .(`total sessionDuration/total sessions` = round(`total sessionDuration`/`total sessions`, 2), \n",
    "      `total sessionDuration`, `total sessions`), \n",
    "  by = interestAffinityCategory] %>%\n",
    "arrange(., desc(`total sessions`)) %>% head(50) %>% fwrite('./session_distribution_by_aff.csv')"
   ]
  },
  {
   "cell_type": "code",
   "execution_count": null,
   "metadata": {},
   "outputs": [],
   "source": [
    "Data_collection$Data_Audience[,.(`total sessionDuration` = sum(sessionDuration),\n",
    "                                 `total sessions` = sum(sessions)), \n",
    "                                by = userAgeBracket] %>%\n",
    ".[, .(`total sessionDuration/total sessions` = round(`total sessionDuration`/`total sessions`, 2), \n",
    "      `total sessionDuration`, `total sessions`), \n",
    "  by = userAgeBracket] %>%\n",
    "arrange(., desc(`total sessions`)) %>% head(50) %>% fwrite('./session_distribution_by_age.csv')"
   ]
  },
  {
   "cell_type": "code",
   "execution_count": null,
   "metadata": {},
   "outputs": [],
   "source": [
    "Data_collection$Data_Audience[,.(`total sessionDuration` = sum(sessionDuration),\n",
    "                                 `total sessions` = sum(sessions)), \n",
    "                                by = userGender] %>%\n",
    ".[, .(`total sessionDuration/total sessions` = round(`total sessionDuration`/`total sessions`, 2), \n",
    "      `total sessionDuration`, `total sessions`), \n",
    "  by = userGender] %>%\n",
    "arrange(., desc(`total sessions`)) %>% head(50) %>% fwrite('./session_distribution_by_sex.csv')"
   ]
  }
 ],
 "metadata": {
  "kernelspec": {
   "display_name": "R",
   "language": "R",
   "name": "ir"
  },
  "language_info": {
   "codemirror_mode": "r",
   "file_extension": ".r",
   "mimetype": "text/x-r-source",
   "name": "R",
   "pygments_lexer": "r",
   "version": "3.6.3"
  }
 },
 "nbformat": 4,
 "nbformat_minor": 4
}
