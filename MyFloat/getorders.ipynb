{
 "cells": [
  {
   "cell_type": "code",
   "execution_count": null,
   "metadata": {},
   "outputs": [],
   "source": [
    "%load_ext autoreload\n",
    "%autoreload 2"
   ]
  },
  {
   "cell_type": "code",
   "execution_count": null,
   "metadata": {},
   "outputs": [],
   "source": [
    "from Mylib import *\n",
    "import os\n",
    "\n",
    "os.getcwd()"
   ]
  },
  {
   "cell_type": "markdown",
   "metadata": {},
   "source": [
    "Read json, get valid columns, remove canceled orders, and set amount = amount/100"
   ]
  },
  {
   "cell_type": "code",
   "execution_count": null,
   "metadata": {},
   "outputs": [],
   "source": [
    "orders = pd.read_json('../../orders/orders.json')\n",
    "orders = orders.loc[[i for i,r in orders.amount_returned.items() if pd.isna(r)]]\n",
    "orders = orders.loc[[i for i,r in orders.status.items() if r != 'canceled']]\n",
    "orders.amount = orders.amount.apply(lambda x: x/100)"
   ]
  },
  {
   "cell_type": "markdown",
   "metadata": {},
   "source": [
    "Categorize variables by type and select variables with more than one unique value"
   ]
  },
  {
   "cell_type": "code",
   "execution_count": null,
   "metadata": {},
   "outputs": [],
   "source": [
    "ld = [i for i,j in orders.apply(lambda x: type(x[0]), 0).items() if j in [list, dict]]\n",
    "non_ld = [i for i, j in orders[[c for c in orders.columns if c not in ld]].apply(lambda x: len(pd.unique(x))).items() if j > 1]\n",
    "orders = orders[non_ld + ld].drop(['metadata', 'returns'], 1)"
   ]
  },
  {
   "cell_type": "code",
   "execution_count": null,
   "metadata": {},
   "outputs": [],
   "source": [
    "orders.head(3)"
   ]
  },
  {
   "cell_type": "code",
   "execution_count": null,
   "metadata": {},
   "outputs": [],
   "source": [
    "ids = orders.index\n",
    "temp = pd.DataFrame(orders.loc[ids[0]].shipping['address'], index = ids[:1])\n",
    "for i in ids[1:]:\n",
    "    temp = temp.append(pd.DataFrame(orders.loc[i].shipping['address'], index = [i]))\n",
    "final = pd.concat([orders[non_ld], temp], axis = 1)\n",
    "final.to_csv('./Data_orders.csv')"
   ]
  },
  {
   "cell_type": "code",
   "execution_count": null,
   "metadata": {},
   "outputs": [],
   "source": [
    "my_API = GoogleAPI()\n",
    "gs = my_API.initialize_serivce('./gscred.json', \n",
    "                               ['https://www.googleapis.com/auth/spreadsheets'],\n",
    "                               'sheets', 'v4')"
   ]
  },
  {
   "cell_type": "code",
   "execution_count": null,
   "metadata": {},
   "outputs": [],
   "source": [
    "MakeSheet(gs, {'by state': pd.read_csv('./Analysis/order_distribution_by_state.csv'),\n",
    "               'by city': pd.read_csv('./Analysis/order_distribution_by_city.csv')}, \n",
    "          'order_distributions')"
   ]
  }
 ],
 "metadata": {
  "kernelspec": {
   "display_name": "Python 3",
   "language": "python",
   "name": "python3"
  },
  "language_info": {
   "codemirror_mode": {
    "name": "ipython",
    "version": 3
   },
   "file_extension": ".py",
   "mimetype": "text/x-python",
   "name": "python",
   "nbconvert_exporter": "python",
   "pygments_lexer": "ipython3",
   "version": "3.6.7"
  }
 },
 "nbformat": 4,
 "nbformat_minor": 4
}
