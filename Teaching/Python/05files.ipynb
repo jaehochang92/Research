{
 "cells": [
  {
   "cell_type": "markdown",
   "metadata": {},
   "source": [
    "## Handling files in Python\n",
    "Before we can try to do anything with a file, we need to open it. To open a file, we can use the built-in function `open()`.\n",
    "\n",
    "### example of opening a file"
   ]
  },
  {
   "cell_type": "code",
   "execution_count": 1,
   "metadata": {},
   "outputs": [],
   "source": [
    "my_file = open('pyecon.pdf')"
   ]
  },
  {
   "cell_type": "markdown",
   "metadata": {},
   "source": [
    "The `open()` function has one required parameter file which is a path-like object. The path-like object is a `str` or `bytes` that represents a path in the file directory. In our example, the file parameter has the value `\"pyecond.pdf\"` which means that the file lies in the current working directory. In this topic, we won't get into details about paths and directories, so we'll just assume that all our example files lie in the current working directory.\n",
    "\n",
    "The object `my_file` we've just created is a file or file-like object. It just means that we can use different kinds of file methods on this object.\n",
    "\n",
    "The `open()` function has a number of optional parameters. In this topic, we'll look at two parameters: `mode` and `encoding`."
   ]
  },
  {
   "cell_type": "markdown",
   "metadata": {},
   "source": [
    "The `mode` parameter\n",
    "This parameter regulates how we want to open our file and what for. The following options are available:\n",
    "\n",
    "|||\n",
    "|-|-|\n",
    "|`'r'`|Open for reading. If the file doesn't exist, an error occurs.|\n",
    "|`'w'`|Open for writing and truncate. If the file already exists, it will be overwritten.|\n",
    "|`'a'`|Open for writing. If the file already exists, append to the end of the file.|\n",
    "|`'b'`|Open in binary mode.|\n",
    "|`'+'`|Open for updating (reading and writing).|\n",
    "|`'t'`|Open as a text|"
   ]
  },
  {
   "cell_type": "markdown",
   "metadata": {},
   "source": [
    "A couple of things need to be said about modes.\n",
    "\n",
    ">First of all, by default, files are opened for reading as a text, so the default value of mode is `'r'` or, more precisely, `'rt'`.\n",
    "\n",
    ">Second, as you can see, we can combine modes to do what we need. For example, if we want to open an existing file and be able to read and update it, we should set the mode as `'r+'`.\n",
    "\n",
    ">Third, we can choose the format in which we want to open files. The main options are text or binary, `'t'` and `'b'` respectively. This corresponds to the difference between `str` and `bytes` objects. So, if you want to open a file for writing in binary, the mode should be `'wb'`. It should also be said, that since text format is the default format, most of the times 't' is omitted.\n",
    "\n",
    ">Lastly, we should mention an important difference between options `'w'` and `'a'`. Both these modes are used for writing to a file. The only difference is that `'w'` deletes the original content of file. The `'a'` behaves differently: if the file exists, anything that we write to it will be simply added to the end of the file."
   ]
  },
  {
   "cell_type": "markdown",
   "metadata": {},
   "source": [
    "## Encoding\n",
    "The `encoding` parameter specifies the encoding that should be used to decode or encode the text file. The default value depends on the platform. Below are some examples of opening files for reading in different encodings:\n",
    "\n",
    "### UTF-8"
   ]
  },
  {
   "cell_type": "code",
   "execution_count": 2,
   "metadata": {},
   "outputs": [],
   "source": [
    "file_utf8 = open('my_file.txt', encoding='utf-8') "
   ]
  },
  {
   "cell_type": "markdown",
   "metadata": {},
   "source": [
    "### UTF-16"
   ]
  },
  {
   "cell_type": "code",
   "execution_count": 3,
   "metadata": {},
   "outputs": [],
   "source": [
    "file_utf16 = open('my_file.txt', encoding='utf-16')"
   ]
  },
  {
   "cell_type": "markdown",
   "metadata": {},
   "source": [
    "### CP1252"
   ]
  },
  {
   "cell_type": "code",
   "execution_count": 4,
   "metadata": {},
   "outputs": [],
   "source": [
    "file_cp1252 = open('my_file.txt', encoding='cp1252')"
   ]
  },
  {
   "cell_type": "markdown",
   "metadata": {},
   "source": [
    ">Remember to match appropriate `encoding` with files because most Python programs necessitate external files and data!"
   ]
  },
  {
   "cell_type": "code",
   "execution_count": 5,
   "metadata": {},
   "outputs": [],
   "source": [
    "# closing the file\n",
    "my_file.close()"
   ]
  },
  {
   "cell_type": "markdown",
   "metadata": {},
   "source": [
    "## Reading files\n",
    "To read the file you can:\n",
    "\n",
    ">use the `read(size)` method;\n",
    "\n",
    ">use the `readline(size)`  method;\n",
    "\n",
    ">use the `readlines()`  method;\n",
    "\n",
    ">iterate over the lines with a `for` loop."
   ]
  },
  {
   "cell_type": "code",
   "execution_count": 54,
   "metadata": {},
   "outputs": [
    {
     "name": "stdout",
     "output_type": "stream",
     "text": [
      "This is my text file.\n",
      "If you want to read this file,\n",
      "First learn how to handle files in\n",
      "Python!!\n"
     ]
    }
   ],
   "source": [
    "file = open('my_file.txt', 'r')\n",
    "print(file.read())\n",
    "file.close()"
   ]
  },
  {
   "cell_type": "code",
   "execution_count": 55,
   "metadata": {},
   "outputs": [
    {
     "name": "stdout",
     "output_type": "stream",
     "text": [
      "This is my text file.\n",
      "\n",
      "If you want to read th\n",
      "is file,\n",
      "\n",
      "First learn how to han\n",
      "dle files in\n",
      "\n",
      "Python!!\n"
     ]
    }
   ],
   "source": [
    "file = open('my_file.txt', 'r')\n",
    "for _ in range(6):\n",
    "    print(file.readline(22))\n",
    "\n",
    "file.close()"
   ]
  },
  {
   "cell_type": "code",
   "execution_count": 33,
   "metadata": {},
   "outputs": [
    {
     "name": "stdout",
     "output_type": "stream",
     "text": [
      "['This is my text file.\\n', 'If you want to read this file,\\n', 'First learn how to handle files in\\n', 'Python!!']\n"
     ]
    }
   ],
   "source": [
    "file = open('my_file.txt', 'r')\n",
    "print(file.readlines())"
   ]
  },
  {
   "cell_type": "code",
   "execution_count": 35,
   "metadata": {},
   "outputs": [
    {
     "name": "stdout",
     "output_type": "stream",
     "text": [
      "This is my text file.\n",
      "If you want to read this file,\n",
      "First learn how to handle files in\n",
      "Python!!\n"
     ]
    }
   ],
   "source": [
    "file = open('my_file.txt', 'r')\n",
    "print(sep='', *file.readlines())\n",
    "file.close()"
   ]
  },
  {
   "cell_type": "code",
   "execution_count": 16,
   "metadata": {},
   "outputs": [
    {
     "name": "stdout",
     "output_type": "stream",
     "text": [
      "This is my text file.\n",
      "\n",
      "If you want to read this file,\n",
      "\n",
      "First learn how to handle files in\n",
      "\n",
      "Python!!\n"
     ]
    }
   ],
   "source": [
    "file = open('my_file.txt', 'r')\n",
    "for line in file:\n",
    "    print(line)\n",
    "\n",
    "file.close()"
   ]
  },
  {
   "cell_type": "markdown",
   "metadata": {},
   "source": [
    "## Write to file\n",
    "The basic mode for writing is `'w'` which allows us to write text to the file.\\\n",
    ">First, this mode allows us to create new files. This happens when the file we're trying to open doesn't exist yet. \n",
    "\n",
    ">Second, if the file already exists, its contents will be overwritten when we open it for writing.\n",
    "\n",
    "Now that the file is open, we can use the `write()` method."
   ]
  },
  {
   "cell_type": "code",
   "execution_count": 47,
   "metadata": {},
   "outputs": [],
   "source": [
    "file = open('test_file.txt', 'w', encoding='utf-8')\n",
    "file.write('This is a line in a test file!')\n",
    "file.close()"
   ]
  },
  {
   "cell_type": "code",
   "execution_count": 48,
   "metadata": {},
   "outputs": [],
   "source": [
    "names = ['Kate', 'Alexander', 'Oscar', 'Mary']\n",
    " \n",
    "name_file = open('test_file.txt', 'w', encoding='utf-8')\n",
    " \n",
    "# write the names on separate lines\n",
    "for name in names:\n",
    "    name_file.write(name + '\\n')\n",
    "\n",
    "name_file.close()"
   ]
  },
  {
   "cell_type": "code",
   "execution_count": 49,
   "metadata": {},
   "outputs": [],
   "source": [
    "names = ['Kate\\n', 'Alexander\\n', 'Oscar\\n', 'Mary\\n']\n",
    " \n",
    "name_file = open('test_file.txt', 'w', encoding='utf-8')\n",
    " \n",
    "# write the names on separate lines\n",
    "name_file.writelines(names)\n",
    " \n",
    "name_file.close()"
   ]
  },
  {
   "cell_type": "code",
   "execution_count": 50,
   "metadata": {},
   "outputs": [],
   "source": [
    "name_file = open('test_file.txt', 'a', encoding='utf-8')\n",
    " \n",
    "name_file.write('Rachel\\n')\n",
    " \n",
    "name_file.close()"
   ]
  },
  {
   "cell_type": "code",
   "execution_count": 51,
   "metadata": {},
   "outputs": [
    {
     "name": "stdout",
     "output_type": "stream",
     "text": [
      "['Kate\\n', 'Alexander\\n', 'Oscar\\n', 'Mary\\n', 'Rachel\\n']\n"
     ]
    }
   ],
   "source": [
    "name_file = open('test_file.txt', 'r', encoding='utf-8')\n",
    " \n",
    "print(name_file.readlines())\n",
    " \n",
    "name_file.close()"
   ]
  },
  {
   "cell_type": "markdown",
   "metadata": {},
   "source": [
    "## Flush and file arguments of print"
   ]
  },
  {
   "cell_type": "code",
   "execution_count": 65,
   "metadata": {},
   "outputs": [],
   "source": [
    "list_ = [1, 3, 4]\n",
    "my_file = open('test_file.txt', 'w')\n",
    "print(*_list, file=my_file, sep = '\\n')\n",
    "my_file.close()"
   ]
  },
  {
   "cell_type": "code",
   "execution_count": 68,
   "metadata": {},
   "outputs": [
    {
     "ename": "TypeError",
     "evalue": "'int' object is not iterable",
     "output_type": "error",
     "traceback": [
      "\u001b[0;31m---------------------------------------------------------------------------\u001b[0m",
      "\u001b[0;31mTypeError\u001b[0m                                 Traceback (most recent call last)",
      "\u001b[0;32m<ipython-input-68-c05c24ac35b2>\u001b[0m in \u001b[0;36m<module>\u001b[0;34m\u001b[0m\n\u001b[0;32m----> 1\u001b[0;31m \u001b[0;32mfor\u001b[0m \u001b[0ma\u001b[0m\u001b[0;34m,\u001b[0m \u001b[0mb\u001b[0m \u001b[0;32min\u001b[0m \u001b[0;34m[\u001b[0m\u001b[0;36m1\u001b[0m\u001b[0;34m,\u001b[0m \u001b[0;36m2\u001b[0m\u001b[0;34m]\u001b[0m\u001b[0;34m:\u001b[0m\u001b[0;34m\u001b[0m\u001b[0;34m\u001b[0m\u001b[0m\n\u001b[0m\u001b[1;32m      2\u001b[0m     \u001b[0ma\u001b[0m\u001b[0;34m,\u001b[0m \u001b[0mb\u001b[0m\u001b[0;34m\u001b[0m\u001b[0;34m\u001b[0m\u001b[0m\n",
      "\u001b[0;31mTypeError\u001b[0m: 'int' object is not iterable"
     ]
    }
   ],
   "source": [
    "for a, b in [1, 2]:\n",
    "    a, b"
   ]
  }
 ],
 "metadata": {
  "kernelspec": {
   "display_name": "Python 3",
   "language": "python",
   "name": "python3"
  },
  "language_info": {
   "codemirror_mode": {
    "name": "ipython",
    "version": 3
   },
   "file_extension": ".py",
   "mimetype": "text/x-python",
   "name": "python",
   "nbconvert_exporter": "python",
   "pygments_lexer": "ipython3",
   "version": "3.6.7"
  }
 },
 "nbformat": 4,
 "nbformat_minor": 4
}
