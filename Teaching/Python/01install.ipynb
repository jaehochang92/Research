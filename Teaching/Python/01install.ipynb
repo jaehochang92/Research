{
 "cells": [
  {
   "cell_type": "markdown",
   "metadata": {},
   "source": [
    "# Python is...\n",
    "\n",
    "* **interpreted**,\n",
    "* **high-level**, \n",
    "* **general-purpose**\n",
    "\n",
    "programming language.\n",
    "\n",
    "1. First created by Guido van Rossum in 1991\n",
    "\n",
    "2. Python's rule of thumb is readibility\n",
    "\n",
    "3. [Object-Oriented-Programming](https://en.wikipedia.org/wiki/Object-oriented_programming) language\n",
    "\n",
    "### Who uses Python?\n",
    "\n",
    "![whousepy](https://qph.fs.quoracdn.net/main-qimg-0613adfdf47a4691e947539c31be0247)"
   ]
  },
  {
   "cell_type": "code",
   "execution_count": 2,
   "metadata": {},
   "outputs": [
    {
     "name": "stdout",
     "output_type": "stream",
     "text": [
      "There is 4\n"
     ]
    }
   ],
   "source": [
    "if 4 in [1,2,3,4]: print(\"There is 4\")"
   ]
  },
  {
   "cell_type": "markdown",
   "metadata": {},
   "source": [
    "---\n",
    "readibility is about human perceptibility"
   ]
  },
  {
   "cell_type": "markdown",
   "metadata": {},
   "source": [
    "### Python is an open-source software"
   ]
  },
  {
   "cell_type": "markdown",
   "metadata": {},
   "source": [
    "* Souce code is open to anyone so is also open to any secondary creations - libraries, modules, applications, etc.\n",
    "\n",
    "#### Collaboration with C\n",
    ">Python: main procedure & script\n",
    "\n",
    ">C: compute-intensive algorithms\n",
    "\n",
    "Python has a number of libraries which utilize C lang.\n",
    "\n",
    ">**library** is a collection of classes, functions, modules, and properties ready to use in the programming."
   ]
  },
  {
   "cell_type": "markdown",
   "metadata": {},
   "source": [
    "### What Python can do?\n",
    "\n",
    ">Build System Utilities\n",
    "\n",
    "Python can access to user's local files and OS and users can use this features to build system utilities.\n",
    "\n",
    ">GUI programming\n",
    "\n",
    "GUI(Graphic User Interface) programming can make flexible and interactive softwares in which users can communicate with the machine under pre-defined scenario. \n",
    "\n",
    ">work with C/C++\n",
    "\n",
    "Python and C can collaborate with each other. \n",
    "\n",
    ">Web programming\n",
    "\n",
    "Countless programs and websites, applications use Python.\n",
    "\n",
    ">Python is a powerful calculator\n",
    "\n",
    "Although Python itslef is not perfect for doing math, library named `numpy` provides powerful math and data tools.\n",
    "\n",
    ">You can manage your database with Python\n",
    "\n",
    "Many DBs including SQL can be called and managed in Python.\n",
    "\n",
    ">Datascience\n",
    "\n",
    "`pandas`, `sklearn`, `gensim`, `seaborn`, `matplotlib`, `scipy`, `nltk`, ..."
   ]
  },
  {
   "cell_type": "markdown",
   "metadata": {},
   "source": [
    "### Installation\n",
    "\n",
    "https://www.python.org/downloads/\n",
    "\n",
    "32/64bit?\n",
    "\n",
    "Remember to check `Add Python 3.X to PATH`."
   ]
  },
  {
   "cell_type": "markdown",
   "metadata": {},
   "source": [
    "### Using Jupyter lab and IPython\n",
    "\n",
    "Python IDLE lacks some user-friendly functions such as code blocking, automatic syntax check, autocomplete.\n",
    "\n",
    "Jupyter lab is one of the most popular Python editor.\n",
    "\n",
    "You can install Jupyterlab via `conda` command after installation of Anaconda.\n",
    "\n",
    "Install Anaconda: https://www.anaconda.com/products/individual#download-section\n",
    "\n",
    "Install Jupyter lab: https://jupyter.org/install"
   ]
  },
  {
   "cell_type": "code",
   "execution_count": 15,
   "metadata": {},
   "outputs": [
    {
     "data": {
      "text/plain": [
       "3"
      ]
     },
     "execution_count": 15,
     "metadata": {},
     "output_type": "execute_result"
    }
   ],
   "source": [
    "1 + 2"
   ]
  },
  {
   "cell_type": "markdown",
   "metadata": {},
   "source": [
    "### Arithemetics"
   ]
  },
  {
   "cell_type": "code",
   "execution_count": 3,
   "metadata": {},
   "outputs": [
    {
     "data": {
      "text/plain": [
       "59"
      ]
     },
     "execution_count": 3,
     "metadata": {},
     "output_type": "execute_result"
    }
   ],
   "source": [
    "39 + 20"
   ]
  },
  {
   "cell_type": "code",
   "execution_count": 4,
   "metadata": {},
   "outputs": [
    {
     "data": {
      "text/plain": [
       "1.7222222222222223"
      ]
     },
     "execution_count": 4,
     "metadata": {},
     "output_type": "execute_result"
    }
   ],
   "source": [
    "31 / 18"
   ]
  },
  {
   "cell_type": "code",
   "execution_count": 5,
   "metadata": {},
   "outputs": [
    {
     "data": {
      "text/plain": [
       "20270544"
      ]
     },
     "execution_count": 5,
     "metadata": {},
     "output_type": "execute_result"
    }
   ],
   "source": [
    "1932 * 10492"
   ]
  },
  {
   "cell_type": "markdown",
   "metadata": {},
   "source": [
    "### Variables"
   ]
  },
  {
   "cell_type": "code",
   "execution_count": 23,
   "metadata": {},
   "outputs": [
    {
     "data": {
      "text/plain": [
       "4"
      ]
     },
     "execution_count": 23,
     "metadata": {},
     "output_type": "execute_result"
    }
   ],
   "source": [
    "a = 1\n",
    "b = 3\n",
    "a + b"
   ]
  },
  {
   "cell_type": "code",
   "execution_count": 41,
   "metadata": {},
   "outputs": [
    {
     "name": "stdout",
     "output_type": "stream",
     "text": [
      "Python is fun!\n"
     ]
    }
   ],
   "source": [
    "a = 'Python is fun!'\n",
    "print(a)"
   ]
  },
  {
   "cell_type": "markdown",
   "metadata": {},
   "source": [
    "*Python is a  case-sensitive language. That is,* print, Print, PRINT *are all different names in Python.*"
   ]
  },
  {
   "cell_type": "markdown",
   "metadata": {},
   "source": [
    "### Control Statements\n",
    "\n",
    "#### 1. `if` statement\n",
    "Example. If 32 is an integer, print '32 is an integer!'"
   ]
  },
  {
   "cell_type": "code",
   "execution_count": 6,
   "metadata": {},
   "outputs": [
    {
     "name": "stdout",
     "output_type": "stream",
     "text": [
      "32 is an integer!\n"
     ]
    }
   ],
   "source": [
    "number = 32\n",
    "if type(number) is int:\n",
    "    print('32 is an integer!')"
   ]
  },
  {
   "cell_type": "markdown",
   "metadata": {},
   "source": [
    "#### 2. `if` `else` statements + `for` loop"
   ]
  },
  {
   "cell_type": "code",
   "execution_count": 28,
   "metadata": {},
   "outputs": [
    {
     "name": "stdout",
     "output_type": "stream",
     "text": [
      "1 is not larger than 3!\n",
      "2 is not larger than 3!\n",
      "3 is not larger than 3!\n",
      "4 is larger than 3!\n",
      "5 is larger than 3!\n"
     ]
    }
   ],
   "source": [
    "for i in [1, 2, 3, 4, 5]:\n",
    "    if i > 3:\n",
    "        print(str(i) + ' is larger than 3!')\n",
    "    else:\n",
    "        print(str(i) + ' is not larger than 3!')"
   ]
  },
  {
   "cell_type": "markdown",
   "metadata": {},
   "source": [
    "#### 3. `while` loop"
   ]
  },
  {
   "cell_type": "code",
   "execution_count": 38,
   "metadata": {},
   "outputs": [
    {
     "name": "stdout",
     "output_type": "stream",
     "text": [
      "40 minus 3 equals:\n",
      "37\n",
      "37 minus 3 equals:\n",
      "34\n",
      "34 minus 3 equals:\n",
      "31\n",
      "31 minus 3 equals:\n",
      "28\n"
     ]
    }
   ],
   "source": [
    "discounter = 40\n",
    "while discounter > 30:\n",
    "    print(str(discounter) + ' minus 3 equals:')\n",
    "    discounter -= 3\n",
    "    print(discounter)"
   ]
  },
  {
   "cell_type": "markdown",
   "metadata": {},
   "source": [
    "### Function"
   ]
  },
  {
   "cell_type": "code",
   "execution_count": 7,
   "metadata": {},
   "outputs": [
    {
     "name": "stdout",
     "output_type": "stream",
     "text": [
      "Hello World!\n"
     ]
    }
   ],
   "source": [
    "def userf(var):\n",
    "    print(var)\n",
    "\n",
    "userf('Hello World!')"
   ]
  }
 ],
 "metadata": {
  "kernelspec": {
   "display_name": "Python 3",
   "language": "python",
   "name": "python3"
  },
  "language_info": {
   "codemirror_mode": {
    "name": "ipython",
    "version": 3
   },
   "file_extension": ".py",
   "mimetype": "text/x-python",
   "name": "python",
   "nbconvert_exporter": "python",
   "pygments_lexer": "ipython3",
   "version": "3.6.7"
  }
 },
 "nbformat": 4,
 "nbformat_minor": 4
}
