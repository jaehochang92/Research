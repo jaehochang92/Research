{
 "cells": [
  {
   "cell_type": "markdown",
   "metadata": {},
   "source": [
    "### Naming Variables with PEP 8\n",
    "\n",
    "Use lowercase and underscores to split words. Even if it's an abbreviation."
   ]
  },
  {
   "cell_type": "code",
   "execution_count": null,
   "metadata": {},
   "outputs": [],
   "source": [
    "coef_ols = 1  # yes!\n",
    "coefols = 1   # no\n",
    "coefOLS = 1   # no, that's from Java"
   ]
  },
  {
   "cell_type": "markdown",
   "metadata": {},
   "source": [
    "If you define a constant, use uppercases"
   ]
  },
  {
   "cell_type": "code",
   "execution_count": null,
   "metadata": {},
   "outputs": [],
   "source": [
    "SPEED_OF_LIGHT = 299792458"
   ]
  },
  {
   "cell_type": "markdown",
   "metadata": {},
   "source": [
    "Avoid names of one letter that could be easily mixed up with numbers like `l`, `O`, or `I`."
   ]
  },
  {
   "cell_type": "code",
   "execution_count": 3,
   "metadata": {},
   "outputs": [],
   "source": [
    "l = 1    # no\n",
    "O = 100  # no, if you use this variable name further in your code it would look like zero"
   ]
  },
  {
   "cell_type": "markdown",
   "metadata": {},
   "source": [
    "If the most suitable variable name is some Python keyword, add an underscore to the end of it."
   ]
  },
  {
   "cell_type": "code",
   "execution_count": 4,
   "metadata": {},
   "outputs": [
    {
     "ename": "SyntaxError",
     "evalue": "invalid syntax (<ipython-input-4-c981f8de2301>, line 3)",
     "output_type": "error",
     "traceback": [
      "\u001b[0;36m  File \u001b[0;32m\"<ipython-input-4-c981f8de2301>\"\u001b[0;36m, line \u001b[0;32m3\u001b[0m\n\u001b[0;31m    class = type(var)   # returns an error\u001b[0m\n\u001b[0m          ^\u001b[0m\n\u001b[0;31mSyntaxError\u001b[0m\u001b[0;31m:\u001b[0m invalid syntax\n"
     ]
    }
   ],
   "source": [
    "var = 'string!'\n",
    "class_ = type(var)  # yes!\n",
    "class = type(var)   # returns an error"
   ]
  },
  {
   "cell_type": "markdown",
   "metadata": {},
   "source": [
    "The variable name must be readable, descriptive and informative"
   ]
  },
  {
   "cell_type": "code",
   "execution_count": 5,
   "metadata": {},
   "outputs": [],
   "source": [
    "score = 1  # yes!\n",
    "s = 1      # no"
   ]
  },
  {
   "cell_type": "code",
   "execution_count": 6,
   "metadata": {},
   "outputs": [],
   "source": [
    "count = 1  # yes!\n",
    "n = 1      # no"
   ]
  },
  {
   "cell_type": "markdown",
   "metadata": {},
   "source": [
    "Don't use too generic names. Try to choose a name that will explain the meaning of the variable. But don't make it too wordy. 1-3 words are usually enough."
   ]
  },
  {
   "cell_type": "code",
   "execution_count": 7,
   "metadata": {},
   "outputs": [],
   "source": [
    "http_response = '/enc'                  # yes!\n",
    "var1 = '/enc'                           # no\n",
    "http_response_from_the_server = '/enc'  # no, some words can be dropped"
   ]
  },
  {
   "cell_type": "markdown",
   "metadata": {},
   "source": [
    "If a word is long, try to find the most common and expected short form to make it be guessed easily later."
   ]
  },
  {
   "cell_type": "markdown",
   "metadata": {},
   "source": [
    "|||\n",
    "|-|-|\n",
    "|`output_file_path`  | yes!|\n",
    "|`fpath`             | no|\n",
    "|`output_flpth`      | no|"
   ]
  },
  {
   "cell_type": "markdown",
   "metadata": {},
   "source": [
    "Avoid names from the built-in types list."
   ]
  },
  {
   "cell_type": "code",
   "execution_count": 8,
   "metadata": {},
   "outputs": [
    {
     "ename": "TypeError",
     "evalue": "'str' object is not callable",
     "output_type": "error",
     "traceback": [
      "\u001b[0;31m---------------------------------------------------------------------------\u001b[0m",
      "\u001b[0;31mTypeError\u001b[0m                                 Traceback (most recent call last)",
      "\u001b[0;32m<ipython-input-8-0c98403eeb2b>\u001b[0m in \u001b[0;36m<module>\u001b[0;34m\u001b[0m\n\u001b[1;32m      1\u001b[0m \u001b[0mstr\u001b[0m \u001b[0;34m=\u001b[0m \u001b[0;34m'Hello!'\u001b[0m\u001b[0;34m\u001b[0m\u001b[0;34m\u001b[0m\u001b[0m\n\u001b[0;32m----> 2\u001b[0;31m \u001b[0mstr\u001b[0m\u001b[0;34m(\u001b[0m\u001b[0;36m231241\u001b[0m\u001b[0;34m)\u001b[0m\u001b[0;34m\u001b[0m\u001b[0;34m\u001b[0m\u001b[0m\n\u001b[0m",
      "\u001b[0;31mTypeError\u001b[0m: 'str' object is not callable"
     ]
    }
   ],
   "source": [
    "str = 'Hello!'\n",
    "str(231241)"
   ]
  },
  {
   "cell_type": "code",
   "execution_count": 9,
   "metadata": {},
   "outputs": [],
   "source": [
    "del str"
   ]
  },
  {
   "cell_type": "markdown",
   "metadata": {},
   "source": [
    "### Reading numbers using user input"
   ]
  },
  {
   "cell_type": "code",
   "execution_count": 11,
   "metadata": {},
   "outputs": [
    {
     "name": "stdin",
     "output_type": "stream",
     "text": [
      " 1\n",
      " 1.3\n"
     ]
    },
    {
     "name": "stdout",
     "output_type": "stream",
     "text": [
      "You entered 1 and 1.3.\n"
     ]
    }
   ],
   "source": [
    "integer = int(input())\n",
    "floating_point = float(input())\n",
    "print(f'You entered {integer} and {floating_point}.')"
   ]
  },
  {
   "cell_type": "markdown",
   "metadata": {},
   "source": [
    "<img src=\"data:image/png;base64,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\" alt=\"BMI\" width=\"400\">"
   ]
  },
  {
   "cell_type": "code",
   "execution_count": 16,
   "metadata": {},
   "outputs": [
    {
     "name": "stdin",
     "output_type": "stream",
     "text": [
      "Weight: 63\n",
      "Height: 170\n"
     ]
    },
    {
     "name": "stdout",
     "output_type": "stream",
     "text": [
      "Your BMI is 21.799\n"
     ]
    }
   ],
   "source": [
    "weight = float(input('Weight:'))\n",
    "height = float(input('Height:'))\n",
    "print(f'Your BMI is {round(weight / (height/100)**2, 3)}')"
   ]
  },
  {
   "cell_type": "markdown",
   "metadata": {},
   "source": [
    "### Comparison operators\n",
    "\n",
    "Comparison or relation operations let you compare two values and determine the relation between them. There are ten comparison operators in Python:\n",
    "\n",
    "|operator|meaning|\n",
    "|-|-|\n",
    "|`<`|strictly less than|\n",
    "|`<=`|less than or equal|\n",
    "|`>`|strictly greater than|\n",
    "|`>=`|greater than or equal|\n",
    "|`==`|equal|\n",
    "|`!=`|not equal|\n",
    "|`is`|object identity|\n",
    "|`is not`|negated object identity|\n",
    "|`in`|membership|\n",
    "|`not in`|negated membership|"
   ]
  },
  {
   "cell_type": "code",
   "execution_count": 18,
   "metadata": {},
   "outputs": [
    {
     "data": {
      "text/plain": [
       "True"
      ]
     },
     "execution_count": 18,
     "metadata": {},
     "output_type": "execute_result"
    }
   ],
   "source": [
    "3 in [1, 2, 3, 4]"
   ]
  },
  {
   "cell_type": "code",
   "execution_count": 22,
   "metadata": {},
   "outputs": [
    {
     "data": {
      "text/plain": [
       "False"
      ]
     },
     "execution_count": 22,
     "metadata": {},
     "output_type": "execute_result"
    }
   ],
   "source": [
    "11 in [1, 3, 9]"
   ]
  },
  {
   "cell_type": "code",
   "execution_count": 80,
   "metadata": {},
   "outputs": [
    {
     "data": {
      "text/plain": [
       "True"
      ]
     },
     "execution_count": 80,
     "metadata": {},
     "output_type": "execute_result"
    }
   ],
   "source": [
    "l1 = []\n",
    "l2 = l1\n",
    "l1 is l2"
   ]
  },
  {
   "cell_type": "code",
   "execution_count": 81,
   "metadata": {},
   "outputs": [
    {
     "data": {
      "text/plain": [
       "False"
      ]
     },
     "execution_count": 81,
     "metadata": {},
     "output_type": "execute_result"
    }
   ],
   "source": [
    "l1 = []\n",
    "l2 = []\n",
    "l1 is l2"
   ]
  },
  {
   "cell_type": "markdown",
   "metadata": {},
   "source": [
    "In Python, you can do complex comparisons called chaining. \n",
    "\n",
    "For example, x < y <= z is almost equivalent to the expression you saw in the last example. The difference is that y evaluated only once."
   ]
  },
  {
   "cell_type": "code",
   "execution_count": 32,
   "metadata": {},
   "outputs": [
    {
     "data": {
      "text/plain": [
       "True"
      ]
     },
     "execution_count": 32,
     "metadata": {},
     "output_type": "execute_result"
    }
   ],
   "source": [
    "10**1 < 10**3 >= 10**2"
   ]
  },
  {
   "cell_type": "markdown",
   "metadata": {},
   "source": [
    "### Control Statement 1. `if`"
   ]
  },
  {
   "cell_type": "code",
   "execution_count": 38,
   "metadata": {},
   "outputs": [
    {
     "name": "stdout",
     "output_type": "stream",
     "text": [
      "It's time for tea!\n"
     ]
    }
   ],
   "source": [
    "biscuits = 17\n",
    "if biscuits >= 5:\n",
    "    print(\"It's time for tea!\")"
   ]
  },
  {
   "cell_type": "markdown",
   "metadata": {},
   "source": [
    "Note that the condition ends with a colon and a new line starts with an indentation.\\\n",
    "Usually, 4 spaces are used to separate different blocks of code.\\\n",
    "An if statement is executed only if its condition holds (the Boolean value is `True`), otherwise, it's skipped."
   ]
  },
  {
   "cell_type": "markdown",
   "metadata": {},
   "source": [
    "nested `if` statements"
   ]
  },
  {
   "cell_type": "code",
   "execution_count": 39,
   "metadata": {},
   "outputs": [
    {
     "name": "stdout",
     "output_type": "stream",
     "text": [
      "Wow, your color is in the rainbow!\n",
      "Oh, by the way, it's a warm color.\n"
     ]
    }
   ],
   "source": [
    "rainbow = \"red, orange, yellow, green, blue, indigo, violet\"\n",
    "warm_colors = \"red, yellow, orange\"\n",
    "my_color = \"orange\"\n",
    " \n",
    "if my_color in rainbow:\n",
    "    print(\"Wow, your color is in the rainbow!\")\n",
    "    if my_color in warm_colors:\n",
    "        print(\"Oh, by the way, it's a warm color.\")"
   ]
  },
  {
   "cell_type": "markdown",
   "metadata": {},
   "source": [
    "### Control Statement 2. `if else`"
   ]
  },
  {
   "cell_type": "code",
   "execution_count": 58,
   "metadata": {},
   "outputs": [
    {
     "name": "stdout",
     "output_type": "stream",
     "text": [
      "Keep your chin up, then.\n"
     ]
    }
   ],
   "source": [
    "today = 'weekday'\n",
    "if today == \"holiday\":\n",
    "    print(\"Lucky you!\")\n",
    "else:\n",
    "    print(\"Keep your chin up, then.\")"
   ]
  },
  {
   "cell_type": "markdown",
   "metadata": {},
   "source": [
    "### `elif` "
   ]
  },
  {
   "cell_type": "code",
   "execution_count": 68,
   "metadata": {},
   "outputs": [
    {
     "name": "stdout",
     "output_type": "stream",
     "text": [
      "Oh, you are a dog person. Woof!\n"
     ]
    }
   ],
   "source": [
    "pet = 'dog'\n",
    " \n",
    "# cats vs dogs conditional\n",
    "if pet == 'cat':\n",
    "    print('Oh, you are a cat person. Meow!')\n",
    "elif pet == 'dog':\n",
    "    print('Oh, you are a dog person. Woof!')"
   ]
  },
  {
   "cell_type": "markdown",
   "metadata": {},
   "source": [
    "#### first_alternative `if` condition `else` second_alternative"
   ]
  },
  {
   "cell_type": "code",
   "execution_count": 59,
   "metadata": {},
   "outputs": [
    {
     "name": "stdout",
     "output_type": "stream",
     "text": [
      "It’s a day now!\n"
     ]
    }
   ],
   "source": [
    "sun = True\n",
    "print(\"It’s a day now!\" if sun else \"It’s a night for sure!\")"
   ]
  },
  {
   "cell_type": "code",
   "execution_count": 63,
   "metadata": {},
   "outputs": [
    {
     "name": "stdout",
     "output_type": "stream",
     "text": [
      "x > 100\n",
      "This will be printed only because x >= 100\n"
     ]
    }
   ],
   "source": [
    "x = 149\n",
    "\n",
    "if x < 100:\n",
    "    print('x < 100')\n",
    "else:\n",
    "    if x == 100:\n",
    "        print('x = 100')\n",
    "    else:\n",
    "        print('x > 100')\n",
    "    print('This will be printed only because x >= 100')"
   ]
  },
  {
   "cell_type": "code",
   "execution_count": 65,
   "metadata": {},
   "outputs": [
    {
     "name": "stdin",
     "output_type": "stream",
     "text": [
      " aab\n"
     ]
    },
    {
     "name": "stdout",
     "output_type": "stream",
     "text": [
      "Incorrect\n"
     ]
    }
   ],
   "source": [
    "dictionary = [\"aa\", \"abab\", \"aac\", \"ba\", \"bac\", \"baba\", \"cac\", \"caac\"]\n",
    "word = input()\n",
    "if word in dictionary:\n",
    "    print('Correct')\n",
    "else:\n",
    "    print('Incorrect')"
   ]
  },
  {
   "cell_type": "markdown",
   "metadata": {},
   "source": [
    "#### Quiz\n",
    ">Write a program that checks if a year is leap.\\\n",
    "A year is considered leap if it is divisible by 4 and NOT divisible by 100, or if it is divisible by 400. So, 2000 is leap and 2100 isn't.\\\n",
    "The program should work correctly on the numbers 1900≤n≤3000.\\\n",
    "Output either \"Leap\" or \"Ordinary\" depending on the input."
   ]
  },
  {
   "cell_type": "code",
   "execution_count": 67,
   "metadata": {},
   "outputs": [
    {
     "name": "stdin",
     "output_type": "stream",
     "text": [
      " 2000\n"
     ]
    },
    {
     "name": "stdout",
     "output_type": "stream",
     "text": [
      "Leap\n"
     ]
    }
   ],
   "source": [
    "n = int(input())\n",
    "print('Leap' if n % 4 == 0 and (n % 100 != 0 or n % 400 == 0) else 'Ordinary')"
   ]
  },
  {
   "cell_type": "markdown",
   "metadata": {},
   "source": [
    "## Loops\n",
    "There are two types of iteration:\n",
    "\n",
    ">Definite iteration, where the number of repetitions is stated in advance.\n",
    "\n",
    ">Indefinite iteration, where the code block executes as long as the condition stated in advance is true.\n",
    "\n",
    "After the first iteration, the program comes back to the beginning of the code’s body and repeats it, making the so-called loop.\\\n",
    "The most used one is the `for` loop, named after the `for` operator that provides the code’s execution."
   ]
  },
  {
   "cell_type": "code",
   "execution_count": 1,
   "metadata": {},
   "outputs": [
    {
     "name": "stdout",
     "output_type": "stream",
     "text": [
      "Atlantic\n",
      "Pacific\n",
      "Indian\n",
      "Southern\n",
      "Arctic\n"
     ]
    }
   ],
   "source": [
    "oceans = ['Atlantic', 'Pacific', 'Indian', 'Southern', 'Arctic']\n",
    "for ocean in oceans:\n",
    "    print(ocean)"
   ]
  },
  {
   "cell_type": "markdown",
   "metadata": {},
   "source": [
    "We call this type of data *iterable*."
   ]
  },
  {
   "cell_type": "code",
   "execution_count": 2,
   "metadata": {},
   "outputs": [
    {
     "name": "stdout",
     "output_type": "stream",
     "text": [
      "m\n",
      "a\n",
      "g\n",
      "i\n",
      "c\n"
     ]
    }
   ],
   "source": [
    "for char in 'magic':\n",
    "    print(char)"
   ]
  },
  {
   "cell_type": "markdown",
   "metadata": {},
   "source": [
    "The `range()` function is used to specify the number of iterations. \n",
    "\n",
    "It returns a sequence of numbers from `0` (by default) and ends at a specified number. \n",
    "\n",
    "Be careful: the last number won’t be in the output."
   ]
  },
  {
   "cell_type": "code",
   "execution_count": 3,
   "metadata": {},
   "outputs": [
    {
     "name": "stdout",
     "output_type": "stream",
     "text": [
      "5\n",
      "10\n",
      "15\n",
      "20\n",
      "25\n"
     ]
    }
   ],
   "source": [
    "for i in range(5,30,5):\n",
    "    print(i)"
   ]
  },
  {
   "cell_type": "code",
   "execution_count": 4,
   "metadata": {},
   "outputs": [
    {
     "name": "stdout",
     "output_type": "stream",
     "text": [
      "Rose Miller\n",
      "Daniel Miller\n"
     ]
    }
   ],
   "source": [
    "names = ['Rose', 'Daniel']\n",
    "surnames = ['Miller']\n",
    "for name in names:\n",
    "    for surname in surnames:\n",
    "         print(name, surname)"
   ]
  },
  {
   "cell_type": "markdown",
   "metadata": {},
   "source": [
    "#### using `break`"
   ]
  },
  {
   "cell_type": "code",
   "execution_count": 5,
   "metadata": {},
   "outputs": [
    {
     "name": "stdout",
     "output_type": "stream",
     "text": [
      "dog\n",
      "cat\n"
     ]
    }
   ],
   "source": [
    "pets = ['dog', 'cat', 'parrot']\n",
    "for pet in pets:\n",
    "    print(pet)\n",
    "    if pet == 'cat':\n",
    "        break"
   ]
  },
  {
   "cell_type": "markdown",
   "metadata": {},
   "source": [
    "#### Using `continue`"
   ]
  },
  {
   "cell_type": "code",
   "execution_count": 14,
   "metadata": {},
   "outputs": [
    {
     "name": "stdout",
     "output_type": "stream",
     "text": [
      "1\n",
      "2\n",
      "continue next iteration:\n",
      "4\n",
      "5\n"
     ]
    }
   ],
   "source": [
    "nums = [1, 2, 3, 4, 5]\n",
    "for num in nums:\n",
    "    if num == 3:\n",
    "        print('continue next iteration:')\n",
    "        continue\n",
    "    print(num)"
   ]
  },
  {
   "cell_type": "markdown",
   "metadata": {},
   "source": [
    "#### Loop else clause"
   ]
  },
  {
   "cell_type": "code",
   "execution_count": 19,
   "metadata": {},
   "outputs": [
    {
     "name": "stdout",
     "output_type": "stream",
     "text": [
      "I'm the happiest human being in the world!\n",
      "I'm the happiest human being in the world!\n",
      "I'm the happiest human being in the world!\n",
      "Now I have no pancakes!\n"
     ]
    }
   ],
   "source": [
    "pancakes = 3\n",
    "while pancakes > 0:\n",
    "    print(\"I'm the happiest human being in the world!\")\n",
    "    pancakes -= 1\n",
    "    if pancakes == 0:\n",
    "        print(\"Now I have no pancakes!\")\n",
    "        break\n",
    "else:\n",
    "    print(\"No pancakes...\")"
   ]
  },
  {
   "cell_type": "code",
   "execution_count": 20,
   "metadata": {},
   "outputs": [],
   "source": [
    "i = 0\n",
    "s = 0\n",
    "while i < 10:\n",
    "    i = i + 1\n",
    "    s = s + i\n",
    "    if s > 15:\n",
    "        break\n",
    "    i = i + 1"
   ]
  },
  {
   "cell_type": "code",
   "execution_count": 21,
   "metadata": {},
   "outputs": [
    {
     "data": {
      "text/plain": [
       "7"
      ]
     },
     "execution_count": 21,
     "metadata": {},
     "output_type": "execute_result"
    }
   ],
   "source": [
    "i"
   ]
  },
  {
   "cell_type": "markdown",
   "metadata": {},
   "source": [
    "### `while` loop\n",
    "\n",
    "![](https://ucarecdn.com/d148d035-d10e-45fe-a404-4ce315c422b8/)"
   ]
  },
  {
   "cell_type": "code",
   "execution_count": 40,
   "metadata": {},
   "outputs": [
    {
     "name": "stdout",
     "output_type": "stream",
     "text": [
      "0\n",
      "1\n",
      "2\n",
      "3\n",
      "4\n",
      "Now, number is greater than or equal to 5\n"
     ]
    }
   ],
   "source": [
    "number = 0\n",
    "while number < 5:\n",
    "    print(number)\n",
    "    number += 1\n",
    "print('Now, number is greater than or equal to 5')"
   ]
  },
  {
   "cell_type": "code",
   "execution_count": 35,
   "metadata": {},
   "outputs": [
    {
     "name": "stdout",
     "output_type": "stream",
     "text": [
      "I am Infinite Loop\n",
      "I am Infinite Loop\n",
      "I am Infinite Loop\n",
      "I am Infinite Loop\n",
      "I am Infinite Loop\n",
      "I am Infinite Loop\n",
      "I am Infinite Loop\n",
      "I am Infinite Loop\n"
     ]
    }
   ],
   "source": [
    "count = 0\n",
    "while 1:\n",
    "    print(\"I am Infinite Loop\")\n",
    "    count += 1\n",
    "    if count == 8:\n",
    "        break"
   ]
  },
  {
   "cell_type": "code",
   "execution_count": 56,
   "metadata": {},
   "outputs": [
    {
     "name": "stdin",
     "output_type": "stream",
     "text": [
      "Please type your request among (push/pull/exit): push\n"
     ]
    },
    {
     "name": "stdout",
     "output_type": "stream",
     "text": [
      "\n",
      "        push request accomplished!\n",
      "        \n"
     ]
    },
    {
     "name": "stdin",
     "output_type": "stream",
     "text": [
      "What is your next request? (push/pull/exit) pull\n"
     ]
    },
    {
     "name": "stdout",
     "output_type": "stream",
     "text": [
      "\n",
      "        pull request accomplished!\n",
      "        \n"
     ]
    },
    {
     "name": "stdin",
     "output_type": "stream",
     "text": [
      "What is your next request? (push/pull/exit) exit\n"
     ]
    },
    {
     "name": "stdout",
     "output_type": "stream",
     "text": [
      "\n",
      "=`==`==`==`==`==`==`[SERVICE TERMINATED]`==`==`==`==`==`==`==`=\n",
      "\n",
      "Thank you for using our service. We hope to see you again soon.\n",
      "\n",
      "=`==`==`==`==`==`==`==`==`==`==`==`==`==`==`==`==`==`==`==`==`=\n",
      "\n"
     ]
    }
   ],
   "source": [
    "user = input('Please type your request among (push/pull/exit):')\n",
    "while user != 'exit':\n",
    "    if user == 'push':\n",
    "        print('''\n",
    "        push request accomplished!\n",
    "        ''')\n",
    "    elif user == 'pull':\n",
    "        print('''\n",
    "        pull request accomplished!\n",
    "        ''')\n",
    "    user = input('What is your next request? (push/pull/exit)')\n",
    "print('''\n",
    "=`==`==`==`==`==`==`[SERVICE TERMINATED]`==`==`==`==`==`==`==`=\n",
    "\n",
    "Thank you for using our service. We hope to see you again soon.\n",
    "\n",
    "=`==`==`==`==`==`==`==`==`==`==`==`==`==`==`==`==`==`==`==`==`=\n",
    "''')"
   ]
  },
  {
   "cell_type": "markdown",
   "metadata": {},
   "source": [
    "### Check whether a number is prime"
   ]
  },
  {
   "cell_type": "markdown",
   "metadata": {},
   "source": [
    "Determine whether the input number is a prime number. Remember that any prime number is greater than 1.\n",
    "\n",
    "The output options:\n",
    "\n",
    ">This number is prime\n",
    "\n",
    ">This number is not prime\n",
    "\n",
    "Sample Input 1:\\\n",
    "`1`\n",
    "\n",
    "Sample Output 1:\\\n",
    "`This number is not prime`\n",
    "\n",
    "Sample Input 2:\\\n",
    "`7`\n",
    "\n",
    "Sample Output 2:\\\n",
    "`This number is prime`"
   ]
  },
  {
   "cell_type": "code",
   "execution_count": 31,
   "metadata": {},
   "outputs": [
    {
     "name": "stdin",
     "output_type": "stream",
     "text": [
      " 137\n"
     ]
    },
    {
     "name": "stdout",
     "output_type": "stream",
     "text": [
      "This number is prime\n"
     ]
    }
   ],
   "source": [
    "def isprime(x):\n",
    "    if x < 2:  # negative numbers, 0 and 1 are not prime\n",
    "        return False\n",
    "    for i in range(2, x):\n",
    "        if not x % i:\n",
    "            return False\n",
    "    return True\n",
    "\n",
    "\n",
    "if isprime(int(input())):\n",
    "    print(\"This number is prime\")\n",
    "else:\n",
    "    print(\"This number is not prime\")"
   ]
  }
 ],
 "metadata": {
  "kernelspec": {
   "display_name": "Python 3",
   "language": "python",
   "name": "python3"
  },
  "language_info": {
   "codemirror_mode": {
    "name": "ipython",
    "version": 3
   },
   "file_extension": ".py",
   "mimetype": "text/x-python",
   "name": "python",
   "nbconvert_exporter": "python",
   "pygments_lexer": "ipython3",
   "version": "3.6.7"
  }
 },
 "nbformat": 4,
 "nbformat_minor": 4
}
