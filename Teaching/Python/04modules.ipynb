{
 "cells": [
  {
   "cell_type": "markdown",
   "metadata": {},
   "source": [
    "## Built-in Functions"
   ]
  },
  {
   "cell_type": "code",
   "execution_count": 1,
   "metadata": {},
   "outputs": [
    {
     "data": {
      "text/plain": [
       "['repr',\n",
       " 'reversed',\n",
       " 'round',\n",
       " 'set',\n",
       " 'setattr',\n",
       " 'slice',\n",
       " 'sorted',\n",
       " 'staticmethod',\n",
       " 'str',\n",
       " 'sum',\n",
       " 'super',\n",
       " 'tuple',\n",
       " 'type',\n",
       " 'vars',\n",
       " 'zip']"
      ]
     },
     "execution_count": 1,
     "metadata": {},
     "output_type": "execute_result"
    }
   ],
   "source": [
    "dir(__builtin__)[-15:]"
   ]
  },
  {
   "cell_type": "code",
   "execution_count": 2,
   "metadata": {},
   "outputs": [
    {
     "name": "stdout",
     "output_type": "stream",
     "text": [
      "3\n"
     ]
    }
   ],
   "source": [
    "number = \"111\"\n",
    " \n",
    "# finding the length of an object\n",
    "print(len(number))"
   ]
  },
  {
   "cell_type": "code",
   "execution_count": 3,
   "metadata": {},
   "outputs": [
    {
     "name": "stdout",
     "output_type": "stream",
     "text": [
      "111.0\n"
     ]
    }
   ],
   "source": [
    "# converting types\n",
    "integer = int(number)\n",
    "float_number = float(number)\n",
    "print(str(float_number))"
   ]
  },
  {
   "cell_type": "code",
   "execution_count": 4,
   "metadata": {},
   "outputs": [
    {
     "name": "stdout",
     "output_type": "stream",
     "text": [
      "222.0\n"
     ]
    }
   ],
   "source": [
    "# adding and rounding numbers\n",
    "my_sum = sum((integer, float_number))\n",
    "print(my_sum)"
   ]
  },
  {
   "cell_type": "code",
   "execution_count": 5,
   "metadata": {},
   "outputs": [
    {
     "name": "stdout",
     "output_type": "stream",
     "text": [
      "222\n"
     ]
    }
   ],
   "source": [
    "print(round(my_sum)) "
   ]
  },
  {
   "cell_type": "code",
   "execution_count": 6,
   "metadata": {},
   "outputs": [
    {
     "name": "stdout",
     "output_type": "stream",
     "text": [
      "111\n"
     ]
    }
   ],
   "source": [
    "# finding the minimum and the maximum\n",
    "print(min(integer, float_number))"
   ]
  },
  {
   "cell_type": "code",
   "execution_count": 7,
   "metadata": {},
   "outputs": [
    {
     "name": "stdout",
     "output_type": "stream",
     "text": [
      "<class 'float'>\n"
     ]
    }
   ],
   "source": [
    "print(type(max(integer, float_number, my_sum)))"
   ]
  },
  {
   "cell_type": "markdown",
   "metadata": {},
   "source": [
    "## String formatting\n",
    "\n",
    "Python offers a large variety of methods to format the output the way you want and we'll concentrate on the main two:\n",
    "\n",
    ">Formatted string literals\n",
    "\n",
    ">The str. format () method\n",
    "\n",
    "Earlier the % operator was in use. This built-in operator derived from C-language and was used in some situations by following the scheme:\n",
    "\n",
    "> string % value"
   ]
  },
  {
   "cell_type": "code",
   "execution_count": 8,
   "metadata": {},
   "outputs": [
    {
     "name": "stdout",
     "output_type": "stream",
     "text": [
      "3.333\n"
     ]
    }
   ],
   "source": [
    "print('%.3f' % (10/3))"
   ]
  },
  {
   "cell_type": "markdown",
   "metadata": {},
   "source": [
    "### The str. format() method"
   ]
  },
  {
   "cell_type": "code",
   "execution_count": 9,
   "metadata": {},
   "outputs": [
    {
     "name": "stdout",
     "output_type": "stream",
     "text": [
      "Mix 2 eggs, 30 g of milk and a pinch of salt to make an ideal omelet.\n"
     ]
    }
   ],
   "source": [
    "print('Mix {}, {} and a {} to make an ideal omelet.'.format('2 eggs', '30 g of milk', 'pinch of salt'))"
   ]
  },
  {
   "cell_type": "code",
   "execution_count": 10,
   "metadata": {},
   "outputs": [
    {
     "name": "stdout",
     "output_type": "stream",
     "text": [
      "Night in the Strangers by Frank Sinatra\n"
     ]
    }
   ],
   "source": [
    "print('{1} in the {0} by Frank Sinatra'.format('Strangers', 'Night'))"
   ]
  },
  {
   "cell_type": "code",
   "execution_count": 11,
   "metadata": {},
   "outputs": [
    {
     "name": "stdout",
     "output_type": "stream",
     "text": [
      "The Lord of the Rings at BFI IMAX was incredible!\n"
     ]
    }
   ],
   "source": [
    "print('The {film} at {theatre} was {adjective}!'.format(film='Lord of the Rings',\n",
    "                                                        adjective='incredible',\n",
    "                                                        theatre='BFI IMAX'))"
   ]
  },
  {
   "cell_type": "code",
   "execution_count": 12,
   "metadata": {},
   "outputs": [
    {
     "name": "stdout",
     "output_type": "stream",
     "text": [
      "The Lord of the Rings was incredible!\n"
     ]
    }
   ],
   "source": [
    "print('The {0} was {adjective}!'.format('Lord of the Rings', adjective='incredible'))"
   ]
  },
  {
   "cell_type": "markdown",
   "metadata": {},
   "source": [
    ">Remember as a Python rule that keyword arguments are always written after positional, or non-keyword, arguments."
   ]
  },
  {
   "cell_type": "code",
   "execution_count": 13,
   "metadata": {},
   "outputs": [
    {
     "ename": "SyntaxError",
     "evalue": "positional argument follows keyword argument (<ipython-input-13-5ad776d87dd8>, line 1)",
     "output_type": "error",
     "traceback": [
      "\u001b[0;36m  File \u001b[0;32m\"<ipython-input-13-5ad776d87dd8>\"\u001b[0;36m, line \u001b[0;32m1\u001b[0m\n\u001b[0;31m    print('The {0} was {adjective}!'.format(adjective='incredible', 'Lord of the Rings'))\u001b[0m\n\u001b[0m                                                                   ^\u001b[0m\n\u001b[0;31mSyntaxError\u001b[0m\u001b[0;31m:\u001b[0m positional argument follows keyword argument\n"
     ]
    }
   ],
   "source": [
    "print('The {0} was {adjective}!'.format(adjective='incredible', 'Lord of the Rings'))"
   ]
  },
  {
   "cell_type": "markdown",
   "metadata": {},
   "source": [
    "### Formatted string literals"
   ]
  },
  {
   "cell_type": "code",
   "execution_count": 15,
   "metadata": {},
   "outputs": [
    {
     "data": {
      "text/plain": [
       "'Elizabeth II, the Queen of the United Kingdom and the other Commonwealth realms, is the longest-lived and longest-reigning British monarch.'"
      ]
     },
     "execution_count": 15,
     "metadata": {},
     "output_type": "execute_result"
    }
   ],
   "source": [
    "name = 'Elizabeth II'\n",
    "title = 'Queen of the United Kingdom and the other Commonwealth realms'\n",
    "reign = 'the longest-lived and longest-reigning British monarch'\n",
    "f'{name}, the {title}, is {reign}.'"
   ]
  },
  {
   "cell_type": "code",
   "execution_count": 16,
   "metadata": {},
   "outputs": [
    {
     "name": "stdout",
     "output_type": "stream",
     "text": [
      "16% from 1823 is 291.68\n"
     ]
    }
   ],
   "source": [
    "hundred_percent_number = 1823\n",
    "needed_percent = 16\n",
    "needed_percent_number = hundred_percent_number * needed_percent / 100\n",
    " \n",
    "print(f'{needed_percent}% from {hundred_percent_number} is {needed_percent_number}')"
   ]
  },
  {
   "cell_type": "code",
   "execution_count": 17,
   "metadata": {},
   "outputs": [
    {
     "name": "stdout",
     "output_type": "stream",
     "text": [
      "Rounding 291.68 to 1 decimal place is 291.7\n"
     ]
    }
   ],
   "source": [
    "print(f'Rounding {needed_percent_number} to 1 decimal place is {needed_percent_number:.1f}')"
   ]
  },
  {
   "cell_type": "code",
   "execution_count": 18,
   "metadata": {},
   "outputs": [
    {
     "data": {
      "text/plain": [
       "'0.66667'"
      ]
     },
     "execution_count": 18,
     "metadata": {},
     "output_type": "execute_result"
    }
   ],
   "source": [
    "num = 2/3\n",
    "f'{num:.5f}'"
   ]
  },
  {
   "cell_type": "markdown",
   "metadata": {},
   "source": [
    "## Modules\n",
    "The module is simply a file that contains Python statements and definitions. It usually has a `.py` extension.\\\n",
    "What really makes the module system powerful is the ability to load or import one module from another."
   ]
  },
  {
   "cell_type": "code",
   "execution_count": 19,
   "metadata": {},
   "outputs": [],
   "source": [
    "def my_first_function(name):\n",
    "    print(f'{name} has made his/her first module!')"
   ]
  },
  {
   "cell_type": "markdown",
   "metadata": {},
   "source": [
    "Create a text file with `my_first_function` function and save it as `my_module.py`."
   ]
  },
  {
   "cell_type": "code",
   "execution_count": 20,
   "metadata": {},
   "outputs": [
    {
     "name": "stdout",
     "output_type": "stream",
     "text": [
      "Chang has made his/her first module!\n"
     ]
    }
   ],
   "source": [
    "from my_module import my_first_function\n",
    "\n",
    "my_first_function('Chang')"
   ]
  },
  {
   "cell_type": "code",
   "execution_count": 21,
   "metadata": {},
   "outputs": [
    {
     "name": "stdout",
     "output_type": "stream",
     "text": [
      "Chang has made his/her first module!\n"
     ]
    }
   ],
   "source": [
    "import my_module\n",
    "\n",
    "my_module.my_first_function('Chang')"
   ]
  },
  {
   "cell_type": "code",
   "execution_count": 22,
   "metadata": {},
   "outputs": [
    {
     "name": "stdout",
     "output_type": "stream",
     "text": [
      "Chang has made his/her first module!\n"
     ]
    }
   ],
   "source": [
    "import my_module as mm\n",
    "\n",
    "mm.my_first_function('Chang')"
   ]
  },
  {
   "cell_type": "code",
   "execution_count": 23,
   "metadata": {},
   "outputs": [
    {
     "name": "stdout",
     "output_type": "stream",
     "text": [
      "Chang has made his/her first module!\n"
     ]
    }
   ],
   "source": [
    "from my_module import *\n",
    "\n",
    "my_first_function('Chang')"
   ]
  },
  {
   "cell_type": "markdown",
   "metadata": {},
   "source": [
    ">When using `from ~ import *` idiom, you should be clear if there is no duplicated function names in your workspace!"
   ]
  },
  {
   "cell_type": "markdown",
   "metadata": {},
   "source": [
    "### Built-in Modules"
   ]
  },
  {
   "cell_type": "code",
   "execution_count": 24,
   "metadata": {},
   "outputs": [
    {
     "name": "stdout",
     "output_type": "stream",
     "text": [
      "120\n"
     ]
    }
   ],
   "source": [
    "import math\n",
    " \n",
    "print(math.factorial(5))  # prints the value of 5!"
   ]
  },
  {
   "cell_type": "code",
   "execution_count": 25,
   "metadata": {},
   "outputs": [
    {
     "name": "stdout",
     "output_type": "stream",
     "text": [
      "2.302585092994046\n"
     ]
    }
   ],
   "source": [
    "print(math.log(10))  # prints the natural logarithm of 10"
   ]
  },
  {
   "cell_type": "code",
   "execution_count": 26,
   "metadata": {},
   "outputs": [
    {
     "name": "stdout",
     "output_type": "stream",
     "text": [
      "3.141592653589793\n",
      "2.718281828459045\n"
     ]
    }
   ],
   "source": [
    "print(math.pi)  # math also contains several constants\n",
    "print(math.e)"
   ]
  },
  {
   "cell_type": "code",
   "execution_count": 27,
   "metadata": {},
   "outputs": [
    {
     "name": "stdout",
     "output_type": "stream",
     "text": [
      "0123456789\n"
     ]
    }
   ],
   "source": [
    "from string import digits, capwords\n",
    " \n",
    "print(digits)  # prints all the digit symbols"
   ]
  },
  {
   "cell_type": "code",
   "execution_count": 28,
   "metadata": {},
   "outputs": [
    {
     "data": {
      "text/plain": [
       "'Agency Needed'"
      ]
     },
     "execution_count": 28,
     "metadata": {},
     "output_type": "execute_result"
    }
   ],
   "source": [
    "capwords('agency needed')"
   ]
  },
  {
   "cell_type": "code",
   "execution_count": 29,
   "metadata": {},
   "outputs": [
    {
     "name": "stdout",
     "output_type": "stream",
     "text": [
      "yellow\n"
     ]
    }
   ],
   "source": [
    "from random import choice\n",
    " \n",
    "print(choice(['red', 'green', 'yellow']))  # print a random item from the list"
   ]
  },
  {
   "cell_type": "markdown",
   "metadata": {},
   "source": [
    "### Pseudo - random number generation with `random` module\n",
    "Q. What do we mean by \"pseudo\"?"
   ]
  },
  {
   "cell_type": "code",
   "execution_count": 64,
   "metadata": {},
   "outputs": [
    {
     "name": "stdout",
     "output_type": "stream",
     "text": [
      "0.5437608592359304\n"
     ]
    }
   ],
   "source": [
    "import random\n",
    "print(random.random())"
   ]
  },
  {
   "cell_type": "code",
   "execution_count": 31,
   "metadata": {},
   "outputs": [
    {
     "name": "stdout",
     "output_type": "stream",
     "text": [
      "0.6229016948897019\n"
     ]
    }
   ],
   "source": [
    "random.seed(5)\n",
    "print(random.random())"
   ]
  },
  {
   "cell_type": "code",
   "execution_count": 32,
   "metadata": {},
   "outputs": [
    {
     "name": "stdout",
     "output_type": "stream",
     "text": [
      "74.95333795829075\n"
     ]
    }
   ],
   "source": [
    "print(random.uniform(3, 100))"
   ]
  },
  {
   "cell_type": "code",
   "execution_count": 33,
   "metadata": {},
   "outputs": [
    {
     "name": "stdout",
     "output_type": "stream",
     "text": [
      "51\n"
     ]
    }
   ],
   "source": [
    "print(random.randint(35, 53))"
   ]
  },
  {
   "cell_type": "code",
   "execution_count": 34,
   "metadata": {},
   "outputs": [
    {
     "name": "stdout",
     "output_type": "stream",
     "text": [
      "V\n"
     ]
    }
   ],
   "source": [
    "print(random.choice('Voldemort'))"
   ]
  },
  {
   "cell_type": "code",
   "execution_count": 35,
   "metadata": {},
   "outputs": [
    {
     "name": "stdout",
     "output_type": "stream",
     "text": [
      "3\n"
     ]
    }
   ],
   "source": [
    "print(random.choice([1, 3, 2]))"
   ]
  },
  {
   "cell_type": "markdown",
   "metadata": {},
   "source": [
    ">`random.randrange(a, b, c)` – returns a pseudo-random number from a range between a and b with a step c:"
   ]
  },
  {
   "cell_type": "code",
   "execution_count": 36,
   "metadata": {},
   "outputs": [
    {
     "name": "stdout",
     "output_type": "stream",
     "text": [
      "38\n"
     ]
    }
   ],
   "source": [
    "print(random.randrange(3, 100, 5))"
   ]
  },
  {
   "cell_type": "code",
   "execution_count": 37,
   "metadata": {},
   "outputs": [
    {
     "name": "stdout",
     "output_type": "stream",
     "text": [
      "['b', 'banana', 'c', 'apple', 'a', 'cat']\n"
     ]
    }
   ],
   "source": [
    "tiny_list = ['a', 'apple', 'b', 'banana', 'c', 'cat']\n",
    "random.shuffle(tiny_list)\n",
    "print(tiny_list)"
   ]
  },
  {
   "cell_type": "code",
   "execution_count": 38,
   "metadata": {},
   "outputs": [
    {
     "name": "stdout",
     "output_type": "stream",
     "text": [
      "[60, 31, 48]\n"
     ]
    }
   ],
   "source": [
    "print(random.sample(range(100), 3))"
   ]
  },
  {
   "cell_type": "markdown",
   "metadata": {},
   "source": [
    "## Files\n",
    "\n",
    "### Metadata\n",
    "Each file has metadata.\\\n",
    "Metadata is additional information about the file stored in computer memory.\n",
    "\n",
    ">**Name**: a unique identifier of the file. In our case, it's `img_1.jpg`.\n",
    "\n",
    ">**Extension**: a filename suffix starting with a dot and indicating the format. For example, `.txt` extension is used for plain text files, `.img` or `.jpg` are used for images and so on.\n",
    "\n",
    ">**Format, or type**: File format is indicated by an extension: it tells us what kind of information is stored there. It can be a text message, an image, a video, an audiofile, a computer program – you name it. For example, here .jpg extension indicates that this file is of the JPEG image format.\\\n",
    "All files on all modern OSes are organized as 1-D arrays of bytes. The format specifies the rules for how the computer must read and interpret these bytes. For instance, in plain text format, characters are encoded as sequences of bytes, while the bytes of audiofiles, videofiles and images are interpreted otherwise.\n",
    "\n",
    ">Size: how much space the file occupies on a device (usually measured in bytes)."
   ]
  },
  {
   "cell_type": "markdown",
   "metadata": {},
   "source": [
    "### Attributes\n",
    "Let's discuss a special kind of metadata called file attributes. Each file has some set of attributes, though the set varies greatly from one OS to another. Each attribute can be either set (toggled on) or cleared (toggled off). For example, let’s look at the following three attributes: these basic attributes are included in every Windows version:\n",
    "\n",
    ">Hidden (H): when set, makes the file hidden to user.\n",
    "\n",
    ">System (S): when set, indicates that the file is crucial to the system and the computer to operate properly.\n",
    "\n",
    ">Read-only (R): when set, users cannot write into it.\n",
    "\n",
    "Essentially, attributes are data that define the file system behavior."
   ]
  },
  {
   "cell_type": "markdown",
   "metadata": {},
   "source": [
    "## Functions\n",
    "\n",
    "The names of a function and its parameters follow the same convention as variable names, that is, they should be written in lowercase with underscores `_` between words.\n",
    "\n",
    "The parameters take on values are passed in a function call. Those values we pass to a function are known as **arguments**."
   ]
  },
  {
   "cell_type": "code",
   "execution_count": 39,
   "metadata": {},
   "outputs": [
    {
     "data": {
      "text/plain": [
       "15"
      ]
     },
     "execution_count": 39,
     "metadata": {},
     "output_type": "execute_result"
    }
   ],
   "source": [
    "# Function definition\n",
    "def multiply(x, y):\n",
    "    return x * y\n",
    "\n",
    "# Function definition ends after when there is no more indentation!\n",
    "# Function calls\n",
    "a = multiply(3, 5)\n",
    "a"
   ]
  },
  {
   "cell_type": "code",
   "execution_count": 40,
   "metadata": {},
   "outputs": [
    {
     "data": {
      "text/plain": [
       "150"
      ]
     },
     "execution_count": 40,
     "metadata": {},
     "output_type": "execute_result"
    }
   ],
   "source": [
    "multiply(a, 10)"
   ]
  },
  {
   "cell_type": "code",
   "execution_count": 41,
   "metadata": {},
   "outputs": [],
   "source": [
    "# This function does nothing (yet)\n",
    "def lazy_func(param):\n",
    "    pass"
   ]
  },
  {
   "cell_type": "code",
   "execution_count": 42,
   "metadata": {},
   "outputs": [
    {
     "name": "stdout",
     "output_type": "stream",
     "text": [
      "Sending a postcard to Hilton, 97\n",
      "With the message: Hello, bro!\n"
     ]
    }
   ],
   "source": [
    "def send_postcard(address, message):\n",
    "    print(\"Sending a postcard to\", address)\n",
    "    print(\"With the message:\", message)\n",
    " \n",
    "send_postcard(\"Hilton, 97\", \"Hello, bro!\") "
   ]
  },
  {
   "cell_type": "code",
   "execution_count": 43,
   "metadata": {},
   "outputs": [
    {
     "name": "stdout",
     "output_type": "stream",
     "text": [
      "Sending a postcard to Piccadilly, London\n",
      "With the message: Hi, London!\n"
     ]
    }
   ],
   "source": [
    "send_postcard(\"Piccadilly, London\", \"Hi, London!\")"
   ]
  },
  {
   "cell_type": "code",
   "execution_count": 44,
   "metadata": {},
   "outputs": [
    {
     "ename": "TypeError",
     "evalue": "send_postcard() missing 1 required positional argument: 'message'",
     "output_type": "error",
     "traceback": [
      "\u001b[0;31m---------------------------------------------------------------------------\u001b[0m",
      "\u001b[0;31mTypeError\u001b[0m                                 Traceback (most recent call last)",
      "\u001b[0;32m<ipython-input-44-8c1e6e85f4d8>\u001b[0m in \u001b[0;36m<module>\u001b[0;34m\u001b[0m\n\u001b[0;32m----> 1\u001b[0;31m \u001b[0msend_postcard\u001b[0m\u001b[0;34m(\u001b[0m\u001b[0;34m\"Big Ben, London\"\u001b[0m\u001b[0;34m)\u001b[0m\u001b[0;34m\u001b[0m\u001b[0;34m\u001b[0m\u001b[0m\n\u001b[0m",
      "\u001b[0;31mTypeError\u001b[0m: send_postcard() missing 1 required positional argument: 'message'"
     ]
    }
   ],
   "source": [
    "send_postcard(\"Big Ben, London\")"
   ]
  },
  {
   "cell_type": "code",
   "execution_count": 45,
   "metadata": {},
   "outputs": [
    {
     "data": {
      "text/plain": [
       "212.0"
      ]
     },
     "execution_count": 45,
     "metadata": {},
     "output_type": "execute_result"
    }
   ],
   "source": [
    "def celsius_to_fahrenheit(temps_c):\n",
    "    temps_f = temps_c * 9 / 5 + 32\n",
    "    return round(temps_f, 2)\n",
    "\n",
    "# Convert the boiling point of water\n",
    "celsius_to_fahrenheit(100)"
   ]
  },
  {
   "cell_type": "code",
   "execution_count": 46,
   "metadata": {},
   "outputs": [
    {
     "data": {
      "text/plain": [
       "'Your number is even'"
      ]
     },
     "execution_count": 46,
     "metadata": {},
     "output_type": "execute_result"
    }
   ],
   "source": [
    "def parity(number):\n",
    "    if number % 2 == 0:\n",
    "        return \"Your number is even\"\n",
    "    return \"Your number is odd\"\n",
    "\n",
    "parity(8)"
   ]
  },
  {
   "cell_type": "markdown",
   "metadata": {},
   "source": [
    "Note that the command `return` terminates the execution! (No need to use `else` here!)"
   ]
  },
  {
   "cell_type": "markdown",
   "metadata": {},
   "source": [
    "### Arguments\n",
    ">**Parameters** represent what a function accepts, it's those names that appear in the function definition.\n",
    "\n",
    ">**Arguments** are the values we pass to a function when calling it."
   ]
  },
  {
   "cell_type": "markdown",
   "metadata": {},
   "source": [
    "### Positional arguments\n",
    "Values will associate with parameters in the order in which you passed them into your function from left to right.\\\n",
    "Such arguments are called **positional**, or **non-keyword**."
   ]
  },
  {
   "cell_type": "code",
   "execution_count": 47,
   "metadata": {},
   "outputs": [
    {
     "data": {
      "text/plain": [
       "7"
      ]
     },
     "execution_count": 47,
     "metadata": {},
     "output_type": "execute_result"
    }
   ],
   "source": [
    "def subtract(x, y):\n",
    "    return x - y\n",
    "\n",
    "subtract(11, 4)  # 7"
   ]
  },
  {
   "cell_type": "code",
   "execution_count": 48,
   "metadata": {},
   "outputs": [
    {
     "data": {
      "text/plain": [
       "-7"
      ]
     },
     "execution_count": 48,
     "metadata": {},
     "output_type": "execute_result"
    }
   ],
   "source": [
    "subtract(4, 11)  # -7"
   ]
  },
  {
   "cell_type": "markdown",
   "metadata": {},
   "source": [
    ">You might want to control the order of passed values. \\\n",
    "That's where **named, or keyword**, arguments come into play."
   ]
  },
  {
   "cell_type": "code",
   "execution_count": 49,
   "metadata": {},
   "outputs": [
    {
     "name": "stdout",
     "output_type": "stream",
     "text": [
      "Hello, Willy Wonka\n"
     ]
    }
   ],
   "source": [
    "def greet(name, surname):\n",
    "    print(\"Hello,\", name, surname)\n",
    "    \n",
    "# Non-keyword arguments\n",
    "greet(\"Willy\", \"Wonka\")"
   ]
  },
  {
   "cell_type": "code",
   "execution_count": 50,
   "metadata": {},
   "outputs": [
    {
     "name": "stdout",
     "output_type": "stream",
     "text": [
      "Hello, Willy Wonka\n"
     ]
    }
   ],
   "source": [
    "# Keyword arguments\n",
    "greet(surname=\"Wonka\", name=\"Willy\")"
   ]
  },
  {
   "cell_type": "markdown",
   "metadata": {},
   "source": [
    ">The order doesn't matter here since parameters are matched by name.\\\n",
    "**However, keyword arguments are always written after non-keyword arguments when you call a function:**"
   ]
  },
  {
   "cell_type": "code",
   "execution_count": 51,
   "metadata": {},
   "outputs": [
    {
     "name": "stdout",
     "output_type": "stream",
     "text": [
      "Hello, Frodo Baggins\n"
     ]
    }
   ],
   "source": [
    "greet(\"Frodo\", surname=\"Baggins\")"
   ]
  },
  {
   "cell_type": "code",
   "execution_count": 52,
   "metadata": {},
   "outputs": [
    {
     "ename": "SyntaxError",
     "evalue": "positional argument follows keyword argument (<ipython-input-52-9cbe59ec2208>, line 1)",
     "output_type": "error",
     "traceback": [
      "\u001b[0;36m  File \u001b[0;32m\"<ipython-input-52-9cbe59ec2208>\"\u001b[0;36m, line \u001b[0;32m1\u001b[0m\n\u001b[0;31m    greet(name=\"Frodo\", \"Baggins\")\u001b[0m\n\u001b[0m                       ^\u001b[0m\n\u001b[0;31mSyntaxError\u001b[0m\u001b[0;31m:\u001b[0m positional argument follows keyword argument\n"
     ]
    }
   ],
   "source": [
    "greet(name=\"Frodo\", \"Baggins\")"
   ]
  },
  {
   "cell_type": "markdown",
   "metadata": {},
   "source": [
    "### Defaults\n",
    "Default parameters are specified in a function definition and contain default values for arguments in case they are not passed in the function call."
   ]
  },
  {
   "cell_type": "code",
   "execution_count": 53,
   "metadata": {},
   "outputs": [
    {
     "name": "stdout",
     "output_type": "stream",
     "text": [
      "Berlin on Earth\n"
     ]
    }
   ],
   "source": [
    "def locate(place, planet=\"Earth\"):\n",
    "    print(place, \"on\", planet)\n",
    "    \n",
    "locate(\"Berlin\")"
   ]
  },
  {
   "cell_type": "code",
   "execution_count": 54,
   "metadata": {},
   "outputs": [
    {
     "name": "stdout",
     "output_type": "stream",
     "text": [
      "Breakfast on Pluto\n"
     ]
    }
   ],
   "source": [
    "locate(\"Breakfast\", planet=\"Pluto\")"
   ]
  },
  {
   "cell_type": "code",
   "execution_count": 55,
   "metadata": {},
   "outputs": [
    {
     "name": "stdout",
     "output_type": "stream",
     "text": [
      "Craters on Mercury\n"
     ]
    }
   ],
   "source": [
    "locate(\"Craters\", \"Mercury\")"
   ]
  },
  {
   "cell_type": "markdown",
   "metadata": {},
   "source": [
    "### PEP time\n",
    "`def locate(place, planet=\"Earth\"): ...`\n",
    "\n",
    "`greet(name=\"Willy\", surname=\"Wonka\")`\n",
    "\n",
    "Have you noticed missing spaces around the equality sign?\\\n",
    "Their absence is not accidental. By **PEP 8** convention, you should not put spaces around = when indicating a **keyword** argument. The same is true for default parameters."
   ]
  },
  {
   "cell_type": "markdown",
   "metadata": {},
   "source": [
    "### The separator\n",
    "With the `sep` argument you can specify the separator between objects to be printed (the separator itself must be a string)."
   ]
  },
  {
   "cell_type": "code",
   "execution_count": 56,
   "metadata": {},
   "outputs": [
    {
     "name": "stdout",
     "output_type": "stream",
     "text": [
      "Chip & Dale\n"
     ]
    }
   ],
   "source": [
    "print('Chip', 'Dale', sep=' & ')  # Chip&Dale"
   ]
  },
  {
   "cell_type": "code",
   "execution_count": 57,
   "metadata": {},
   "outputs": [
    {
     "name": "stdout",
     "output_type": "stream",
     "text": [
      "Chip and Dale\n"
     ]
    }
   ],
   "source": [
    "print('Chip', 'Dale', sep=' and ')"
   ]
  },
  {
   "cell_type": "markdown",
   "metadata": {},
   "source": [
    ">The default value of `sep` is ' '."
   ]
  },
  {
   "cell_type": "code",
   "execution_count": 58,
   "metadata": {},
   "outputs": [
    {
     "name": "stdout",
     "output_type": "stream",
     "text": [
      "Chip Dale\n"
     ]
    }
   ],
   "source": [
    "print('Chip', 'Dale')"
   ]
  },
  {
   "cell_type": "markdown",
   "metadata": {},
   "source": [
    ">The argument `end` determines how the string we want to print should end.\\\n",
    "The default value is `'\\n'`, which means that it ends with a newline."
   ]
  },
  {
   "cell_type": "code",
   "execution_count": 59,
   "metadata": {},
   "outputs": [
    {
     "name": "stdout",
     "output_type": "stream",
     "text": [
      "Tick-Tock the "
     ]
    }
   ],
   "source": [
    "print('Tick-Tock', end=' the ')"
   ]
  },
  {
   "cell_type": "code",
   "execution_count": 60,
   "metadata": {},
   "outputs": [
    {
     "name": "stdout",
     "output_type": "stream",
     "text": [
      "Crocodile"
     ]
    }
   ],
   "source": [
    "print('Crocodil', end='e')"
   ]
  },
  {
   "cell_type": "markdown",
   "metadata": {},
   "source": [
    ">The first arguments of the print() function are objects we want to print.\\\n",
    "What if we want to print objects from a list, not the list as a whole? One way would be to use a loop:"
   ]
  },
  {
   "cell_type": "code",
   "execution_count": 61,
   "metadata": {},
   "outputs": [
    {
     "name": "stdout",
     "output_type": "stream",
     "text": [
      "a\n",
      "b\n",
      "c\n"
     ]
    }
   ],
   "source": [
    "alphabets = ['a', 'b', 'c']\n",
    "for element in alphabets:\n",
    "    print(element)"
   ]
  },
  {
   "cell_type": "markdown",
   "metadata": {},
   "source": [
    ">However, in Python, there's a more convenient and neat way to do so.\\\n",
    "Writing an asterisk `*` before a list means that its elements will be **unpacked** and passed to the function one after another:"
   ]
  },
  {
   "cell_type": "code",
   "execution_count": 62,
   "metadata": {},
   "outputs": [
    {
     "name": "stdout",
     "output_type": "stream",
     "text": [
      "a, b, c are English alphabets!"
     ]
    }
   ],
   "source": [
    "print(sep = ', ', end=' are English alphabets!', *alphabets)"
   ]
  }
 ],
 "metadata": {
  "kernelspec": {
   "display_name": "Python 3",
   "language": "python",
   "name": "python3"
  },
  "language_info": {
   "codemirror_mode": {
    "name": "ipython",
    "version": 3
   },
   "file_extension": ".py",
   "mimetype": "text/x-python",
   "name": "python",
   "nbconvert_exporter": "python",
   "pygments_lexer": "ipython3",
   "version": "3.6.7"
  }
 },
 "nbformat": 4,
 "nbformat_minor": 4
}
