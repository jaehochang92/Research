{
 "cells": [
  {
   "cell_type": "markdown",
   "metadata": {},
   "source": [
    "## Jaeho, Chang\n",
    "\n",
    "#### Date: May 11, 2020\n",
    "#### G-test, Information Entropy, p-value\n",
    "==============================="
   ]
  },
  {
   "cell_type": "markdown",
   "metadata": {},
   "source": [
    "Suppose that we have an entire dataset of size $d:D_1,D_2,\\cdots,D_d$. Through tokenization, we got tokens for each data as $t_{ij}$ where $j=1,\\cdots,d$ and $i=1,\\cdots,n_j$.\n",
    "\n",
    "Then, there are T unique tokens $t^*_1,t^*_2,\\cdots,t^*_T$ and their counts $O_1,O_2,\\cdots,O_T$. Each count $O_k$ is defined as $\\sum_{j=1}^d\\sum_{i=1}^{n_j}1(t^*_k=t_{ij})$ and denote $N$ by the sum of counts $O_1,O_2,\\cdots,O_T$.\n",
    "\n",
    "|Token_Count|Token_Value|Token_Type|\n",
    "|-|||\n",
    "|$O^{plain}_1$|$t^*_1$|plain|\n",
    "|$O^{sqli}_1$|$t^*_1$|sqli|\n",
    "|$O^{plain}_2$|$t^*_2$|plain|\n",
    "|$\\vdots$|$\\vdots$|$\\vdots$|\n",
    "\n",
    "If we convert this dataset to the crosstable, we get:\n",
    "\n",
    "|token\\type|plain|sqli|Total|\n",
    "|-||||\n",
    "|$t^*_1$|$O^{plain}_1$|$O^{sqli}_1$|$O_1$|\n",
    "|$t^*_2$|$O^{plain}_2$|$O^{sqli}_2$|$O_2$|\n",
    "|$\\vdots$|$\\vdots$|$\\vdots$|$\\vdots$|\n",
    "|$t^*_T$|$O^{plain}_T$|$O^{sqli}_T$|$O_T$|\n",
    "|Total|$N^{plain}$|$N^{sqli}$|$N$|"
   ]
  },
  {
   "cell_type": "markdown",
   "metadata": {},
   "source": [
    "$\\textbf{G-test score}$ of a token $t^*_k$ with label $j\\in\\{\\text{plain, sqli}\\}$ is defined as:\n",
    "\n",
    "$$G_{kj}=2\\cdot O_{kj}\\ln\\left(\\frac{O_{kj}}{E_{kj}}\\right)$$\n",
    "\n",
    "where $E_{kj}$ is the expected count under multinomial distribution, that is, calculated by\n",
    "$$E_{kj}=N_j\\cdot\\frac{O_k}{N}$$ \n",
    "by the Maximum Likelihood estimation. Here, note that $\\sum_{k=1}^TE_{kj}=N_j$.\n",
    "\n",
    "$\\textbf{Shannon Entropy}$ of a token $t^*_k$ is calculated as:\n",
    "$$H(t^*_k)=-\\sum_{j\\in\\{\\text{plain, sqli}\\}}\\hat\\pi_{kj}\\log_2\\hat\\pi_{kj}$$ where $\\hat\\pi_{kj}=O_{kj}/O_k$.\n",
    "\n",
    "It is well known that the asymptotic distribution of the log-likelihood ratio test statistics approaches to $\\chi^2$ distribution. Let's denote the log-likelihood at $\\theta=\\hat\\theta$ as $l(\\hat\\theta)$ where $\\hat\\theta$ is an MLE of $\\theta\\in\\Theta\\subset\\mathbb{R}^k$. Suppose that $n$ samples were drawn from an identical distribution independently. Then,\n",
    "\n",
    "\n",
    "$$l(\\hat\\theta)\\approx l(\\theta_0)+(\\hat\\theta-\\theta_0)'\\nabla^2l(\\theta_0)(\\hat\\theta-\\theta_0)/2$$\n",
    "$$\\therefore~2[l(\\hat\\theta)-l(\\theta_0)]\\approx n(\\hat\\theta-\\theta_0)'\\nabla^2l_1(\\theta_0)(\\hat\\theta-\\theta_0).$$\n",
    "\n",
    "Since $-\\sqrt{n}I_1(\\hat\\theta)^{-\\frac{1}{2}}(\\hat\\theta-\\theta_0)\\overset{d}{\\rightarrow}\\mathcal{N}_k(0,I_k)$ and $\\left\\{I_1(\\hat\\theta)\\right\\}^{-1}\\nabla^2l_1(\\theta_0)\\rightarrow1$ as $n\\rightarrow\\infty$,\n",
    "$$2[l(\\hat\\theta)-l(\\theta_0)]\\overset{d}{\\rightarrow}\\chi^2_k.$$\n",
    "\n",
    "Therefore, we can interpret the p-value of the observed G-test defined as\n",
    "$$G_o=2\\cdot\\sum_{k,j}O_{kj}\\ln\\left(\\frac{O_{kj}}{E_{kj}}\\right)$$\n",
    "as\n",
    "$$P(|G|>G_o|Multinomial)\\approx2\\cdot\\min\\left[P(\\chi^2_{T-1}>G_o),P(\\chi^2_{T-1}<G_o)\\right].$$ Note that we estimate $T-1$ parameters because $\\sum_{i=1}^T\\theta_i=1$."
   ]
  }
 ],
 "metadata": {
  "kernelspec": {
   "display_name": "Python 3",
   "language": "python",
   "name": "python3"
  },
  "language_info": {
   "codemirror_mode": {
    "name": "ipython",
    "version": 3
   },
   "file_extension": ".py",
   "mimetype": "text/x-python",
   "name": "python",
   "nbconvert_exporter": "python",
   "pygments_lexer": "ipython3",
   "version": "3.6.7"
  }
 },
 "nbformat": 4,
 "nbformat_minor": 4
}
