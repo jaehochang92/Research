{
 "cells": [
  {
   "cell_type": "code",
   "execution_count": 1,
   "metadata": {},
   "outputs": [],
   "source": [
    "%load_ext autoreload\n",
    "%autoreload 2"
   ]
  },
  {
   "cell_type": "code",
   "execution_count": 2,
   "metadata": {},
   "outputs": [
    {
     "name": "stdout",
     "output_type": "stream",
     "text": [
      "Start loading Mylib...\n",
      "==============\n",
      "Mylib imported!\n",
      "==============\n"
     ]
    }
   ],
   "source": [
    "import random, copy\n",
    "from Mylib import *"
   ]
  },
  {
   "cell_type": "code",
   "execution_count": 3,
   "metadata": {},
   "outputs": [],
   "source": [
    "%matplotlib inline"
   ]
  },
  {
   "cell_type": "markdown",
   "metadata": {},
   "source": [
    "#### Importing Modeling results"
   ]
  },
  {
   "cell_type": "code",
   "execution_count": 4,
   "metadata": {},
   "outputs": [
    {
     "name": "stderr",
     "output_type": "stream",
     "text": [
      "WARNING:root:random_state not set so using default value\n",
      "WARNING:root:failed to load state from ./result/200427_0005_20대_보건복지부_발언정제/ldafit.pickle.id2word.state: [Errno 2] No such file or directory: './result/200427_0005_20대_보건복지부_발언정제/ldafit.pickle.id2word.state'\n"
     ]
    }
   ],
   "source": [
    "path = '200427_0005_20대_보건복지부_발언정제'\n",
    "# './result/'\n",
    "flda = gs.models.LdaMulticore.load(f'./result/{path}/ldafit.pickle')\n",
    "fid2word = gs.models.LdaMulticore.load(f'./result/{path}/ldafit.pickle.id2word')\n",
    "inst = pd.read_pickle('./result/200427_0005_20대_보건복지부_발언정제/inst.pickle')"
   ]
  },
  {
   "cell_type": "markdown",
   "metadata": {},
   "source": [
    "#### Topic Cloud"
   ]
  },
  {
   "cell_type": "markdown",
   "metadata": {},
   "source": [
    "topcld = [{t:float(s)*10**(1/16) for s,t in zip(re.findall(\"[0-9.]+\", j), re.findall(\"[^+*0-9.\\\" ]+\", j))} \n",
    "          for i, j in flda.print_topics(flda.num_topics, 20)]\n",
    "WC = WordCloud(width=600, height=600, margin = 1, background_color='white', \n",
    "               font_path = './etc/BinggraeMelona.ttf', colormap = 'cool')\n",
    "\n",
    "ntpc = flda.num_topics\n",
    "ncols = 4\n",
    "nrows = int(np.ceil(ntpc/ncols))\n",
    "\n",
    "fig, axes = plt.subplots(nrows, ncols, figsize = (30, 30))\n",
    "fig.suptitle('Topic-Term Clouds', fontsize = 40)\n",
    "\n",
    "for i in tqdm(range(nrows)):\n",
    "    for j in range(ncols):\n",
    "        loc = i + j + (ncols - 1)*i\n",
    "        if loc < len(topcld):\n",
    "            Tcld = WC.generate_from_frequencies(topcld[loc])\n",
    "            axes[i, j].imshow(Tcld)\n",
    "            axes[i, j].axis('off')\n",
    "            axes[i, j].set_title(f\"Topic {str(loc + 1)}\", {'fontsize':30})\n",
    "        else:\n",
    "            break\n",
    "plt.savefig(f'./result/{path}_TTcloud.png', dpi = 100)\n",
    "plt.close()"
   ]
  },
  {
   "cell_type": "code",
   "execution_count": 5,
   "metadata": {},
   "outputs": [],
   "source": [
    "def nrmlzcorp(corpus, thrsh = 100):\n",
    "    merged_tokens = my_list(corpus).sum()\n",
    "    nrmcorp, i, stop = [[]], 0, False\n",
    "    while not stop:\n",
    "        while len(nrmcorp[-1]) < thrsh and i < len(merged_tokens):\n",
    "            nrmcorp[-1].append(merged_tokens[i])\n",
    "            i += 1\n",
    "            if i == len(merged_tokens):\n",
    "                stop = True\n",
    "        nrmcorp.append([])\n",
    "    return(nrmcorp[:-1])\n",
    "\n",
    "def nl(string, over = 5):\n",
    "    sstring = string.split(' ')\n",
    "    conc = ['']\n",
    "    for s in sstring:\n",
    "        if len(conc[-1]) < over:\n",
    "            conc[-1] += ' ' + s\n",
    "        else:\n",
    "            conc.append(s)\n",
    "    return('\\n'.join(conc)[1:])"
   ]
  },
  {
   "cell_type": "markdown",
   "metadata": {},
   "source": [
    "#### Getting Topics"
   ]
  },
  {
   "cell_type": "code",
   "execution_count": 13,
   "metadata": {},
   "outputs": [],
   "source": [
    "raw_data = pd.read_pickle('./result/data_20대_보건복지부_발언정제.pkl')\n",
    "# raw_data = raw_data.loc[[idx for idx in raw_data.index if raw_data.PARTY.loc[idx] != '非의원']]\n",
    "raw_data.AGENDA = raw_data.AGENDA.apply(lambda x: x[:30])\n",
    "nrmcorp = nrmlzcorp(raw_data.token)"
   ]
  },
  {
   "cell_type": "code",
   "execution_count": 15,
   "metadata": {},
   "outputs": [],
   "source": [
    "for i, (전후, 회차) in enumerate(\n",
    "    [('정권교체전', [343, 351]), ('정권교체후', [352, 364]), ('전체', [343, 364])]\n",
    "):\n",
    "    gdata = raw_data.loc[[idx\n",
    "                      for n in range(회차[0],회차[1]+1)\n",
    "                      for idx, m in zip(raw_data.MEETING_NAME.index, raw_data.MEETING_NAME)\n",
    "                      if re.search(str(n), m) is not None]]\n",
    "    doC =  {'{}'.format(p):nrmlzcorp(gdata.loc[[idx\n",
    "                                                for idx in gdata.index\n",
    "                                                if gdata.loc[idx].PARTY == p]].token, thrsh = 50)\n",
    "                for p in np.unique(gdata.PARTY) if p != '非의원'}\n",
    "    if i == 0:\n",
    "        tops = fitdocs(inst, flda, doC, True)\n",
    "        tops = tops.assign(ba = 전후)\n",
    "    else:\n",
    "        tmp = fitdocs(inst, flda, doC, True)\n",
    "        tops = tops.append(tmp.assign(ba = 전후))\n",
    "tops = tops[[tops.columns[-1]] + tops.columns[:-1].to_list()]"
   ]
  },
  {
   "cell_type": "code",
   "execution_count": 16,
   "metadata": {},
   "outputs": [
    {
     "data": {
      "text/html": [
       "<div>\n",
       "<style scoped>\n",
       "    .dataframe tbody tr th:only-of-type {\n",
       "        vertical-align: middle;\n",
       "    }\n",
       "\n",
       "    .dataframe tbody tr th {\n",
       "        vertical-align: top;\n",
       "    }\n",
       "\n",
       "    .dataframe thead th {\n",
       "        text-align: right;\n",
       "    }\n",
       "</style>\n",
       "<table border=\"1\" class=\"dataframe\">\n",
       "  <thead>\n",
       "    <tr style=\"text-align: right;\">\n",
       "      <th></th>\n",
       "      <th>ba</th>\n",
       "      <th>Total</th>\n",
       "      <th>국민의당</th>\n",
       "      <th>더불어민주당</th>\n",
       "      <th>무소속</th>\n",
       "      <th>자유한국당</th>\n",
       "    </tr>\n",
       "  </thead>\n",
       "  <tbody>\n",
       "    <tr>\n",
       "      <th>0</th>\n",
       "      <td>정권교체전</td>\n",
       "      <td>(2, 20.44)</td>\n",
       "      <td>(2, 32.0)</td>\n",
       "      <td>(12, 17.51)</td>\n",
       "      <td>(7, 14.19)</td>\n",
       "      <td>(2, 26.85)</td>\n",
       "    </tr>\n",
       "    <tr>\n",
       "      <th>1</th>\n",
       "      <td>정권교체전</td>\n",
       "      <td>(12, 13.64)</td>\n",
       "      <td>(13, 14.0)</td>\n",
       "      <td>(2, 17.51)</td>\n",
       "      <td>(12, 11.49)</td>\n",
       "      <td>(14, 10.23)</td>\n",
       "    </tr>\n",
       "    <tr>\n",
       "      <th>2</th>\n",
       "      <td>정권교체전</td>\n",
       "      <td>(10, 8.74)</td>\n",
       "      <td>(10, 8.0)</td>\n",
       "      <td>(10, 11.84)</td>\n",
       "      <td>(11, 11.49)</td>\n",
       "      <td>(12, 8.7)</td>\n",
       "    </tr>\n",
       "    <tr>\n",
       "      <th>3</th>\n",
       "      <td>정권교체전</td>\n",
       "      <td>(13, 7.44)</td>\n",
       "      <td>(4, 7.5)</td>\n",
       "      <td>(3, 7.23)</td>\n",
       "      <td>(13, 10.14)</td>\n",
       "      <td>(5, 8.44)</td>\n",
       "    </tr>\n",
       "    <tr>\n",
       "      <th>4</th>\n",
       "      <td>정권교체전</td>\n",
       "      <td>(14, 6.5)</td>\n",
       "      <td>(12, 6.5)</td>\n",
       "      <td>(13, 6.39)</td>\n",
       "      <td>(10, 8.11)</td>\n",
       "      <td>(9, 6.91)</td>\n",
       "    </tr>\n",
       "    <tr>\n",
       "      <th>0</th>\n",
       "      <td>정권교체후</td>\n",
       "      <td>(2, 14.13)</td>\n",
       "      <td>(2, 17.6)</td>\n",
       "      <td>(12, 14.12)</td>\n",
       "      <td>(2, 18.71)</td>\n",
       "      <td>(1, 19.39)</td>\n",
       "    </tr>\n",
       "    <tr>\n",
       "      <th>1</th>\n",
       "      <td>정권교체후</td>\n",
       "      <td>(1, 11.73)</td>\n",
       "      <td>(1, 13.3)</td>\n",
       "      <td>(2, 13.9)</td>\n",
       "      <td>(12, 12.95)</td>\n",
       "      <td>(2, 12.48)</td>\n",
       "    </tr>\n",
       "    <tr>\n",
       "      <th>2</th>\n",
       "      <td>정권교체후</td>\n",
       "      <td>(12, 10.03)</td>\n",
       "      <td>(13, 12.88)</td>\n",
       "      <td>(16, 10.36)</td>\n",
       "      <td>(9, 12.95)</td>\n",
       "      <td>(16, 11.29)</td>\n",
       "    </tr>\n",
       "    <tr>\n",
       "      <th>3</th>\n",
       "      <td>정권교체후</td>\n",
       "      <td>(16, 9.84)</td>\n",
       "      <td>(7, 9.44)</td>\n",
       "      <td>(14, 10.25)</td>\n",
       "      <td>(14, 12.23)</td>\n",
       "      <td>(13, 10.49)</td>\n",
       "    </tr>\n",
       "    <tr>\n",
       "      <th>4</th>\n",
       "      <td>정권교체후</td>\n",
       "      <td>(14, 8.54)</td>\n",
       "      <td>(14, 8.58)</td>\n",
       "      <td>(3, 9.0)</td>\n",
       "      <td>(5, 10.07)</td>\n",
       "      <td>(5, 9.16)</td>\n",
       "    </tr>\n",
       "    <tr>\n",
       "      <th>0</th>\n",
       "      <td>전체</td>\n",
       "      <td>(2, 17.02)</td>\n",
       "      <td>(2, 24.25)</td>\n",
       "      <td>(12, 15.89)</td>\n",
       "      <td>(2, 12.54)</td>\n",
       "      <td>(2, 17.74)</td>\n",
       "    </tr>\n",
       "    <tr>\n",
       "      <th>1</th>\n",
       "      <td>전체</td>\n",
       "      <td>(12, 11.53)</td>\n",
       "      <td>(13, 13.39)</td>\n",
       "      <td>(2, 15.46)</td>\n",
       "      <td>(12, 12.2)</td>\n",
       "      <td>(1, 13.81)</td>\n",
       "    </tr>\n",
       "    <tr>\n",
       "      <th>2</th>\n",
       "      <td>전체</td>\n",
       "      <td>(1, 7.98)</td>\n",
       "      <td>(1, 8.55)</td>\n",
       "      <td>(3, 8.08)</td>\n",
       "      <td>(11, 10.45)</td>\n",
       "      <td>(5, 8.74)</td>\n",
       "    </tr>\n",
       "    <tr>\n",
       "      <th>3</th>\n",
       "      <td>전체</td>\n",
       "      <td>(13, 7.9)</td>\n",
       "      <td>(7, 7.39)</td>\n",
       "      <td>(14, 7.97)</td>\n",
       "      <td>(7, 9.76)</td>\n",
       "      <td>(13, 8.57)</td>\n",
       "    </tr>\n",
       "    <tr>\n",
       "      <th>4</th>\n",
       "      <td>전체</td>\n",
       "      <td>(14, 7.58)</td>\n",
       "      <td>(14, 6.7)</td>\n",
       "      <td>(10, 7.37)</td>\n",
       "      <td>(9, 8.36)</td>\n",
       "      <td>(16, 8.39)</td>\n",
       "    </tr>\n",
       "  </tbody>\n",
       "</table>\n",
       "</div>"
      ],
      "text/plain": [
       "      ba        Total         국민의당       더불어민주당          무소속        자유한국당\n",
       "0  정권교체전   (2, 20.44)    (2, 32.0)  (12, 17.51)   (7, 14.19)   (2, 26.85)\n",
       "1  정권교체전  (12, 13.64)   (13, 14.0)   (2, 17.51)  (12, 11.49)  (14, 10.23)\n",
       "2  정권교체전   (10, 8.74)    (10, 8.0)  (10, 11.84)  (11, 11.49)    (12, 8.7)\n",
       "3  정권교체전   (13, 7.44)     (4, 7.5)    (3, 7.23)  (13, 10.14)    (5, 8.44)\n",
       "4  정권교체전    (14, 6.5)    (12, 6.5)   (13, 6.39)   (10, 8.11)    (9, 6.91)\n",
       "0  정권교체후   (2, 14.13)    (2, 17.6)  (12, 14.12)   (2, 18.71)   (1, 19.39)\n",
       "1  정권교체후   (1, 11.73)    (1, 13.3)    (2, 13.9)  (12, 12.95)   (2, 12.48)\n",
       "2  정권교체후  (12, 10.03)  (13, 12.88)  (16, 10.36)   (9, 12.95)  (16, 11.29)\n",
       "3  정권교체후   (16, 9.84)    (7, 9.44)  (14, 10.25)  (14, 12.23)  (13, 10.49)\n",
       "4  정권교체후   (14, 8.54)   (14, 8.58)     (3, 9.0)   (5, 10.07)    (5, 9.16)\n",
       "0     전체   (2, 17.02)   (2, 24.25)  (12, 15.89)   (2, 12.54)   (2, 17.74)\n",
       "1     전체  (12, 11.53)  (13, 13.39)   (2, 15.46)   (12, 12.2)   (1, 13.81)\n",
       "2     전체    (1, 7.98)    (1, 8.55)    (3, 8.08)  (11, 10.45)    (5, 8.74)\n",
       "3     전체    (13, 7.9)    (7, 7.39)   (14, 7.97)    (7, 9.76)   (13, 8.57)\n",
       "4     전체   (14, 7.58)    (14, 6.7)   (10, 7.37)    (9, 8.36)   (16, 8.39)"
      ]
     },
     "execution_count": 16,
     "metadata": {},
     "output_type": "execute_result"
    }
   ],
   "source": [
    "tops"
   ]
  },
  {
   "cell_type": "code",
   "execution_count": null,
   "metadata": {},
   "outputs": [],
   "source": [
    "tops.to_html('./result/tmp.html', encoding = 'utf-16')"
   ]
  },
  {
   "cell_type": "markdown",
   "metadata": {},
   "source": [
    "tops[tops.columns[1:]].applymap(lambda x: int(x[1:3].replace(',', ''))).append(\n",
    "    tops[tops.columns[1:]].applymap(lambda x: float(re.sub('[ ,)]', '', x[3:])))\n",
    ").to_excel('./result/tmp.xls')"
   ]
  },
  {
   "cell_type": "markdown",
   "metadata": {},
   "source": [
    "#### Pie Chart"
   ]
  },
  {
   "cell_type": "code",
   "execution_count": 102,
   "metadata": {},
   "outputs": [],
   "source": [
    "from matplotlib import font_manager, rc\n",
    "import seaborn as sns\n",
    "\n",
    "rc('font', **{'family' : ['AppleMyungjo', 'HCR Batang'][0],\n",
    "              'weight' : 'bold',\n",
    "              'size'   : 16})\n",
    "\n",
    "def my_pie(ax, df, ttl):\n",
    "    sizes, labels = df.비율.values.tolist(), df['선정 주제명'].values.tolist()\n",
    "    labels = [nl(l, 5) for l in labels]\n",
    "    sizes.append(round(100 - sum(sizes), 2)), labels.append('기타')\n",
    "    ax.pie(x = sizes, labels = labels, autopct='%1.1f%%', shadow=True, rotatelabels=True, \n",
    "           radius = 1.2, pctdistance = .3, labeldistance = .45, colors = ['whitesmoke', 'bisque'])\n",
    "    ax.set_title(ttl, {'fontsize':20, 'verticalalignment': 'bottom'})"
   ]
  },
  {
   "cell_type": "markdown",
   "metadata": {},
   "source": [
    "sorted(font_manager.findSystemFonts(fontpaths=None, fontext='ttf'))"
   ]
  },
  {
   "cell_type": "code",
   "execution_count": 38,
   "metadata": {},
   "outputs": [],
   "source": [
    "tmp = pd.read_csv('./result/tmp2.csv')\n",
    "토픽정리 = pd.read_csv('./result/토픽정리.csv').drop(['토픽 내 단어 사후분포, 내림차순'], 1)\n",
    "구분들, 분류들 = set(tmp.구분), set(tmp.분류)\n",
    "tmp = tmp.merge(토픽정리).sort_values(['구분', '분류', '비율'], ascending=False)"
   ]
  },
  {
   "cell_type": "code",
   "execution_count": 8,
   "metadata": {},
   "outputs": [
    {
     "data": {
      "text/html": [
       "<div>\n",
       "<style scoped>\n",
       "    .dataframe tbody tr th:only-of-type {\n",
       "        vertical-align: middle;\n",
       "    }\n",
       "\n",
       "    .dataframe tbody tr th {\n",
       "        vertical-align: top;\n",
       "    }\n",
       "\n",
       "    .dataframe thead th {\n",
       "        text-align: right;\n",
       "    }\n",
       "</style>\n",
       "<table border=\"1\" class=\"dataframe\">\n",
       "  <thead>\n",
       "    <tr style=\"text-align: right;\">\n",
       "      <th></th>\n",
       "      <th>구분</th>\n",
       "      <th>분류</th>\n",
       "      <th>토픽</th>\n",
       "      <th>비율</th>\n",
       "      <th>선정 주제명</th>\n",
       "    </tr>\n",
       "  </thead>\n",
       "  <tbody>\n",
       "    <tr>\n",
       "      <th>24</th>\n",
       "      <td>당선구분</td>\n",
       "      <td>비례대표</td>\n",
       "      <td>14</td>\n",
       "      <td>8.30</td>\n",
       "      <td>사회복지 문제 전반</td>\n",
       "    </tr>\n",
       "    <tr>\n",
       "      <th>27</th>\n",
       "      <td>당선구분</td>\n",
       "      <td>비례대표</td>\n",
       "      <td>9</td>\n",
       "      <td>8.16</td>\n",
       "      <td>의료산업 정책 및 법안</td>\n",
       "    </tr>\n",
       "  </tbody>\n",
       "</table>\n",
       "</div>"
      ],
      "text/plain": [
       "      구분    분류  토픽    비율        선정 주제명\n",
       "24  당선구분  비례대표  14  8.30    사회복지 문제 전반\n",
       "27  당선구분  비례대표   9  8.16  의료산업 정책 및 법안"
      ]
     },
     "execution_count": 8,
     "metadata": {},
     "output_type": "execute_result"
    }
   ],
   "source": [
    "tmp.tail(2)"
   ]
  },
  {
   "cell_type": "code",
   "execution_count": 120,
   "metadata": {},
   "outputs": [],
   "source": [
    "i, j = -1, -1\n",
    "for 구분 in 구분들:\n",
    "    i += 1\n",
    "    nrow = i + 1\n",
    "    for 분류 in 분류들:\n",
    "        subdf = tmp.loc[tmp.구분 == 구분].loc[tmp.분류 == 분류]\n",
    "        if not subdf.empty:\n",
    "            j += 1\n",
    "    ncol = j + 1\n",
    "    j = -1    \n",
    "\n",
    "fig, axes = plt.subplots(ncols = ncol, nrows = nrow, figsize = (ncol*6, nrow*6), sharex = True, sharey = True)\n",
    "fig.subplots_adjust(\n",
    "    left = .0,  # the left side of the subplots of the figure\n",
    "    right = 1.,   # the right side of the subplots of the figure\n",
    "    bottom = .0,  # the bottom of the subplots of the figure\n",
    "    top = .98,     # the top of the subplots of the figure\n",
    "    wspace = 0., # the amount of width reserved for space between subplots,\n",
    "                  # expressed as a fraction of the average axis width\n",
    "    hspace = 0.1  # the amount of height reserved for space between subplots,\n",
    "                  # expressed as a fraction of the average axis height\n",
    ")\n",
    "# fig.suptitle('Top Topics', fontsize = 40)\n",
    "\n",
    "i, j = -1, -1\n",
    "for 구분 in 구분들:\n",
    "    i += 1\n",
    "    for 분류 in 분류들:\n",
    "        subdf = tmp.loc[tmp.구분 == 구분].loc[tmp.분류 == 분류]\n",
    "        if not subdf.empty:\n",
    "            j += 1\n",
    "            my_pie(axes[i, j], subdf, 구분 + '_' + 분류)\n",
    "    ncol = j\n",
    "    nrow = i\n",
    "    j = -1\n",
    "\n",
    "plt.savefig(f'./result/piecharts2.png')\n",
    "plt.close()"
   ]
  },
  {
   "cell_type": "markdown",
   "metadata": {},
   "source": [
    "#### Extract documentwise topics from samples"
   ]
  },
  {
   "cell_type": "code",
   "execution_count": 19,
   "metadata": {},
   "outputs": [],
   "source": [
    "주제명선정 = raw_data.copy()\n",
    "주제명선정 = 주제명선정.assign(cmpl_topics = [[] for t in 주제명선정.token])\n",
    "\n",
    "주제명선정 = 주제명선정.loc[[i for i, doc in 주제명선정.token.items() if len(doc) > 20 and len(doc) < 50],\n",
    "                  ['AGENDA', 'CONFER_NUM', 'SEQ_NO', 'SPEAKER', 'PARTY', 'CONTENT', 'token', 'cmpl_topics']]\n",
    "주제명선정 = 주제명선정.sort_values(['CONFER_NUM', 'SEQ_NO'])\n",
    "\n",
    "# random.seed(1021)\n",
    "start = random.sample(range(len(주제명선정)), 1)[0]\n",
    "# 주제명선정 = 주제명선정.loc[[2037, 2040, 2041, 2043]]\n",
    "주제명선정 = 주제명선정.iloc[[i for i in range(start, start + 10)]]\n",
    "\n",
    "for i, doc in 주제명선정.token.items():\n",
    "    d2b = fid2word.doc2bow(doc)\n",
    "    dtopics = flda.get_document_topics(d2b)\n",
    "    dtopics = sorted(dtopics, key = lambda x: x[1], reverse=True)[:3]\n",
    "    dtopics = [(tup[0] + 1, round(tup[1]*100, 2)) for tup in dtopics]\n",
    "    주제명선정.at[i, 'cmpl_topics'] = dtopics\n",
    "\n",
    "# 주제명선정 = 주제명선정.drop(['CONFER_NUM', 'SEQ_NO'], 1)\n",
    "주제명선정.CONTENT = pd.read_pickle('./result/HWC_noun_token.pkl').CONTENT.loc[[idx for idx in 주제명선정.index]]\n",
    "주제명선정.to_html('./result/주제명선정.html', encoding='utf-16')"
   ]
  }
 ],
 "metadata": {
  "kernelspec": {
   "display_name": "Python 3",
   "language": "python",
   "name": "python3"
  },
  "language_info": {
   "codemirror_mode": {
    "name": "ipython",
    "version": 3
   },
   "file_extension": ".py",
   "mimetype": "text/x-python",
   "name": "python",
   "nbconvert_exporter": "python",
   "pygments_lexer": "ipython3",
   "version": "3.6.7"
  }
 },
 "nbformat": 4,
 "nbformat_minor": 4
}
