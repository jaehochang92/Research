{
 "cells": [
  {
   "cell_type": "markdown",
   "metadata": {},
   "source": [
    "### 이재명 지사님 인터뷰 LDA 토픽 모델링 및 텍스트 네트워크"
   ]
  },
  {
   "cell_type": "code",
   "execution_count": 2,
   "metadata": {},
   "outputs": [],
   "source": [
    "from Mylib import *"
   ]
  },
  {
   "cell_type": "code",
   "execution_count": 18,
   "metadata": {},
   "outputs": [
    {
     "name": "stderr",
     "output_type": "stream",
     "text": [
      "100%|██████████| 174/174 [00:03<00:00, 51.66it/s]\n"
     ]
    }
   ],
   "source": [
    "ljm = pd.read_table('./data/이재명_intv.txt', header = None)\n",
    "ljm = list(ljm[0])\n",
    "ljm = [di for d in ljm for di in re.split('[.?!]', d) if di != ''] # 복수문장 분할\n",
    "tkns = [get_noun(d, rms = ['인', '얘기', '그때', '때', '다음', '사람', '주', '앞', '곳',\n",
    "                          '문', '돌', '예', '변', '일', '라', '안', '선', '향', '부',\n",
    "                          '률']) \n",
    "        for d in tqdm(ljm) if get_noun(d) != []]"
   ]
  },
  {
   "cell_type": "code",
   "execution_count": 19,
   "metadata": {},
   "outputs": [
    {
     "name": "stderr",
     "output_type": "stream",
     "text": [
      "100%|██████████| 17/17 [02:03<00:00,  7.37s/it]\n"
     ]
    }
   ],
   "source": [
    "inst = doLDA(tkns, False, 15)\n",
    "inst.get_bow(0, 1)\n",
    "\n",
    "flda, topicDF, optparset = LDA_tuning(inst_doLDA=inst, weight_on_coher=1., ntopics= range(3, 20),\n",
    "                                      hypars = {'alpha':'asymmetric', 'beta':['auto']}, rand=78,\n",
    "                                      iters = 2000, verb = True)\n",
    "plt.close()"
   ]
  },
  {
   "cell_type": "code",
   "execution_count": 20,
   "metadata": {},
   "outputs": [
    {
     "name": "stdout",
     "output_type": "stream",
     "text": [
      "{'alpha': 'asymmetric',\n",
      " 'beta': 'auto',\n",
      " 'coherence': 0.6117840113511044,\n",
      " 'neglp': 6.441399855849635,\n",
      " 'ntopic': 5}\n",
      "[(1,\n",
      "  '0.017*\"가구\" + 0.015*\"경제\" + 0.015*\"거리\" + 0.015*\"정책\" + 0.015*\"정\" + 0.015*\"가능\" '\n",
      "  '+ 0.013*\"경기도\" + 0.012*\"신청\" + 0.010*\"지원\" + 0.010*\"유지\"'),\n",
      " (2,\n",
      "  '0.023*\"말씀\" + 0.017*\"방역\" + 0.017*\"폭발\" + 0.017*\"도움\" + 0.012*\"생활\" + 0.012*\"대강\" '\n",
      "  '+ 0.012*\"말\" + 0.012*\"우상\" + 0.012*\"소위\" + 0.012*\"자원\"'),\n",
      " (3,\n",
      "  '0.055*\"카드\" + 0.035*\"상황\" + 0.029*\"신청\" + 0.028*\"기\" + 0.021*\"터\" + 0.021*\"신용\" + '\n",
      "  '0.020*\"지급\" + 0.015*\"추가\" + 0.015*\"상\" + 0.015*\"현장\"'),\n",
      " (4,\n",
      "  '0.031*\"준비\" + 0.019*\"생활\" + 0.019*\"그래프\" + 0.019*\"방역\" + 0.019*\"수칙\" + '\n",
      "  '0.019*\"대비\" + 0.013*\"행정\" + 0.013*\"당국\" + 0.013*\"철저\" + 0.013*\"경우\"'),\n",
      " (5,\n",
      "  '0.017*\"초기\" + 0.016*\"그래프\" + 0.003*\"심리전\" + 0.003*\"매칭\" + 0.003*\"목돈\" + '\n",
      "  '0.003*\"저축\" + 0.003*\"내년\" + 0.003*\"합산\" + 0.003*\"마지막\" + 0.003*\"전\"')]\n"
     ]
    }
   ],
   "source": [
    "pprint(optparset)\n",
    "pprint([(i+1, j) for i, j in flda.print_topics()])"
   ]
  },
  {
   "cell_type": "code",
   "execution_count": 17,
   "metadata": {},
   "outputs": [],
   "source": [
    "def maxdiagindx(dataframe, m, dsc = True):\n",
    "    dranks = sorted([idx for idx in dataframe.index], key=lambda x: dataframe.loc[x][x], reverse=dsc)\n",
    "    return(dranks[m[0]:m[1]])\n",
    "\n",
    "norm_corp = [my_list(t).sumtkns() for t in tkns]\n",
    "cv = CountVectorizer()\n",
    "X = cv.fit_transform(norm_corp)\n",
    "m = [0, 80]\n",
    "\n",
    "Xc = (X.T * X) # This is the matrix manipulation step\n",
    "names = cv.get_feature_names() # This are the entity names (i.e. keywords)\n",
    "cooc = pd.DataFrame(data = Xc.toarray(), columns = names, index = names)\n",
    "dranks = maxdiagindx(cooc, m)\n",
    "cooc.values[(np.arange(cooc.shape[0]), np.arange(cooc.shape[0]))] = 0\n",
    "cooc = cooc.loc[dranks][dranks]\n",
    "cooc.to_csv('./result/이재명.csv', encoding = 'euc-kr')"
   ]
  }
 ],
 "metadata": {
  "kernelspec": {
   "display_name": "Python 3",
   "language": "python",
   "name": "python3"
  },
  "language_info": {
   "codemirror_mode": {
    "name": "ipython",
    "version": 3
   },
   "file_extension": ".py",
   "mimetype": "text/x-python",
   "name": "python",
   "nbconvert_exporter": "python",
   "pygments_lexer": "ipython3",
   "version": "3.7.4"
  }
 },
 "nbformat": 4,
 "nbformat_minor": 4
}
