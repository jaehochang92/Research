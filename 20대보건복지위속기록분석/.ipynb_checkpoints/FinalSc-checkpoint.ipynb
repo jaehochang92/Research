{
 "cells": [
  {
   "cell_type": "code",
   "execution_count": 1,
   "metadata": {},
   "outputs": [
    {
     "name": "stdout",
     "output_type": "stream",
     "text": [
      "import done\n"
     ]
    }
   ],
   "source": [
    "from Mylib import *\n",
    "from os import *\n",
    "import random"
   ]
  },
  {
   "cell_type": "markdown",
   "metadata": {},
   "source": [
    "### 1. Data Loading & Cleansing(Only Once)"
   ]
  },
  {
   "cell_type": "code",
   "execution_count": 3,
   "metadata": {},
   "outputs": [],
   "source": [
    "# Loading Tokens\n",
    "noun_tokened = pd.read_pickle('./result/HWC_noun_token.pkl')\n",
    "#print(noun_tokened.groupby(['MEETING_NAME']).size())\n",
    "# print(noun_tokened.groupby(['PARTY']).size())\n",
    "# print(noun_tokened.groupby(['SPEAKER']).size())\n",
    "# all_tokened = pd.read_pickle('./result/HWC_all_token.pkl')\n",
    "\n",
    "# Data cleansing\n",
    "noun_tokened.loc[noun_tokened['SPEAKER']=='박인숙 위원', 'PARTY']='자유한국당'\n",
    "# Domain Knowledge based Filtering\n",
    "Coding = pd.read_csv('./data/단어집.csv')\n",
    "DKF = Coding[Coding['code'] == 1]['단어']"
   ]
  },
  {
   "cell_type": "markdown",
   "metadata": {},
   "source": [
    "### 2. Custom criterions "
   ]
  },
  {
   "cell_type": "code",
   "execution_count": 4,
   "metadata": {},
   "outputs": [],
   "source": [
    "# Data Preparation\n",
    "addf = [\n",
    "    '국민', # 상투어\n",
    "    '위원장', '위원', '의원', '장관', # 직책\n",
    "    '답변', '진술', '정회', '중단', '초과', '발언', '질의', # 회의 진행용어\n",
    "]\n",
    "\n",
    "DKF = DKF.append(pd.Series(addf))\n",
    "noun_tokened['token'] = [list(set(d) - set(DKF)) for d in noun_tokened['token']]"
   ]
  },
  {
   "cell_type": "code",
   "execution_count": 5,
   "metadata": {},
   "outputs": [],
   "source": [
    "# 전체 데이터\n",
    "# fdata = noun_tokened # All data"
   ]
  },
  {
   "cell_type": "markdown",
   "metadata": {},
   "source": [
    "#### 2.1. 정당별"
   ]
  },
  {
   "cell_type": "code",
   "execution_count": 6,
   "metadata": {},
   "outputs": [],
   "source": [
    "#정당 = ['국민의당']\n",
    "# 정당 = ['더불어민주당'] # 진보\n",
    "정당 = ['자유한국당'] # 보수\n",
    "\n",
    "fdata = prpr_data(noun_tokened).by_party(정당).get_data()\n",
    "\n",
    "#진영별?\n",
    "#정당 = ['바른정당','자유한국당'] # 보수\n",
    "#정당 = ['국민의당','더불어민주당','무소속'] # 진보"
   ]
  },
  {
   "cell_type": "markdown",
   "metadata": {},
   "source": [
    "#### 2.2. 회차별"
   ]
  },
  {
   "cell_type": "code",
   "execution_count": null,
   "metadata": {},
   "outputs": [],
   "source": [
    "# 회차 = [343, 350] # 정권교체 전\n",
    "회차 = [352, 364] # 정권교체 후\n",
    "\n",
    "fdata = prpr_data(noun_tokened).by_meeting(회차).get_data()"
   ]
  },
  {
   "cell_type": "markdown",
   "metadata": {},
   "source": [
    "#### 2.3. 디렉토리 생성"
   ]
  },
  {
   "cell_type": "code",
   "execution_count": 8,
   "metadata": {},
   "outputs": [
    {
     "name": "stdout",
     "output_type": "stream",
     "text": [
      "ALL (20301, 7)\n",
      "fdata (3008, 7)\n"
     ]
    }
   ],
   "source": [
    "tokens = fdata['token'].copy()\n",
    "\n",
    "print('ALL', noun_tokened.shape)\n",
    "print('fdata', fdata.shape)\n",
    "\n",
    "mydir = './result/' + datetime.now().strftime(\"%y%m%d;%H%M\")\n",
    "makedirs(mydir)"
   ]
  },
  {
   "cell_type": "markdown",
   "metadata": {},
   "source": [
    "### 3. Word Cloud"
   ]
  },
  {
   "cell_type": "code",
   "execution_count": 10,
   "metadata": {},
   "outputs": [],
   "source": [
    "# random.seed(1001)\n",
    "\n",
    "# wordsvec = [item for sublist in tokens for item in sublist]\n",
    "# wordsvec = pd.Series(wordsvec)\n",
    "# #print(wordsvec.loc[0:5])\n",
    "# wcld = WordCloud(width=600, height=600, background_color='white', \n",
    "#                  font_path = './etc/NanumBarunGothic.ttf')\n",
    "# cnt = Counter(wordsvec.tolist())\n",
    "# wcld = wcld.generate_from_frequencies(cnt)\n",
    "# #wcld.to_image()\n",
    "# wcld.to_file(mydir+'/WC.png')"
   ]
  },
  {
   "cell_type": "markdown",
   "metadata": {},
   "source": [
    "### 4. Corpus Normalization & TF-IDF"
   ]
  },
  {
   "cell_type": "code",
   "execution_count": 11,
   "metadata": {},
   "outputs": [
    {
     "name": "stdout",
     "output_type": "stream",
     "text": [
      "Collecting 1 ...\n",
      "Unreachable objects : 7054\n",
      "Remaining Garbage : []\n",
      "Collecting 2 ...\n",
      "Unreachable objects : 0\n",
      "Remaining Garbage : []\n"
     ]
    },
    {
     "name": "stderr",
     "output_type": "stream",
     "text": [
      "100%|███████████████████████████████████████████████████████████████████████████| 3008/3008 [00:00<00:00, 34200.33it/s]\n"
     ]
    }
   ],
   "source": [
    "gcol()\n",
    "for j in tqdm(pd.DataFrame.keys(tokens)):\n",
    "    tokens[j] = ' '.join(tokens[j])\n",
    "ncorpus = tokens[~tokens.isin(addf)].tolist() # Normalized corpus.\n",
    "#print('Normalized corpus example : %s' %ncorpus[1:3])\n",
    "\n",
    "# TF-IDF\n",
    "tv = TfidfVectorizer(min_df=0., max_df=1., use_idf=True)\n",
    "tv_matrix = tv.fit_transform(ncorpus)\n",
    "tv_matrix = tv_matrix.toarray()\n",
    "\n",
    "vocab = tv.get_feature_names()\n",
    "TFIDF = pd.DataFrame(np.round(tv_matrix, 2), columns=vocab)\n",
    "TFIDF.to_csv(mydir+'/TFIDF.csv')\n",
    "#TFIDF.head(10) # vocab에 대한 TFIDF score\n",
    "#TFIDF.shape # vocab에 대한 TFIDF score"
   ]
  },
  {
   "cell_type": "markdown",
   "metadata": {},
   "source": [
    "### 5. LDA"
   ]
  },
  {
   "cell_type": "code",
   "execution_count": 12,
   "metadata": {},
   "outputs": [
    {
     "name": "stderr",
     "output_type": "stream",
     "text": [
      "100%|██████████████████████████████████████████████████████████████████████████████████| 30/30 [04:10<00:00,  8.35s/it]\n"
     ]
    },
    {
     "data": {
      "image/png": "[encoded data removed]",
      "text/plain": [
       "<Figure size 720x1008 with 2 Axes>"
      ]
     },
     "metadata": {
      "needs_background": "light"
     },
     "output_type": "display_data"
    }
   ],
   "source": [
    "# Tuning\n",
    "a, b = 1, 30\n",
    "\n",
    "perpl, coher = [], []\n",
    "for top in tqdm(range(a,b+1)) :\n",
    "    _,p,c = doLDA(fdata['token'], top, 'ALL', False)\n",
    "    perpl.append(p)\n",
    "    coher.append(c)\n",
    "    del _,p,c\n",
    "    \n",
    "LDAtuningVis(a, b, perpl, coher)\n",
    "plt.savefig(mydir+'/perpcoh.png')"
   ]
  },
  {
   "cell_type": "code",
   "execution_count": 13,
   "metadata": {},
   "outputs": [
    {
     "name": "stderr",
     "output_type": "stream",
     "text": [
      "C:\\Users\\foxey\\Anaconda3\\lib\\site-packages\\pyLDAvis\\_prepare.py:257: FutureWarning: Sorting because non-concatenation axis is not aligned. A future version\n",
      "of pandas will change to not sort by default.\n",
      "\n",
      "To accept the future behavior, pass 'sort=False'.\n",
      "\n",
      "To retain the current behavior and silence the warning, pass 'sort=True'.\n",
      "\n",
      "  return pd.concat([default_term_info] + list(topic_dfs))\n"
     ]
    }
   ],
   "source": [
    "# Final results with pyLDAvis\n",
    "optcoh = range(a,b+1)[np.argmax(coher)]\n",
    "flda = doLDA(fdata['token'], optcoh, mydir, True)\n",
    "fldatops = flda[0].print_topics(num_words=15)\n",
    "fldatops = pd.DataFrame(fldatops, columns=['Topic','Representation'])\n",
    "fldatops.to_excel(mydir+'/fldatops.xlsx')\n",
    "path = mydir+'/'+str(optcoh)+'_pyLDAvis.pickle'\n",
    "pyLDAvis = pd.read_pickle(path)"
   ]
  },
  {
   "cell_type": "markdown",
   "metadata": {},
   "source": [
    "### 6. Networkds (End)"
   ]
  },
  {
   "cell_type": "code",
   "execution_count": 8,
   "metadata": {},
   "outputs": [
    {
     "name": "stdout",
     "output_type": "stream",
     "text": [
      "Collecting 1 ...\n",
      "Unreachable objects : 7\n",
      "Remaining Garbage : []\n",
      "Collecting 2 ...\n",
      "Unreachable objects : 0\n",
      "Remaining Garbage : []\n"
     ]
    },
    {
     "name": "stderr",
     "output_type": "stream",
     "text": [
      "100%|████████████████████████████████████████████████████████████████████████████| 3008/3008 [00:00<00:00, 4815.77it/s]\n"
     ]
    },
    {
     "name": "stdout",
     "output_type": "stream",
     "text": [
      "Normalized corpus example : ['발표 신뢰성 문제점 부부 해결 정책 혜택 실천 차이점 맞벌이 득실 정의 시기 보육 등원 맞춤 차관', '어린이집 단체 수용 경제 대표자 의견 민생 점검 여야 회의 원장']\n"
     ]
    }
   ],
   "source": [
    "# # Gathering keywords\n",
    "# ftopkw = np.unique([j[0] for \n",
    "#                     i in range(flda[0].num_topics) for\n",
    "#                     j in flda[0].get_topic_terms(i)])\n",
    "# ftopkw = [flda[0].id2word[i] for i in ftopkw]\n",
    "\n",
    "# Gephi (coocurrence)\n",
    "gcol()\n",
    "norm_corp = fdata['token'].copy()\n",
    "for j in tqdm(range(len(norm_corp))):\n",
    "#     norm_corp.iloc[j] = ' '.join(intersection(norm_corp.iloc[j],ftopkw))\n",
    "    norm_corp.iloc[j] = ' '.join(norm_corp.iloc[j])\n",
    "norm_corp = norm_corp.tolist() # Normalized corpus.\n",
    "\n",
    "print('Normalized corpus example : %s' %norm_corp[1:3])\n",
    "\n",
    "cv = CountVectorizer(ngram_range=(1,1))\n",
    "X = cv.fit_transform(norm_corp)\n",
    "\n",
    "Xc = (X.T * X) # This is the matrix manipulation step\n",
    "Xc.setdiag(0) # We set the diagonals to be zeroes as it's pointless to be 1\n",
    "names = cv.get_feature_names() # This are the entity names (i.e. keywords)\n",
    "df = pd.DataFrame(data = Xc.toarray(), columns = names, index = names)\n",
    "\n",
    "df.to_csv(mydir+'/coocurr_for_gephi.csv', sep = ',', encoding = 'utf-8')"
   ]
  }
 ],
 "metadata": {
  "kernelspec": {
   "display_name": "Python 3",
   "language": "python",
   "name": "python3"
  },
  "language_info": {
   "codemirror_mode": {
    "name": "ipython",
    "version": 3
   },
   "file_extension": ".py",
   "mimetype": "text/x-python",
   "name": "python",
   "nbconvert_exporter": "python",
   "pygments_lexer": "ipython3",
   "version": "3.7.4"
  }
 },
 "nbformat": 4,
 "nbformat_minor": 4
}
