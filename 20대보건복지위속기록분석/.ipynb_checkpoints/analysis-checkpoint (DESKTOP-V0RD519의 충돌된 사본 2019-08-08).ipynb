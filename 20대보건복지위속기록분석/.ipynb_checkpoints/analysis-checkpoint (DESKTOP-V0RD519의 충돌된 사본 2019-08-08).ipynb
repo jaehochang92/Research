{
 "cells": [
  {
   "cell_type": "code",
   "execution_count": 21,
   "metadata": {},
   "outputs": [
    {
     "data": {
      "text/plain": [
       "'/Users/jangjaeho/Dropbox/이현출교수님/data'"
      ]
     },
     "execution_count": 21,
     "metadata": {},
     "output_type": "execute_result"
    }
   ],
   "source": [
    "import os\n",
    "import pandas as pd\n",
    "import numpy as np\n",
    "\n",
    "os.getcwd()"
   ]
  },
  {
   "cell_type": "code",
   "execution_count": 25,
   "metadata": {},
   "outputs": [
    {
     "data": {
      "text/html": [
       "<div>\n",
       "<style scoped>\n",
       "    .dataframe tbody tr th:only-of-type {\n",
       "        vertical-align: middle;\n",
       "    }\n",
       "\n",
       "    .dataframe tbody tr th {\n",
       "        vertical-align: top;\n",
       "    }\n",
       "\n",
       "    .dataframe thead th {\n",
       "        text-align: right;\n",
       "    }\n",
       "</style>\n",
       "<table border=\"1\" class=\"dataframe\">\n",
       "  <thead>\n",
       "    <tr style=\"text-align: right;\">\n",
       "      <th></th>\n",
       "      <th>DAE_NUM</th>\n",
       "      <th>CLASS_CODE</th>\n",
       "      <th>CONFER_NUM</th>\n",
       "      <th>COMM_NAME</th>\n",
       "      <th>MEETING_NAME</th>\n",
       "      <th>SEQ_NO</th>\n",
       "      <th>AGENDA</th>\n",
       "      <th>SPEAKER</th>\n",
       "      <th>CONTENT</th>\n",
       "      <th>KEYWORD</th>\n",
       "    </tr>\n",
       "  </thead>\n",
       "  <tbody>\n",
       "    <tr>\n",
       "      <th>0</th>\n",
       "      <td>20</td>\n",
       "      <td>2</td>\n",
       "      <td>46141</td>\n",
       "      <td>보건복지위원회</td>\n",
       "      <td>제343회(2016.06.07-2016.07.06)</td>\n",
       "      <td>1</td>\n",
       "      <td>FRONT</td>\n",
       "      <td>위원장 양승조</td>\n",
       "      <td>좌석을 정돈해 주시기 바랍니다.   성원이 되었으므로 역사적인 제343회(임시회...</td>\n",
       "      <td>간사,개의,공청회,국회의원,모델역할,박인숙,복지위원,본연의 의무,상임위원장,상임위원...</td>\n",
       "    </tr>\n",
       "    <tr>\n",
       "      <th>1</th>\n",
       "      <td>20</td>\n",
       "      <td>2</td>\n",
       "      <td>46141</td>\n",
       "      <td>보건복지위원회</td>\n",
       "      <td>제343회(2016.06.07-2016.07.06)</td>\n",
       "      <td>2</td>\n",
       "      <td>FRONT</td>\n",
       "      <td>박인숙 위원</td>\n",
       "      <td>안녕하십니까?   새누리당 송파갑 출신 박인숙 위원입니다.   이번에 이렇게 중...</td>\n",
       "      <td>간사,간사,간사,국민생활,국민생활,김광수,박인숙,복지위원회,송파구,양승조,위원,위원...</td>\n",
       "    </tr>\n",
       "    <tr>\n",
       "      <th>2</th>\n",
       "      <td>20</td>\n",
       "      <td>2</td>\n",
       "      <td>46141</td>\n",
       "      <td>보건복지위원회</td>\n",
       "      <td>제343회(2016.06.07-2016.07.06)</td>\n",
       "      <td>3</td>\n",
       "      <td>FRONT</td>\n",
       "      <td>위원장 양승조</td>\n",
       "      <td>고맙습니다.   강석진 위원님 인사 부탁드립니다.</td>\n",
       "      <td>강석진,위원</td>\n",
       "    </tr>\n",
       "  </tbody>\n",
       "</table>\n",
       "</div>"
      ],
      "text/plain": [
       "   DAE_NUM  CLASS_CODE  CONFER_NUM COMM_NAME                  MEETING_NAME  \\\n",
       "0       20           2       46141   보건복지위원회  제343회(2016.06.07-2016.07.06)   \n",
       "1       20           2       46141   보건복지위원회  제343회(2016.06.07-2016.07.06)   \n",
       "2       20           2       46141   보건복지위원회  제343회(2016.06.07-2016.07.06)   \n",
       "\n",
       "   SEQ_NO AGENDA  SPEAKER                                            CONTENT  \\\n",
       "0       1  FRONT  위원장 양승조    좌석을 정돈해 주시기 바랍니다.   성원이 되었으므로 역사적인 제343회(임시회...   \n",
       "1       2  FRONT   박인숙 위원    안녕하십니까?   새누리당 송파갑 출신 박인숙 위원입니다.   이번에 이렇게 중...   \n",
       "2       3  FRONT  위원장 양승조                       고맙습니다.   강석진 위원님 인사 부탁드립니다.    \n",
       "\n",
       "                                             KEYWORD  \n",
       "0  간사,개의,공청회,국회의원,모델역할,박인숙,복지위원,본연의 의무,상임위원장,상임위원...  \n",
       "1  간사,간사,간사,국민생활,국민생활,김광수,박인숙,복지위원회,송파구,양승조,위원,위원...  \n",
       "2                                             강석진,위원  "
      ]
     },
     "execution_count": 25,
     "metadata": {},
     "output_type": "execute_result"
    }
   ],
   "source": [
    "meetinglog20thHWC = pd.read_csv('./meetinglog20thHWC.csv', encoding='euc-kr')\n",
    "meetinglog20thHWC.head(3)"
   ]
  }
 ],
 "metadata": {
  "kernelspec": {
   "display_name": "Python 3",
   "language": "python",
   "name": "python3"
  },
  "language_info": {
   "codemirror_mode": {
    "name": "ipython",
    "version": 3
   },
   "file_extension": ".py",
   "mimetype": "text/x-python",
   "name": "python",
   "nbconvert_exporter": "python",
   "pygments_lexer": "ipython3",
   "version": "3.6.7"
  }
 },
 "nbformat": 4,
 "nbformat_minor": 2
}
