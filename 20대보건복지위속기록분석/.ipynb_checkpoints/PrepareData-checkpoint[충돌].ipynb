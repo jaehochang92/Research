{
 "cells": [
  {
   "cell_type": "markdown",
   "metadata": {},
   "source": [
    "### 보건복지위원회 데이터"
   ]
  },
  {
   "cell_type": "code",
   "execution_count": 146,
   "metadata": {},
   "outputs": [
    {
     "name": "stdout",
     "output_type": "stream",
     "text": [
      "Start loading Mylib.py...\n",
      "==============\n",
      "import done!\n",
      "==============\n"
     ]
    }
   ],
   "source": [
    "import importlib\n",
    "import Mylib\n",
    "import unicodedata\n",
    "importlib.reload(Mylib)\n",
    "from Mylib import *\n",
    "# from os import listdir\n",
    "\n",
    "# =============================================================================\n",
    "# Read Data\n",
    "# =============================================================================\n",
    "HWC = pd.read_csv('./data/meetinglog20thHWC(N).csv', encoding='utf=8')\n",
    "# HWC = HWC.drop(['CONFER_NUM','KEYWORD'], axis = 1) # 불필요한 열 제거\n",
    "# np.shape(HWC)\n",
    "\n",
    "# 정당별 요약치 (무소속 제외)\n",
    "S1 = HWC[pd.notna(HWC['PARTY'])].groupby(['MEETING_NAME']).size()\n",
    "S2 = HWC[pd.notna(HWC['PARTY'])].groupby(['PARTY','SPEAKER']).size()"
   ]
  },
  {
   "cell_type": "code",
   "execution_count": 147,
   "metadata": {},
   "outputs": [
    {
     "name": "stderr",
     "output_type": "stream",
     "text": [
      "100%|██████████| 20301/20301 [02:34<00:00, 131.26it/s]\n"
     ]
    }
   ],
   "source": [
    "# =============================================================================\n",
    "# All + by Nouns\n",
    "# =============================================================================\n",
    "if __name__ == '__main__':\n",
    "    data_for_noun = HWC\n",
    "    strlist = data_for_noun[\"CONTENT\"].copy()\n",
    "    data_for_noun[\"token\"] = [get_noun(strlist[i]) for i in tqdm(range(len(strlist)))]\n",
    "    data_for_noun.loc[data_for_noun['SPEAKER']=='박인숙 위원', 'PARTY']='자유한국당'\n",
    "    \n",
    "    data_for_noun.to_pickle(\"./result/HWC_noun_token.pkl\")"
   ]
  },
  {
   "cell_type": "markdown",
   "metadata": {},
   "source": [
    "### 정당공약 데이터"
   ]
  },
  {
   "cell_type": "code",
   "execution_count": 2,
   "metadata": {},
   "outputs": [
    {
     "ename": "NameError",
     "evalue": "name 'listdir' is not defined",
     "output_type": "error",
     "traceback": [
      "\u001b[1;31m---------------------------------------------------------------------------\u001b[0m",
      "\u001b[1;31mNameError\u001b[0m                                 Traceback (most recent call last)",
      "\u001b[1;32m<ipython-input-2-39ceddb8a9cd>\u001b[0m in \u001b[0;36m<module>\u001b[1;34m\u001b[0m\n\u001b[1;32m----> 1\u001b[1;33m \u001b[0mfnames\u001b[0m \u001b[1;33m=\u001b[0m \u001b[1;33m[\u001b[0m\u001b[0mi\u001b[0m \u001b[1;32mfor\u001b[0m \u001b[0mi\u001b[0m \u001b[1;32min\u001b[0m \u001b[0mlistdir\u001b[0m\u001b[1;33m(\u001b[0m\u001b[1;34m'./pdfminer/texts'\u001b[0m\u001b[1;33m)\u001b[0m \u001b[1;32mif\u001b[0m \u001b[0mre\u001b[0m\u001b[1;33m.\u001b[0m\u001b[0msearch\u001b[0m\u001b[1;33m(\u001b[0m\u001b[1;34m'DS_Store'\u001b[0m\u001b[1;33m,\u001b[0m \u001b[0mi\u001b[0m\u001b[1;33m)\u001b[0m \u001b[1;32mis\u001b[0m \u001b[1;32mNone\u001b[0m \u001b[1;32mand\u001b[0m \u001b[0mre\u001b[0m\u001b[1;33m.\u001b[0m\u001b[0msearch\u001b[0m\u001b[1;33m(\u001b[0m\u001b[1;34m'.txt'\u001b[0m\u001b[1;33m,\u001b[0m \u001b[0mi\u001b[0m\u001b[1;33m)\u001b[0m\u001b[1;33m]\u001b[0m\u001b[1;33m\u001b[0m\u001b[1;33m\u001b[0m\u001b[0m\n\u001b[0m\u001b[0;32m      2\u001b[0m \u001b[0mpaths\u001b[0m \u001b[1;33m=\u001b[0m \u001b[1;33m[\u001b[0m\u001b[1;34m'./pdfminer/texts/'\u001b[0m \u001b[1;33m+\u001b[0m \u001b[0mi\u001b[0m \u001b[1;32mfor\u001b[0m \u001b[0mi\u001b[0m \u001b[1;32min\u001b[0m \u001b[0mfnames\u001b[0m\u001b[1;33m]\u001b[0m\u001b[1;33m\u001b[0m\u001b[1;33m\u001b[0m\u001b[0m\n\u001b[0;32m      3\u001b[0m \u001b[0melection_21st\u001b[0m \u001b[1;33m=\u001b[0m \u001b[1;33m{\u001b[0m\u001b[1;33m}\u001b[0m\u001b[1;33m\u001b[0m\u001b[1;33m\u001b[0m\u001b[0m\n\u001b[0;32m      4\u001b[0m \u001b[1;32mfor\u001b[0m \u001b[0mi\u001b[0m\u001b[1;33m,\u001b[0m \u001b[0mf\u001b[0m \u001b[1;32min\u001b[0m \u001b[0menumerate\u001b[0m\u001b[1;33m(\u001b[0m\u001b[0mfnames\u001b[0m\u001b[1;33m)\u001b[0m\u001b[1;33m:\u001b[0m\u001b[1;33m\u001b[0m\u001b[1;33m\u001b[0m\u001b[0m\n\u001b[0;32m      5\u001b[0m     \u001b[0mdoc\u001b[0m \u001b[1;33m=\u001b[0m \u001b[0mpd\u001b[0m\u001b[1;33m.\u001b[0m\u001b[0mread_table\u001b[0m\u001b[1;33m(\u001b[0m\u001b[0mpaths\u001b[0m\u001b[1;33m[\u001b[0m\u001b[0mi\u001b[0m\u001b[1;33m]\u001b[0m\u001b[1;33m,\u001b[0m \u001b[0mheader\u001b[0m \u001b[1;33m=\u001b[0m \u001b[1;32mNone\u001b[0m\u001b[1;33m)\u001b[0m\u001b[1;33m[\u001b[0m\u001b[1;36m0\u001b[0m\u001b[1;33m]\u001b[0m\u001b[1;33m\u001b[0m\u001b[1;33m\u001b[0m\u001b[0m\n",
      "\u001b[1;31mNameError\u001b[0m: name 'listdir' is not defined"
     ]
    }
   ],
   "source": [
    "fnames = [i for i in listdir('./pdfminer/texts') if re.search('DS_Store', i) is None and re.search('.txt', i)]\n",
    "paths = ['./pdfminer/texts/' + i for i in fnames]\n",
    "election_21st = {}\n",
    "for i, f in enumerate(fnames):\n",
    "    doc = pd.read_table(paths[i], header = None)[0]\n",
    "    tmp = []\n",
    "    for d in tqdm(doc, f):\n",
    "        tmp.append(get_noun(d, rms = ['선거명', '정당명','국회의원 선거', '국회의원선거', '정책순위',\n",
    "                                      '제목', '이행방법', '목 표', '목표', '이행기간', '정책분야',\n",
    "                                      '재원조달방법', '재원', '조달방법',\n",
    "                                      unicodedata.normalize('NFC', f[:-4])]\n",
    "                           )\n",
    "                  )\n",
    "    election_21st['{}'.format(f[:-4])] = tmp\n",
    "with open('./data/election_21st.pickle', 'wb') as f:\n",
    "    pickle.dump(election_21st, f)"
   ]
  },
  {
   "cell_type": "markdown",
   "metadata": {},
   "source": [
    "#### 문서 검색"
   ]
  },
  {
   "cell_type": "markdown",
   "metadata": {},
   "source": [
    "### 샘플 문서"
   ]
  },
  {
   "cell_type": "code",
   "execution_count": 2,
   "metadata": {},
   "outputs": [
    {
     "name": "stderr",
     "output_type": "stream",
     "text": [
      "이재명_intv.txt: 100%|██████████| 76/76 [00:00<00:00, 165.98it/s]\n",
      "신재민_intv.txt: 100%|██████████| 15/15 [00:00<00:00, 117.26it/s]\n"
     ]
    }
   ],
   "source": [
    "wd ='./data/'\n",
    "fnames = [i for i in listdir(wd) if re.search('intv', i)]\n",
    "paths = [wd + i for i in fnames]\n",
    "\n",
    "result_dict = {}\n",
    "for i, f in enumerate(fnames):\n",
    "    doc = pd.read_table(paths[i], header = None)[0]\n",
    "    tmp = []\n",
    "    for d in tqdm(doc, f):\n",
    "        tmp += get_noun(d)\n",
    "    result_dict['{}'.format(f[:-4])] = tmp\n",
    "\n",
    "with open('./data/sample_doc.pickle', 'wb') as f:\n",
    "    pickle.dump(result_dict, f)"
   ]
  }
 ],
 "metadata": {
  "kernelspec": {
   "display_name": "Python 3",
   "language": "python",
   "name": "python3"
  },
  "language_info": {
   "codemirror_mode": {
    "name": "ipython",
    "version": 3
   },
   "file_extension": ".py",
   "mimetype": "text/x-python",
   "name": "python",
   "nbconvert_exporter": "python",
   "pygments_lexer": "ipython3",
   "version": "3.7.4"
  }
 },
 "nbformat": 4,
 "nbformat_minor": 4
}
