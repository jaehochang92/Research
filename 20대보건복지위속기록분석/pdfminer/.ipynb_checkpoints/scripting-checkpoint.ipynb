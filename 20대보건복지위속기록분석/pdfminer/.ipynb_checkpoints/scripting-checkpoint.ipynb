{
 "cells": [
  {
   "cell_type": "code",
   "execution_count": 3,
   "metadata": {},
   "outputs": [],
   "source": [
    "import os\n",
    "cdir = os.getcwd()\n",
    "names = os.listdir(cdir + '/pdfs')\n",
    "paths = [cdir + '/pdfs/' + i for i in names]\n",
    "f = open('./script.txt', 'w+')\n",
    "[f.write('pdf2txt.py -o {}.txt {}\\n'.format(cdir + '/texts/' + i[:-4], cdir + '/pdfs/' + i)) for i in names]\n",
    "f.close()"
   ]
  },
  {
   "cell_type": "code",
   "execution_count": 4,
   "metadata": {},
   "outputs": [
    {
     "data": {
      "text/plain": [
       "['/Users/jangjaeho/GoogleDrive/Research/HCLee/pdfminer/pdfs/.DS_Store',\n",
       " '/Users/jangjaeho/GoogleDrive/Research/HCLee/pdfminer/pdfs/minjung.pdf',\n",
       " '/Users/jangjaeho/GoogleDrive/Research/HCLee/pdfminer/pdfs/urigonghwa.pdf',\n",
       " '/Users/jangjaeho/GoogleDrive/Research/HCLee/pdfminer/pdfs/chinbaksin.pdf',\n",
       " '/Users/jangjaeho/GoogleDrive/Research/HCLee/pdfminer/pdfs/minsaeng.pdf',\n",
       " '/Users/jangjaeho/GoogleDrive/Research/HCLee/pdfminer/pdfs/hangukgyeongje.pdf',\n",
       " '/Users/jangjaeho/GoogleDrive/Research/HCLee/pdfminer/pdfs/miraetonghap.pdf',\n",
       " '/Users/jangjaeho/GoogleDrive/Research/HCLee/pdfminer/pdfs/MJI19thPE.pdf',\n",
       " '/Users/jangjaeho/GoogleDrive/Research/HCLee/pdfminer/pdfs/jeongui.pdf',\n",
       " '/Users/jangjaeho/GoogleDrive/Research/HCLee/pdfminer/pdfs/gungminui.pdf',\n",
       " '/Users/jangjaeho/GoogleDrive/Research/HCLee/pdfminer/pdfs/deobureominju.pdf']"
      ]
     },
     "execution_count": 4,
     "metadata": {},
     "output_type": "execute_result"
    }
   ],
   "source": [
    "paths"
   ]
  }
 ],
 "metadata": {
  "kernelspec": {
   "display_name": "Python 3",
   "language": "python",
   "name": "python3"
  },
  "language_info": {
   "codemirror_mode": {
    "name": "ipython",
    "version": 3
   },
   "file_extension": ".py",
   "mimetype": "text/x-python",
   "name": "python",
   "nbconvert_exporter": "python",
   "pygments_lexer": "ipython3",
   "version": "3.6.7"
  }
 },
 "nbformat": 4,
 "nbformat_minor": 4
}
