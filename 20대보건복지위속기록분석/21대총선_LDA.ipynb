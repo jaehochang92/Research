{
 "cells": [
  {
   "cell_type": "code",
   "execution_count": 247,
   "metadata": {},
   "outputs": [
    {
     "name": "stdout",
     "output_type": "stream",
     "text": [
      "The autoreload extension is already loaded. To reload it, use:\n",
      "  %reload_ext autoreload\n"
     ]
    }
   ],
   "source": [
    "%load_ext autoreload\n",
    "%autoreload 2"
   ]
  },
  {
   "cell_type": "code",
   "execution_count": 248,
   "metadata": {},
   "outputs": [],
   "source": [
    "import random\n",
    "from Mylib import *\n",
    "# %matplotlib inline"
   ]
  },
  {
   "cell_type": "code",
   "execution_count": 249,
   "metadata": {},
   "outputs": [
    {
     "name": "stdout",
     "output_type": "stream",
     "text": [
      "Please visit this URL to authorize this application: https://accounts.google.com/o/oauth2/auth?response_type=code&client_id=780794052173-vq88qrrbro0ukaan0jltei7g2vpmrhik.apps.googleusercontent.com&redirect_uri=http%3A%2F%2Flocalhost%3A8080%2F&scope=https%3A%2F%2Fwww.googleapis.com%2Fauth%2Fspreadsheets&state=jI2ZDP4mY7uncxJ3F9Rm0aHDfGMt5Y&access_type=offline\n",
      "sheets service created successfully\n"
     ]
    }
   ],
   "source": [
    "GSAPI = GgleAPI('credentials.json', 'sheets')\n",
    "GSAPI.Create_Service('v4', ['https://www.googleapis.com/auth/spreadsheets'])"
   ]
  },
  {
   "cell_type": "code",
   "execution_count": 319,
   "metadata": {},
   "outputs": [],
   "source": [
    "doC = pd.read_pickle('./data/election_21st.pickle')\n",
    "\n",
    "rms = ['정책', '개혁', '추진', '강화', '확대', '지원', '별첨', '자료', '방안', '공약'] # cliche\n",
    "doC = {'{}'.format(p):[[w for w in d if w not in rms] for d in c] for p, c in doC.items()}\n",
    "doC = {'{}'.format(p):[d for d in c if d != []] for p, c in doC.items()} # remove vacant docs"
   ]
  },
  {
   "cell_type": "code",
   "execution_count": 320,
   "metadata": {},
   "outputs": [
    {
     "data": {
      "text/plain": [
       "2031"
      ]
     },
     "execution_count": 320,
     "metadata": {},
     "output_type": "execute_result"
    }
   ],
   "source": [
    "def nrmlzcorp(corpus, thrsh = 7):\n",
    "    result = [[]]\n",
    "    for i, d in enumerate(corpus):\n",
    "        if len(result[-1]) < thrsh:\n",
    "            result[-1] += d\n",
    "        else:\n",
    "            result.append(d)\n",
    "    return(result)\n",
    "\n",
    "nrmcorp = nrmlzcorp(my_list([corp for corp in doC.values()]).sum())\n",
    "len(nrmcorp)"
   ]
  },
  {
   "cell_type": "code",
   "execution_count": 327,
   "metadata": {},
   "outputs": [],
   "source": [
    "def Main(use_tqdm):\n",
    "    project = '21대_총선'\n",
    "    random_seed = random.randint(1, 10**4)\n",
    "#     random_seed = 2803\n",
    "    # tpc_grd = [int(i) for i in np.linspace(start = 40, stop = 20, num = 21)] # Remark: decreasing order!\n",
    "    tpc_grd = [26, 24, 22, 20]\n",
    "    save = True\n",
    "\n",
    "    iterators = [(ng,alp) \n",
    "                 for ng in [1, 2, 3][1:2]\n",
    "                 for alp in ['symmetric', 'asymmetric'][1:2]]\n",
    "    \n",
    "    if use_tqdm:\n",
    "        iterators = tqdm(iterators, 'iterations')\n",
    "    for i in iterators:\n",
    "        ngram, alpha = i\n",
    "    #     Testing?\n",
    "    #     R = random.Random(2020)\n",
    "    #     doC = {'{}'.format(p):R.sample(c, 30) for p, c in doC.items()}\n",
    "\n",
    "    #     1.2 ngrams model\n",
    "        corp_forLDA = make_ngram(nrmcorp, ngram, mincnt = 1, thrsh = 2)\n",
    "        doC_ngramed = {'{}'.format(p):make_ngram(c, ngram, mincnt = 1, thrsh = 1) for p, c in doC.items()}\n",
    "\n",
    "    #     3. Fit LDA and tune parameters!\n",
    "\n",
    "    #     3.1. Prepare doLDA instance and hyper parameters\n",
    "        inst = doLDA(corp_forLDA, use_tfidf=False, top_n_words=20)\n",
    "        inst.get_bow(no_below = .0, no_above = 1)\n",
    "\n",
    "    #     3.2. Tune, get topic DF and optimal solutions\n",
    "        flda, topicDF, optparset = LDA_tuning(inst_doLDA=inst,\n",
    "                                              weight_on_coher=1.,\n",
    "                                              ntopics= tpc_grd,\n",
    "                                              hypars = {'alpha':alpha, 'beta':['auto']},\n",
    "                                              rand = random_seed,\n",
    "                                              iters = 2*10**2)\n",
    "        plt.close()\n",
    "\n",
    "        #     4. Save files\n",
    "        if save:\n",
    "            tops = fitdocs(inst, flda, doC_ngramed)\n",
    "            results = {'project':project, 'flda':flda, 'inst':inst, 'optparset':optparset, 'ngram':ngram, 'random_seed':random_seed}\n",
    "            tmstmp = save_results(mkdir = False, write = True, ldavis = False, **results)\n",
    "            GSAPI.MakeSheet({'topicDF':topicDF, 'topics_top5':tops.fillna('')}, sheet_title = tmstmp + '_' + project, RANGE_NAME = 'A1:AA1000')"
   ]
  },
  {
   "cell_type": "code",
   "execution_count": 328,
   "metadata": {},
   "outputs": [
    {
     "name": "stderr",
     "output_type": "stream",
     "text": [
      "  0%|                                                                                            | 0/5 [00:00<?, ?it/s]"
     ]
    },
    {
     "name": "stdout",
     "output_type": "stream",
     "text": [
      "Sheet \"200427_2325_21대_총선\" successfully Created\n"
     ]
    },
    {
     "name": "stderr",
     "output_type": "stream",
     "text": [
      " 20%|████████████████▌                                                                  | 1/5 [04:11<16:44, 251.10s/it]"
     ]
    },
    {
     "name": "stdout",
     "output_type": "stream",
     "text": [
      "Sheet \"200427_2330_21대_총선\" successfully Created\n"
     ]
    },
    {
     "name": "stderr",
     "output_type": "stream",
     "text": [
      " 40%|█████████████████████████████████▏                                                 | 2/5 [08:12<12:24, 248.05s/it]"
     ]
    },
    {
     "name": "stdout",
     "output_type": "stream",
     "text": [
      "Sheet \"200427_2334_21대_총선\" successfully Created\n"
     ]
    },
    {
     "name": "stderr",
     "output_type": "stream",
     "text": [
      " 60%|█████████████████████████████████████████████████▊                                 | 3/5 [12:16<08:14, 247.07s/it]"
     ]
    },
    {
     "name": "stdout",
     "output_type": "stream",
     "text": [
      "Sheet \"200427_2338_21대_총선\" successfully Created\n"
     ]
    },
    {
     "name": "stderr",
     "output_type": "stream",
     "text": [
      " 80%|██████████████████████████████████████████████████████████████████▍                | 4/5 [16:26<04:07, 247.92s/it]"
     ]
    },
    {
     "name": "stdout",
     "output_type": "stream",
     "text": [
      "Sheet \"200427_2342_21대_총선\" successfully Created\n"
     ]
    },
    {
     "name": "stderr",
     "output_type": "stream",
     "text": [
      "100%|███████████████████████████████████████████████████████████████████████████████████| 5/5 [20:35<00:00, 247.06s/it]\n"
     ]
    },
    {
     "name": "stdout",
     "output_type": "stream",
     "text": [
      "============\n",
      "Results saved!\n",
      "============\n"
     ]
    }
   ],
   "source": [
    "for i in tqdm(range(5)):\n",
    "    Main(False)\n",
    "print('============\\nResults saved!\\n============')"
   ]
  }
 ],
 "metadata": {
  "kernelspec": {
   "display_name": "Python 3",
   "language": "python",
   "name": "python3"
  },
  "language_info": {
   "codemirror_mode": {
    "name": "ipython",
    "version": 3
   },
   "file_extension": ".py",
   "mimetype": "text/x-python",
   "name": "python",
   "nbconvert_exporter": "python",
   "pygments_lexer": "ipython3",
   "version": "3.7.4"
  }
 },
 "nbformat": 4,
 "nbformat_minor": 4
}
