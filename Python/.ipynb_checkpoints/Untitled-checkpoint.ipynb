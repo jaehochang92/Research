{
 "cells": [
  {
   "cell_type": "code",
   "execution_count": 1,
   "metadata": {},
   "outputs": [],
   "source": [
    "import numpy as np\n",
    "import math, copy\n",
    "from collections import Counter\n",
    "from itertools import combinations_with_replacement as combrep\n",
    "\n",
    "def C(n,r):\n",
    "    f = math.factorial\n",
    "    return f(n) / f(r) / f(n-r)\n",
    "\n",
    "H = lambda n,r: int(C(n+r-1,r))\n",
    "\n",
    "def llsum(ll): # sum of list of lists\n",
    "    if len(ll) is 1:\n",
    "        return(ll[0])\n",
    "    else:\n",
    "        r = []\n",
    "        for i in range(len(ll)):\n",
    "            r += ll[i]\n",
    "        return(r)\n",
    "    \n",
    "def picross(vc, sz):\n",
    "    occ = sum(vc) + len(vc) - 1\n",
    "    print('\\nHint occupies at least {} cells of {} cells'.format(occ, sz))\n",
    "    if occ < sz:\n",
    "        r = sz-sum(vc)-len(vc)+1\n",
    "        pv, dv = [[0] for i in range(2*len(vc)-1)], [[1 for i in range(e)] for e in vc]\n",
    "        pv[0::2] = dv\n",
    "        indx = [i for i in range(len(pv)) if i%2 is 1]\n",
    "        indx = ['L'] + indx + ['R']\n",
    "        indx = indx[::-1]\n",
    "        apc = [cmb for cmb in combrep(indx, r)]\n",
    "        cnt = [Counter(apci) for apci in apc]\n",
    "        cands = []\n",
    "        for c in cnt:\n",
    "            tmp = copy.deepcopy(pv)\n",
    "            for k in c.keys():\n",
    "                if k is 'R':\n",
    "                    tmp += [[0] for i in range(c[k])]\n",
    "                elif type(k) is int:\n",
    "                    tmp[k] += [0 for i in range(c[k])]\n",
    "                else:\n",
    "                    tmp = [[0] for i in range(c[k])] + tmp\n",
    "            cands.append(tmp)\n",
    "        # Check\n",
    "        cands = [llsum(c) for c in cands]\n",
    "        fin = np.sum(np.array(cands), axis=0)\n",
    "        pos = [i+1 for i in range(len(fin)) if fin[i] == len(apc)]\n",
    "        print('\\nScores: {}'.format(np.round(fin/len(apc),3)))\n",
    "        if len(pos) is 0:\n",
    "            print('\\nNo position spotted!')\n",
    "        else:\n",
    "            print('\\npositions:\\n{}'.format(pos))\n",
    "\t\t\t"
   ]
  },
  {
   "cell_type": "code",
   "execution_count": 20,
   "metadata": {},
   "outputs": [
    {
     "name": "stdout",
     "output_type": "stream",
     "text": [
      "\n",
      "Hint occupies at least 21 cells of 25 cells\n",
      "\n",
      "Scores: [0.556 0.833 0.952 0.992 1.    1.    0.444 0.444 0.643 0.841 0.683 0.524\n",
      " 0.405 0.365 0.405 0.524 0.722 1.    0.96  0.841 0.643 0.437 0.397 0.833\n",
      " 0.556]\n",
      "\n",
      "positions:\n",
      "[5, 6, 18]\n"
     ]
    }
   ],
   "source": [
    "# Run\n",
    "picross([\n",
    "    6,3,1,5,2\n",
    "], sz = 25)"
   ]
  },
  {
   "cell_type": "code",
   "execution_count": 42,
   "metadata": {},
   "outputs": [
    {
     "data": {
      "text/plain": [
       "'2 2 2 2 3'"
      ]
     },
     "execution_count": 42,
     "metadata": {},
     "output_type": "execute_result"
    }
   ],
   "source": [
    "# n, l = [int(i) for i in str.split(input())]\n",
    "# A = [int(i) for i in str.split(input())]\n",
    "n, l, A = (5, 3, [2,4,9,3,2])\n",
    "A = sorted(A)\n",
    "ans =[A[0] for i in range(l-1)]\n",
    "for i in range(l, len(A)):\n",
    "    ans.append(min(A[i-l], A[i-1]))\n",
    "ans.append(A[-l])\n",
    "' '.join([str(i) for i in ans])"
   ]
  }
 ],
 "metadata": {
  "kernelspec": {
   "display_name": "Python 3",
   "language": "python",
   "name": "python3"
  },
  "language_info": {
   "codemirror_mode": {
    "name": "ipython",
    "version": 3
   },
   "file_extension": ".py",
   "mimetype": "text/x-python",
   "name": "python",
   "nbconvert_exporter": "python",
   "pygments_lexer": "ipython3",
   "version": "3.6.7"
  }
 },
 "nbformat": 4,
 "nbformat_minor": 4
}
