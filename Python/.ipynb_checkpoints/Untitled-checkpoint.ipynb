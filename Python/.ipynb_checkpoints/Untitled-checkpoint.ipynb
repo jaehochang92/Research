{
 "cells": [
  {
   "cell_type": "code",
   "execution_count": 1,
   "metadata": {},
   "outputs": [],
   "source": [
    "import numpy as np\n",
    "import math, copy\n",
    "from collections import Counter\n",
    "from itertools import combinations_with_replacement as combrep\n",
    "\n",
    "def C(n,r):\n",
    "    f = math.factorial\n",
    "    return f(n) / f(r) / f(n-r)\n",
    "\n",
    "H = lambda n,r: int(C(n+r-1,r))\n",
    "\n",
    "def llsum(ll): # sum of list of lists\n",
    "    if len(ll) is 1:\n",
    "        return(ll[0])\n",
    "    else:\n",
    "        r = []\n",
    "        for i in range(len(ll)):\n",
    "            r += ll[i]\n",
    "        return(r)\n",
    "    \n",
    "def picross(vc, sz):\n",
    "    occ = sum(vc) + len(vc) - 1\n",
    "    print('\\nHint occupies at least {} cells of {} cells'.format(occ, sz))\n",
    "    if occ < sz:\n",
    "        r = sz-sum(vc)-len(vc)+1\n",
    "        pv, dv = [[0] for i in range(2*len(vc)-1)], [[1 for i in range(e)] for e in vc]\n",
    "        pv[0::2] = dv\n",
    "        indx = [i for i in range(len(pv)) if i%2 is 1]\n",
    "        indx = ['L'] + indx + ['R']\n",
    "        indx = indx[::-1]\n",
    "        apc = [cmb for cmb in combrep(indx, r)]\n",
    "        cnt = [Counter(apci) for apci in apc]\n",
    "        cands = []\n",
    "        for c in cnt:\n",
    "            tmp = copy.deepcopy(pv)\n",
    "            for k in c.keys():\n",
    "                if k is 'R':\n",
    "                    tmp += [[0] for i in range(c[k])]\n",
    "                elif type(k) is int:\n",
    "                    tmp[k] += [0 for i in range(c[k])]\n",
    "                else:\n",
    "                    tmp = [[0] for i in range(c[k])] + tmp\n",
    "            cands.append(tmp)\n",
    "        # Check\n",
    "        cands = [llsum(c) for c in cands]\n",
    "        fin = np.sum(np.array(cands), axis=0)\n",
    "        pos = [i+1 for i in range(len(fin)) if fin[i] == len(apc)]\n",
    "        print('\\nScores: {}'.format(np.round(fin/len(apc),3)))\n",
    "        if len(pos) is 0:\n",
    "            print('\\nNo position spotted!')\n",
    "        else:\n",
    "            print('\\npositions:\\n{}'.format(pos))\n",
    "\t\t\t"
   ]
  },
  {
   "cell_type": "code",
   "execution_count": 20,
   "metadata": {},
   "outputs": [
    {
     "name": "stdout",
     "output_type": "stream",
     "text": [
      "\n",
      "Hint occupies at least 21 cells of 25 cells\n",
      "\n",
      "Scores: [0.556 0.833 0.952 0.992 1.    1.    0.444 0.444 0.643 0.841 0.683 0.524\n",
      " 0.405 0.365 0.405 0.524 0.722 1.    0.96  0.841 0.643 0.437 0.397 0.833\n",
      " 0.556]\n",
      "\n",
      "positions:\n",
      "[5, 6, 18]\n"
     ]
    }
   ],
   "source": [
    "# Run\n",
    "picross([\n",
    "    6,3,1,5,2\n",
    "], sz = 25)"
   ]
  },
  {
   "cell_type": "markdown",
   "metadata": {},
   "source": [
    "# Merge sort"
   ]
  },
  {
   "cell_type": "markdown",
   "metadata": {},
   "source": [
    "> Step 1. Divide\n",
    "\n",
    "> Step 2. Conquer\n",
    "\n",
    "> Step 3. Merge"
   ]
  },
  {
   "cell_type": "code",
   "execution_count": 34,
   "metadata": {},
   "outputs": [],
   "source": [
    "import random\n",
    "\n",
    "def merge(arr, l, m, r): \n",
    "    '''\n",
    "    The merge(arr, l, m, r) is key process that assumes that \n",
    "    arr[l..m] and arr[m+1..r] are sorted and merges the two \n",
    "    sorted sub-arrays into one.\n",
    "    '''\n",
    "    n1 = m - l + 1\n",
    "    n2 = r - m \n",
    "  \n",
    "    # create temp arrays \n",
    "    L = [0] * n1\n",
    "    R = [0] * n2\n",
    "  \n",
    "    # Copy data to temp arrays L[] and R[] \n",
    "    for i in range(0 , n1): \n",
    "        L[i] = arr[l + i] \n",
    "  \n",
    "    for j in range(0 , n2): \n",
    "        R[j] = arr[m + 1 + j] \n",
    "  \n",
    "    # Merge the temp arrays back into arr[l..r] \n",
    "    i = 0     # Initial index of first subarray \n",
    "    j = 0     # Initial index of second subarray \n",
    "    k = l     # Initial index of merged subarray \n",
    "  \n",
    "    while i < n1 and j < n2 : \n",
    "        if L[i] <= R[j]: \n",
    "            arr[k] = L[i] \n",
    "            i += 1\n",
    "        else: \n",
    "            arr[k] = R[j] \n",
    "            j += 1\n",
    "        k += 1\n",
    "  \n",
    "    # Copy the remaining elements of L[], if there \n",
    "    # are any \n",
    "    while i < n1: \n",
    "        arr[k] = L[i] \n",
    "        i += 1\n",
    "        k += 1\n",
    "  \n",
    "    # Copy the remaining elements of R[], if there \n",
    "    # are any \n",
    "    while j < n2: \n",
    "        arr[k] = R[j] \n",
    "        j += 1\n",
    "        k += 1\n",
    "  \n",
    "# l is for left index and r is right index of the \n",
    "# sub-array of arr to be sorted \n",
    "def mergeSort(arr,l,r): \n",
    "    if l < r: \n",
    "  \n",
    "        # Same as (l+r)//2, but avoids overflow for \n",
    "        # large l and h \n",
    "        m = (l+(r-1))//2\n",
    "  \n",
    "        # Sort first and second halves \n",
    "        mergeSort(arr, l, m) \n",
    "        mergeSort(arr, m+1, r) \n",
    "        merge(arr, l, m, r) \n"
   ]
  },
  {
   "cell_type": "code",
   "execution_count": 33,
   "metadata": {},
   "outputs": [
    {
     "name": "stdout",
     "output_type": "stream",
     "text": [
      "Given array is: [10, 49, 29, 43, 6, 39, 36, 21, 14, 16, 19, 37, 46, 16, 39, 25, 39, 43, 49, 49, 17, 44, 23, 25, 20, 18, 43, 37, 27, 23]\n",
      "\n",
      "\n",
      "Sorted array is: [6, 10, 14, 16, 16, 17, 18, 19, 20, 21, 23, 23, 25, 25, 27, 29, 36, 37, 37, 39, 39, 39, 43, 43, 43, 44, 46, 49, 49, 49]\n"
     ]
    }
   ],
   "source": [
    "  \n",
    "# Driver code to test above \n",
    "arr = [random.randint(1, 50) for _ in range(30)]\n",
    "n = len(arr) \n",
    "print (f\"Given array is: {arr}\") \n",
    "\n",
    "mergeSort(arr,0,n-1) \n",
    "print (f\"\\n\\nSorted array is: {arr}\") \n",
    "  \n",
    "# This code is contributed by Mohit Kumra "
   ]
  },
  {
   "cell_type": "code",
   "execution_count": null,
   "metadata": {},
   "outputs": [],
   "source": []
  }
 ],
 "metadata": {
  "kernelspec": {
   "display_name": "Python 3",
   "language": "python",
   "name": "python3"
  },
  "language_info": {
   "codemirror_mode": {
    "name": "ipython",
    "version": 3
   },
   "file_extension": ".py",
   "mimetype": "text/x-python",
   "name": "python",
   "nbconvert_exporter": "python",
   "pygments_lexer": "ipython3",
   "version": "3.9.1"
  }
 },
 "nbformat": 4,
 "nbformat_minor": 4
}
