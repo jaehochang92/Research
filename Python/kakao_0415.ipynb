{
 "cells": [
  {
   "cell_type": "markdown",
   "metadata": {},
   "source": [
    "### Question 1"
   ]
  },
  {
   "cell_type": "code",
   "execution_count": 332,
   "metadata": {},
   "outputs": [],
   "source": [
    "from collections import Counter\n",
    "def Jaeho(bs):\n",
    "    while '()' in bs:\n",
    "        bs = bs.replace('()', '')\n",
    "    cnt1 = 0\n",
    "    while ')(' in bs:\n",
    "        cnt1 += bs.count(')(')*2\n",
    "        bs = bs.replace(')(', '')\n",
    "    return cnt1 + len(bs)"
   ]
  },
  {
   "cell_type": "code",
   "execution_count": 333,
   "metadata": {},
   "outputs": [],
   "source": [
    "def Jisu(s):\n",
    "    cnt = 0\n",
    "    prior = 1\n",
    "    prev_del = 0\n",
    "    while prior != 0:\n",
    "        prior = s.count('()')\n",
    "        s = s.replace('()','')\n",
    "    for si in s:\n",
    "        if si == ')':\n",
    "            prev_del += 1\n",
    "        else:\n",
    "            break\n",
    "    s = s[prev_del:]\n",
    "    return(prev_del + len(s))"
   ]
  },
  {
   "cell_type": "markdown",
   "metadata": {},
   "source": [
    "### Question 3\n",
    "주어진 배열에서 하나씩 원소를 지워갈 때, 남겨진 원소들의 짝수항의 합과 홀수항의 합이 같아지게 만드는 원소들의 개수를 구하시오."
   ]
  },
  {
   "cell_type": "code",
   "execution_count": 336,
   "metadata": {},
   "outputs": [],
   "source": [
    "def nequalizer(arr):\n",
    "    cnt = 0\n",
    "    so, se = sum(arr[1::2]), sum(arr[2::2])\n",
    "    if so == se:\n",
    "        cnt += 1\n",
    "    for i in range(1, len(arr)):\n",
    "        if (i + 1) % 2 == 0:\n",
    "            so += (arr[i - 1] - arr[i])\n",
    "        else:\n",
    "            se += (arr[i - 1] - arr[i])\n",
    "        if so == se:\n",
    "            cnt += 1\n",
    "    return(cnt)"
   ]
  },
  {
   "cell_type": "markdown",
   "metadata": {},
   "source": [
    "### Question2\n",
    "Longest k-interspace substring"
   ]
  },
  {
   "cell_type": "code",
   "execution_count": 620,
   "metadata": {},
   "outputs": [],
   "source": [
    "def Lkis(s, k):\n",
    "    print(f'len(s) = {len(s)}')\n",
    "    ans, counter = 0, 1\n",
    "    for i in range(len(s)):\n",
    "        if abs(ord(s[i]) - ord(s[i - 1])) <= k:\n",
    "            counter += 1\n",
    "        else:\n",
    "            ans = max(ans, counter)\n",
    "            counter = 1\n",
    "        print(f'ans = {ans}, counter = {counter}')\n",
    "    return(max(ans, counter))"
   ]
  }
 ],
 "metadata": {
  "kernelspec": {
   "display_name": "Python 3",
   "language": "python",
   "name": "python3"
  },
  "language_info": {
   "codemirror_mode": {
    "name": "ipython",
    "version": 3
   },
   "file_extension": ".py",
   "mimetype": "text/x-python",
   "name": "python",
   "nbconvert_exporter": "python",
   "pygments_lexer": "ipython3",
   "version": "3.6.7"
  }
 },
 "nbformat": 4,
 "nbformat_minor": 4
}
